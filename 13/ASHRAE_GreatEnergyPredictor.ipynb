{
 "cells": [
  {
   "cell_type": "code",
   "execution_count": 1,
   "metadata": {},
   "outputs": [],
   "source": [
    "import matplotlib.pyplot as plt\n",
    "import numpy as np\n",
    "import pandas as pd\n",
    "from sklearn.model_selection import train_test_split\n",
    "from sklearn.metrics import confusion_matrix ,precision_score\n",
    "from tensorflow import keras\n",
    "from tensorflow.keras.layers import Dense, Dropout\n",
    "from tensorflow.keras.models import Sequential\n",
    "%matplotlib inline"
   ]
  },
  {
   "cell_type": "code",
   "execution_count": 2,
   "metadata": {},
   "outputs": [],
   "source": [
    "import missingno as msno"
   ]
  },
  {
   "cell_type": "markdown",
   "metadata": {},
   "source": [
    "# 1. 데이터 load"
   ]
  },
  {
   "cell_type": "code",
   "execution_count": 3,
   "metadata": {},
   "outputs": [],
   "source": [
    "building = pd.read_csv(\"ashrae-energy-prediction/building_metadata.csv\");\n",
    "train = pd.read_csv(\"ashrae-energy-prediction/train.csv\");\n",
    "test = pd.read_csv(\"ashrae-energy-prediction/test.csv\");\n",
    "weather_train = pd.read_csv(\"ashrae-energy-prediction/weather_train.csv\");\n",
    "weather_test = pd.read_csv(\"ashrae-energy-prediction/weather_test.csv\");\n",
    "sample_submission = pd.read_csv(\"ashrae-energy-prediction/sample_submission.csv\");"
   ]
  },
  {
   "cell_type": "code",
   "execution_count": 4,
   "metadata": {},
   "outputs": [
    {
     "data": {
      "text/html": [
       "<div>\n",
       "<style scoped>\n",
       "    .dataframe tbody tr th:only-of-type {\n",
       "        vertical-align: middle;\n",
       "    }\n",
       "\n",
       "    .dataframe tbody tr th {\n",
       "        vertical-align: top;\n",
       "    }\n",
       "\n",
       "    .dataframe thead th {\n",
       "        text-align: right;\n",
       "    }\n",
       "</style>\n",
       "<table border=\"1\" class=\"dataframe\">\n",
       "  <thead>\n",
       "    <tr style=\"text-align: right;\">\n",
       "      <th></th>\n",
       "      <th>site_id</th>\n",
       "      <th>building_id</th>\n",
       "      <th>primary_use</th>\n",
       "      <th>square_feet</th>\n",
       "      <th>year_built</th>\n",
       "      <th>floor_count</th>\n",
       "    </tr>\n",
       "  </thead>\n",
       "  <tbody>\n",
       "    <tr>\n",
       "      <th>0</th>\n",
       "      <td>0</td>\n",
       "      <td>0</td>\n",
       "      <td>Education</td>\n",
       "      <td>7432</td>\n",
       "      <td>2008.0</td>\n",
       "      <td>NaN</td>\n",
       "    </tr>\n",
       "    <tr>\n",
       "      <th>1</th>\n",
       "      <td>0</td>\n",
       "      <td>1</td>\n",
       "      <td>Education</td>\n",
       "      <td>2720</td>\n",
       "      <td>2004.0</td>\n",
       "      <td>NaN</td>\n",
       "    </tr>\n",
       "    <tr>\n",
       "      <th>2</th>\n",
       "      <td>0</td>\n",
       "      <td>2</td>\n",
       "      <td>Education</td>\n",
       "      <td>5376</td>\n",
       "      <td>1991.0</td>\n",
       "      <td>NaN</td>\n",
       "    </tr>\n",
       "    <tr>\n",
       "      <th>3</th>\n",
       "      <td>0</td>\n",
       "      <td>3</td>\n",
       "      <td>Education</td>\n",
       "      <td>23685</td>\n",
       "      <td>2002.0</td>\n",
       "      <td>NaN</td>\n",
       "    </tr>\n",
       "    <tr>\n",
       "      <th>4</th>\n",
       "      <td>0</td>\n",
       "      <td>4</td>\n",
       "      <td>Education</td>\n",
       "      <td>116607</td>\n",
       "      <td>1975.0</td>\n",
       "      <td>NaN</td>\n",
       "    </tr>\n",
       "  </tbody>\n",
       "</table>\n",
       "</div>"
      ],
      "text/plain": [
       "   site_id  building_id primary_use  square_feet  year_built  floor_count\n",
       "0        0            0   Education         7432      2008.0          NaN\n",
       "1        0            1   Education         2720      2004.0          NaN\n",
       "2        0            2   Education         5376      1991.0          NaN\n",
       "3        0            3   Education        23685      2002.0          NaN\n",
       "4        0            4   Education       116607      1975.0          NaN"
      ]
     },
     "execution_count": 4,
     "metadata": {},
     "output_type": "execute_result"
    }
   ],
   "source": [
    "building.head(5)"
   ]
  },
  {
   "cell_type": "code",
   "execution_count": 5,
   "metadata": {
    "scrolled": true
   },
   "outputs": [
    {
     "data": {
      "text/html": [
       "<div>\n",
       "<style scoped>\n",
       "    .dataframe tbody tr th:only-of-type {\n",
       "        vertical-align: middle;\n",
       "    }\n",
       "\n",
       "    .dataframe tbody tr th {\n",
       "        vertical-align: top;\n",
       "    }\n",
       "\n",
       "    .dataframe thead th {\n",
       "        text-align: right;\n",
       "    }\n",
       "</style>\n",
       "<table border=\"1\" class=\"dataframe\">\n",
       "  <thead>\n",
       "    <tr style=\"text-align: right;\">\n",
       "      <th></th>\n",
       "      <th>building_id</th>\n",
       "      <th>meter</th>\n",
       "      <th>timestamp</th>\n",
       "      <th>meter_reading</th>\n",
       "    </tr>\n",
       "  </thead>\n",
       "  <tbody>\n",
       "    <tr>\n",
       "      <th>0</th>\n",
       "      <td>0</td>\n",
       "      <td>0</td>\n",
       "      <td>2016-01-01 00:00:00</td>\n",
       "      <td>0.0</td>\n",
       "    </tr>\n",
       "    <tr>\n",
       "      <th>1</th>\n",
       "      <td>1</td>\n",
       "      <td>0</td>\n",
       "      <td>2016-01-01 00:00:00</td>\n",
       "      <td>0.0</td>\n",
       "    </tr>\n",
       "    <tr>\n",
       "      <th>2</th>\n",
       "      <td>2</td>\n",
       "      <td>0</td>\n",
       "      <td>2016-01-01 00:00:00</td>\n",
       "      <td>0.0</td>\n",
       "    </tr>\n",
       "    <tr>\n",
       "      <th>3</th>\n",
       "      <td>3</td>\n",
       "      <td>0</td>\n",
       "      <td>2016-01-01 00:00:00</td>\n",
       "      <td>0.0</td>\n",
       "    </tr>\n",
       "    <tr>\n",
       "      <th>4</th>\n",
       "      <td>4</td>\n",
       "      <td>0</td>\n",
       "      <td>2016-01-01 00:00:00</td>\n",
       "      <td>0.0</td>\n",
       "    </tr>\n",
       "  </tbody>\n",
       "</table>\n",
       "</div>"
      ],
      "text/plain": [
       "   building_id  meter            timestamp  meter_reading\n",
       "0            0      0  2016-01-01 00:00:00            0.0\n",
       "1            1      0  2016-01-01 00:00:00            0.0\n",
       "2            2      0  2016-01-01 00:00:00            0.0\n",
       "3            3      0  2016-01-01 00:00:00            0.0\n",
       "4            4      0  2016-01-01 00:00:00            0.0"
      ]
     },
     "execution_count": 5,
     "metadata": {},
     "output_type": "execute_result"
    }
   ],
   "source": [
    "train.head(5)"
   ]
  },
  {
   "cell_type": "code",
   "execution_count": 6,
   "metadata": {},
   "outputs": [
    {
     "data": {
      "text/html": [
       "<div>\n",
       "<style scoped>\n",
       "    .dataframe tbody tr th:only-of-type {\n",
       "        vertical-align: middle;\n",
       "    }\n",
       "\n",
       "    .dataframe tbody tr th {\n",
       "        vertical-align: top;\n",
       "    }\n",
       "\n",
       "    .dataframe thead th {\n",
       "        text-align: right;\n",
       "    }\n",
       "</style>\n",
       "<table border=\"1\" class=\"dataframe\">\n",
       "  <thead>\n",
       "    <tr style=\"text-align: right;\">\n",
       "      <th></th>\n",
       "      <th>row_id</th>\n",
       "      <th>building_id</th>\n",
       "      <th>meter</th>\n",
       "      <th>timestamp</th>\n",
       "    </tr>\n",
       "  </thead>\n",
       "  <tbody>\n",
       "    <tr>\n",
       "      <th>0</th>\n",
       "      <td>0</td>\n",
       "      <td>0</td>\n",
       "      <td>0</td>\n",
       "      <td>2017-01-01 00:00:00</td>\n",
       "    </tr>\n",
       "    <tr>\n",
       "      <th>1</th>\n",
       "      <td>1</td>\n",
       "      <td>1</td>\n",
       "      <td>0</td>\n",
       "      <td>2017-01-01 00:00:00</td>\n",
       "    </tr>\n",
       "    <tr>\n",
       "      <th>2</th>\n",
       "      <td>2</td>\n",
       "      <td>2</td>\n",
       "      <td>0</td>\n",
       "      <td>2017-01-01 00:00:00</td>\n",
       "    </tr>\n",
       "    <tr>\n",
       "      <th>3</th>\n",
       "      <td>3</td>\n",
       "      <td>3</td>\n",
       "      <td>0</td>\n",
       "      <td>2017-01-01 00:00:00</td>\n",
       "    </tr>\n",
       "    <tr>\n",
       "      <th>4</th>\n",
       "      <td>4</td>\n",
       "      <td>4</td>\n",
       "      <td>0</td>\n",
       "      <td>2017-01-01 00:00:00</td>\n",
       "    </tr>\n",
       "  </tbody>\n",
       "</table>\n",
       "</div>"
      ],
      "text/plain": [
       "   row_id  building_id  meter            timestamp\n",
       "0       0            0      0  2017-01-01 00:00:00\n",
       "1       1            1      0  2017-01-01 00:00:00\n",
       "2       2            2      0  2017-01-01 00:00:00\n",
       "3       3            3      0  2017-01-01 00:00:00\n",
       "4       4            4      0  2017-01-01 00:00:00"
      ]
     },
     "execution_count": 6,
     "metadata": {},
     "output_type": "execute_result"
    }
   ],
   "source": [
    "test.head(5)"
   ]
  },
  {
   "cell_type": "code",
   "execution_count": 7,
   "metadata": {
    "scrolled": true
   },
   "outputs": [
    {
     "data": {
      "text/html": [
       "<div>\n",
       "<style scoped>\n",
       "    .dataframe tbody tr th:only-of-type {\n",
       "        vertical-align: middle;\n",
       "    }\n",
       "\n",
       "    .dataframe tbody tr th {\n",
       "        vertical-align: top;\n",
       "    }\n",
       "\n",
       "    .dataframe thead th {\n",
       "        text-align: right;\n",
       "    }\n",
       "</style>\n",
       "<table border=\"1\" class=\"dataframe\">\n",
       "  <thead>\n",
       "    <tr style=\"text-align: right;\">\n",
       "      <th></th>\n",
       "      <th>site_id</th>\n",
       "      <th>timestamp</th>\n",
       "      <th>air_temperature</th>\n",
       "      <th>cloud_coverage</th>\n",
       "      <th>dew_temperature</th>\n",
       "      <th>precip_depth_1_hr</th>\n",
       "      <th>sea_level_pressure</th>\n",
       "      <th>wind_direction</th>\n",
       "      <th>wind_speed</th>\n",
       "    </tr>\n",
       "  </thead>\n",
       "  <tbody>\n",
       "    <tr>\n",
       "      <th>0</th>\n",
       "      <td>0</td>\n",
       "      <td>2016-01-01 00:00:00</td>\n",
       "      <td>25.0</td>\n",
       "      <td>6.0</td>\n",
       "      <td>20.0</td>\n",
       "      <td>NaN</td>\n",
       "      <td>1019.7</td>\n",
       "      <td>0.0</td>\n",
       "      <td>0.0</td>\n",
       "    </tr>\n",
       "    <tr>\n",
       "      <th>1</th>\n",
       "      <td>0</td>\n",
       "      <td>2016-01-01 01:00:00</td>\n",
       "      <td>24.4</td>\n",
       "      <td>NaN</td>\n",
       "      <td>21.1</td>\n",
       "      <td>-1.0</td>\n",
       "      <td>1020.2</td>\n",
       "      <td>70.0</td>\n",
       "      <td>1.5</td>\n",
       "    </tr>\n",
       "    <tr>\n",
       "      <th>2</th>\n",
       "      <td>0</td>\n",
       "      <td>2016-01-01 02:00:00</td>\n",
       "      <td>22.8</td>\n",
       "      <td>2.0</td>\n",
       "      <td>21.1</td>\n",
       "      <td>0.0</td>\n",
       "      <td>1020.2</td>\n",
       "      <td>0.0</td>\n",
       "      <td>0.0</td>\n",
       "    </tr>\n",
       "    <tr>\n",
       "      <th>3</th>\n",
       "      <td>0</td>\n",
       "      <td>2016-01-01 03:00:00</td>\n",
       "      <td>21.1</td>\n",
       "      <td>2.0</td>\n",
       "      <td>20.6</td>\n",
       "      <td>0.0</td>\n",
       "      <td>1020.1</td>\n",
       "      <td>0.0</td>\n",
       "      <td>0.0</td>\n",
       "    </tr>\n",
       "    <tr>\n",
       "      <th>4</th>\n",
       "      <td>0</td>\n",
       "      <td>2016-01-01 04:00:00</td>\n",
       "      <td>20.0</td>\n",
       "      <td>2.0</td>\n",
       "      <td>20.0</td>\n",
       "      <td>-1.0</td>\n",
       "      <td>1020.0</td>\n",
       "      <td>250.0</td>\n",
       "      <td>2.6</td>\n",
       "    </tr>\n",
       "  </tbody>\n",
       "</table>\n",
       "</div>"
      ],
      "text/plain": [
       "   site_id            timestamp  air_temperature  cloud_coverage  \\\n",
       "0        0  2016-01-01 00:00:00             25.0             6.0   \n",
       "1        0  2016-01-01 01:00:00             24.4             NaN   \n",
       "2        0  2016-01-01 02:00:00             22.8             2.0   \n",
       "3        0  2016-01-01 03:00:00             21.1             2.0   \n",
       "4        0  2016-01-01 04:00:00             20.0             2.0   \n",
       "\n",
       "   dew_temperature  precip_depth_1_hr  sea_level_pressure  wind_direction  \\\n",
       "0             20.0                NaN              1019.7             0.0   \n",
       "1             21.1               -1.0              1020.2            70.0   \n",
       "2             21.1                0.0              1020.2             0.0   \n",
       "3             20.6                0.0              1020.1             0.0   \n",
       "4             20.0               -1.0              1020.0           250.0   \n",
       "\n",
       "   wind_speed  \n",
       "0         0.0  \n",
       "1         1.5  \n",
       "2         0.0  \n",
       "3         0.0  \n",
       "4         2.6  "
      ]
     },
     "execution_count": 7,
     "metadata": {},
     "output_type": "execute_result"
    }
   ],
   "source": [
    "weather_train.head(5)"
   ]
  },
  {
   "cell_type": "code",
   "execution_count": 8,
   "metadata": {
    "scrolled": true
   },
   "outputs": [
    {
     "data": {
      "text/html": [
       "<div>\n",
       "<style scoped>\n",
       "    .dataframe tbody tr th:only-of-type {\n",
       "        vertical-align: middle;\n",
       "    }\n",
       "\n",
       "    .dataframe tbody tr th {\n",
       "        vertical-align: top;\n",
       "    }\n",
       "\n",
       "    .dataframe thead th {\n",
       "        text-align: right;\n",
       "    }\n",
       "</style>\n",
       "<table border=\"1\" class=\"dataframe\">\n",
       "  <thead>\n",
       "    <tr style=\"text-align: right;\">\n",
       "      <th></th>\n",
       "      <th>site_id</th>\n",
       "      <th>timestamp</th>\n",
       "      <th>air_temperature</th>\n",
       "      <th>cloud_coverage</th>\n",
       "      <th>dew_temperature</th>\n",
       "      <th>precip_depth_1_hr</th>\n",
       "      <th>sea_level_pressure</th>\n",
       "      <th>wind_direction</th>\n",
       "      <th>wind_speed</th>\n",
       "    </tr>\n",
       "  </thead>\n",
       "  <tbody>\n",
       "    <tr>\n",
       "      <th>0</th>\n",
       "      <td>0</td>\n",
       "      <td>2017-01-01 00:00:00</td>\n",
       "      <td>17.8</td>\n",
       "      <td>4.0</td>\n",
       "      <td>11.7</td>\n",
       "      <td>NaN</td>\n",
       "      <td>1021.4</td>\n",
       "      <td>100.0</td>\n",
       "      <td>3.6</td>\n",
       "    </tr>\n",
       "    <tr>\n",
       "      <th>1</th>\n",
       "      <td>0</td>\n",
       "      <td>2017-01-01 01:00:00</td>\n",
       "      <td>17.8</td>\n",
       "      <td>2.0</td>\n",
       "      <td>12.8</td>\n",
       "      <td>0.0</td>\n",
       "      <td>1022.0</td>\n",
       "      <td>130.0</td>\n",
       "      <td>3.1</td>\n",
       "    </tr>\n",
       "    <tr>\n",
       "      <th>2</th>\n",
       "      <td>0</td>\n",
       "      <td>2017-01-01 02:00:00</td>\n",
       "      <td>16.1</td>\n",
       "      <td>0.0</td>\n",
       "      <td>12.8</td>\n",
       "      <td>0.0</td>\n",
       "      <td>1021.9</td>\n",
       "      <td>140.0</td>\n",
       "      <td>3.1</td>\n",
       "    </tr>\n",
       "    <tr>\n",
       "      <th>3</th>\n",
       "      <td>0</td>\n",
       "      <td>2017-01-01 03:00:00</td>\n",
       "      <td>17.2</td>\n",
       "      <td>0.0</td>\n",
       "      <td>13.3</td>\n",
       "      <td>0.0</td>\n",
       "      <td>1022.2</td>\n",
       "      <td>140.0</td>\n",
       "      <td>3.1</td>\n",
       "    </tr>\n",
       "    <tr>\n",
       "      <th>4</th>\n",
       "      <td>0</td>\n",
       "      <td>2017-01-01 04:00:00</td>\n",
       "      <td>16.7</td>\n",
       "      <td>2.0</td>\n",
       "      <td>13.3</td>\n",
       "      <td>0.0</td>\n",
       "      <td>1022.3</td>\n",
       "      <td>130.0</td>\n",
       "      <td>2.6</td>\n",
       "    </tr>\n",
       "  </tbody>\n",
       "</table>\n",
       "</div>"
      ],
      "text/plain": [
       "   site_id            timestamp  air_temperature  cloud_coverage  \\\n",
       "0        0  2017-01-01 00:00:00             17.8             4.0   \n",
       "1        0  2017-01-01 01:00:00             17.8             2.0   \n",
       "2        0  2017-01-01 02:00:00             16.1             0.0   \n",
       "3        0  2017-01-01 03:00:00             17.2             0.0   \n",
       "4        0  2017-01-01 04:00:00             16.7             2.0   \n",
       "\n",
       "   dew_temperature  precip_depth_1_hr  sea_level_pressure  wind_direction  \\\n",
       "0             11.7                NaN              1021.4           100.0   \n",
       "1             12.8                0.0              1022.0           130.0   \n",
       "2             12.8                0.0              1021.9           140.0   \n",
       "3             13.3                0.0              1022.2           140.0   \n",
       "4             13.3                0.0              1022.3           130.0   \n",
       "\n",
       "   wind_speed  \n",
       "0         3.6  \n",
       "1         3.1  \n",
       "2         3.1  \n",
       "3         3.1  \n",
       "4         2.6  "
      ]
     },
     "execution_count": 8,
     "metadata": {},
     "output_type": "execute_result"
    }
   ],
   "source": [
    "weather_test.head(5)"
   ]
  },
  {
   "cell_type": "code",
   "execution_count": 9,
   "metadata": {},
   "outputs": [
    {
     "data": {
      "text/html": [
       "<div>\n",
       "<style scoped>\n",
       "    .dataframe tbody tr th:only-of-type {\n",
       "        vertical-align: middle;\n",
       "    }\n",
       "\n",
       "    .dataframe tbody tr th {\n",
       "        vertical-align: top;\n",
       "    }\n",
       "\n",
       "    .dataframe thead th {\n",
       "        text-align: right;\n",
       "    }\n",
       "</style>\n",
       "<table border=\"1\" class=\"dataframe\">\n",
       "  <thead>\n",
       "    <tr style=\"text-align: right;\">\n",
       "      <th></th>\n",
       "      <th>row_id</th>\n",
       "      <th>meter_reading</th>\n",
       "    </tr>\n",
       "  </thead>\n",
       "  <tbody>\n",
       "    <tr>\n",
       "      <th>0</th>\n",
       "      <td>0</td>\n",
       "      <td>0</td>\n",
       "    </tr>\n",
       "    <tr>\n",
       "      <th>1</th>\n",
       "      <td>1</td>\n",
       "      <td>0</td>\n",
       "    </tr>\n",
       "    <tr>\n",
       "      <th>2</th>\n",
       "      <td>2</td>\n",
       "      <td>0</td>\n",
       "    </tr>\n",
       "    <tr>\n",
       "      <th>3</th>\n",
       "      <td>3</td>\n",
       "      <td>0</td>\n",
       "    </tr>\n",
       "    <tr>\n",
       "      <th>4</th>\n",
       "      <td>4</td>\n",
       "      <td>0</td>\n",
       "    </tr>\n",
       "  </tbody>\n",
       "</table>\n",
       "</div>"
      ],
      "text/plain": [
       "   row_id  meter_reading\n",
       "0       0              0\n",
       "1       1              0\n",
       "2       2              0\n",
       "3       3              0\n",
       "4       4              0"
      ]
     },
     "execution_count": 9,
     "metadata": {},
     "output_type": "execute_result"
    }
   ],
   "source": [
    "sample_submission.head(5)"
   ]
  },
  {
   "cell_type": "markdown",
   "metadata": {},
   "source": [
    "# 2. Data Merge"
   ]
  },
  {
   "cell_type": "markdown",
   "metadata": {},
   "source": [
    "### 년/월/일/시/분/초 "
   ]
  },
  {
   "cell_type": "code",
   "execution_count": 10,
   "metadata": {},
   "outputs": [],
   "source": [
    "train[\"year\"] = (train[\"timestamp\"].str[:4]).astype(int)\n",
    "train[\"month\"] = (train[\"timestamp\"].str[5:7]).astype(int)\n",
    "train[\"day\"] = (train[\"timestamp\"].str[8:10]).astype(int)\n",
    "train[\"hour\"] = (train[\"timestamp\"].str[11:13]).astype(int)\n",
    "train[\"minute\"] = (train[\"timestamp\"].str[14:16]).astype(int)\n",
    "train[\"second\"] = (train[\"timestamp\"].str[17:19]).astype(int)"
   ]
  },
  {
   "cell_type": "code",
   "execution_count": 11,
   "metadata": {
    "scrolled": true
   },
   "outputs": [
    {
     "data": {
      "text/html": [
       "<div>\n",
       "<style scoped>\n",
       "    .dataframe tbody tr th:only-of-type {\n",
       "        vertical-align: middle;\n",
       "    }\n",
       "\n",
       "    .dataframe tbody tr th {\n",
       "        vertical-align: top;\n",
       "    }\n",
       "\n",
       "    .dataframe thead th {\n",
       "        text-align: right;\n",
       "    }\n",
       "</style>\n",
       "<table border=\"1\" class=\"dataframe\">\n",
       "  <thead>\n",
       "    <tr style=\"text-align: right;\">\n",
       "      <th></th>\n",
       "      <th>building_id</th>\n",
       "      <th>meter</th>\n",
       "      <th>timestamp</th>\n",
       "      <th>meter_reading</th>\n",
       "      <th>year</th>\n",
       "      <th>month</th>\n",
       "      <th>day</th>\n",
       "      <th>hour</th>\n",
       "      <th>minute</th>\n",
       "      <th>second</th>\n",
       "      <th>...</th>\n",
       "      <th>square_feet</th>\n",
       "      <th>year_built</th>\n",
       "      <th>floor_count</th>\n",
       "      <th>air_temperature</th>\n",
       "      <th>cloud_coverage</th>\n",
       "      <th>dew_temperature</th>\n",
       "      <th>precip_depth_1_hr</th>\n",
       "      <th>sea_level_pressure</th>\n",
       "      <th>wind_direction</th>\n",
       "      <th>wind_speed</th>\n",
       "    </tr>\n",
       "  </thead>\n",
       "  <tbody>\n",
       "    <tr>\n",
       "      <th>0</th>\n",
       "      <td>0</td>\n",
       "      <td>0</td>\n",
       "      <td>2016-01-01 00:00:00</td>\n",
       "      <td>0.0</td>\n",
       "      <td>2016</td>\n",
       "      <td>1</td>\n",
       "      <td>1</td>\n",
       "      <td>0</td>\n",
       "      <td>0</td>\n",
       "      <td>0</td>\n",
       "      <td>...</td>\n",
       "      <td>7432</td>\n",
       "      <td>2008.0</td>\n",
       "      <td>NaN</td>\n",
       "      <td>25.0</td>\n",
       "      <td>6.0</td>\n",
       "      <td>20.0</td>\n",
       "      <td>NaN</td>\n",
       "      <td>1019.7</td>\n",
       "      <td>0.0</td>\n",
       "      <td>0.0</td>\n",
       "    </tr>\n",
       "    <tr>\n",
       "      <th>1</th>\n",
       "      <td>1</td>\n",
       "      <td>0</td>\n",
       "      <td>2016-01-01 00:00:00</td>\n",
       "      <td>0.0</td>\n",
       "      <td>2016</td>\n",
       "      <td>1</td>\n",
       "      <td>1</td>\n",
       "      <td>0</td>\n",
       "      <td>0</td>\n",
       "      <td>0</td>\n",
       "      <td>...</td>\n",
       "      <td>2720</td>\n",
       "      <td>2004.0</td>\n",
       "      <td>NaN</td>\n",
       "      <td>25.0</td>\n",
       "      <td>6.0</td>\n",
       "      <td>20.0</td>\n",
       "      <td>NaN</td>\n",
       "      <td>1019.7</td>\n",
       "      <td>0.0</td>\n",
       "      <td>0.0</td>\n",
       "    </tr>\n",
       "    <tr>\n",
       "      <th>2</th>\n",
       "      <td>2</td>\n",
       "      <td>0</td>\n",
       "      <td>2016-01-01 00:00:00</td>\n",
       "      <td>0.0</td>\n",
       "      <td>2016</td>\n",
       "      <td>1</td>\n",
       "      <td>1</td>\n",
       "      <td>0</td>\n",
       "      <td>0</td>\n",
       "      <td>0</td>\n",
       "      <td>...</td>\n",
       "      <td>5376</td>\n",
       "      <td>1991.0</td>\n",
       "      <td>NaN</td>\n",
       "      <td>25.0</td>\n",
       "      <td>6.0</td>\n",
       "      <td>20.0</td>\n",
       "      <td>NaN</td>\n",
       "      <td>1019.7</td>\n",
       "      <td>0.0</td>\n",
       "      <td>0.0</td>\n",
       "    </tr>\n",
       "    <tr>\n",
       "      <th>3</th>\n",
       "      <td>3</td>\n",
       "      <td>0</td>\n",
       "      <td>2016-01-01 00:00:00</td>\n",
       "      <td>0.0</td>\n",
       "      <td>2016</td>\n",
       "      <td>1</td>\n",
       "      <td>1</td>\n",
       "      <td>0</td>\n",
       "      <td>0</td>\n",
       "      <td>0</td>\n",
       "      <td>...</td>\n",
       "      <td>23685</td>\n",
       "      <td>2002.0</td>\n",
       "      <td>NaN</td>\n",
       "      <td>25.0</td>\n",
       "      <td>6.0</td>\n",
       "      <td>20.0</td>\n",
       "      <td>NaN</td>\n",
       "      <td>1019.7</td>\n",
       "      <td>0.0</td>\n",
       "      <td>0.0</td>\n",
       "    </tr>\n",
       "    <tr>\n",
       "      <th>4</th>\n",
       "      <td>4</td>\n",
       "      <td>0</td>\n",
       "      <td>2016-01-01 00:00:00</td>\n",
       "      <td>0.0</td>\n",
       "      <td>2016</td>\n",
       "      <td>1</td>\n",
       "      <td>1</td>\n",
       "      <td>0</td>\n",
       "      <td>0</td>\n",
       "      <td>0</td>\n",
       "      <td>...</td>\n",
       "      <td>116607</td>\n",
       "      <td>1975.0</td>\n",
       "      <td>NaN</td>\n",
       "      <td>25.0</td>\n",
       "      <td>6.0</td>\n",
       "      <td>20.0</td>\n",
       "      <td>NaN</td>\n",
       "      <td>1019.7</td>\n",
       "      <td>0.0</td>\n",
       "      <td>0.0</td>\n",
       "    </tr>\n",
       "  </tbody>\n",
       "</table>\n",
       "<p>5 rows × 22 columns</p>\n",
       "</div>"
      ],
      "text/plain": [
       "   building_id  meter            timestamp  meter_reading  year  month  day  \\\n",
       "0            0      0  2016-01-01 00:00:00            0.0  2016      1    1   \n",
       "1            1      0  2016-01-01 00:00:00            0.0  2016      1    1   \n",
       "2            2      0  2016-01-01 00:00:00            0.0  2016      1    1   \n",
       "3            3      0  2016-01-01 00:00:00            0.0  2016      1    1   \n",
       "4            4      0  2016-01-01 00:00:00            0.0  2016      1    1   \n",
       "\n",
       "   hour  minute  second  ...  square_feet year_built  floor_count  \\\n",
       "0     0       0       0  ...         7432     2008.0          NaN   \n",
       "1     0       0       0  ...         2720     2004.0          NaN   \n",
       "2     0       0       0  ...         5376     1991.0          NaN   \n",
       "3     0       0       0  ...        23685     2002.0          NaN   \n",
       "4     0       0       0  ...       116607     1975.0          NaN   \n",
       "\n",
       "   air_temperature  cloud_coverage  dew_temperature  precip_depth_1_hr  \\\n",
       "0             25.0             6.0             20.0                NaN   \n",
       "1             25.0             6.0             20.0                NaN   \n",
       "2             25.0             6.0             20.0                NaN   \n",
       "3             25.0             6.0             20.0                NaN   \n",
       "4             25.0             6.0             20.0                NaN   \n",
       "\n",
       "   sea_level_pressure  wind_direction  wind_speed  \n",
       "0              1019.7             0.0         0.0  \n",
       "1              1019.7             0.0         0.0  \n",
       "2              1019.7             0.0         0.0  \n",
       "3              1019.7             0.0         0.0  \n",
       "4              1019.7             0.0         0.0  \n",
       "\n",
       "[5 rows x 22 columns]"
      ]
     },
     "execution_count": 11,
     "metadata": {},
     "output_type": "execute_result"
    }
   ],
   "source": [
    "merge_train = pd.merge(train, building,how=\"left\",on=\"building_id\")\n",
    "merge_train = pd.merge(merge_train, weather_train,how=\"left\",on=[\"site_id\",\"timestamp\"])\n",
    "merge_train.head(5)"
   ]
  },
  {
   "cell_type": "markdown",
   "metadata": {},
   "source": [
    "# 3. Data 시각화"
   ]
  },
  {
   "cell_type": "markdown",
   "metadata": {},
   "source": [
    "### 사용처 LabelEncoder"
   ]
  },
  {
   "cell_type": "code",
   "execution_count": 12,
   "metadata": {},
   "outputs": [
    {
     "data": {
      "text/html": [
       "<div>\n",
       "<style scoped>\n",
       "    .dataframe tbody tr th:only-of-type {\n",
       "        vertical-align: middle;\n",
       "    }\n",
       "\n",
       "    .dataframe tbody tr th {\n",
       "        vertical-align: top;\n",
       "    }\n",
       "\n",
       "    .dataframe thead th {\n",
       "        text-align: right;\n",
       "    }\n",
       "</style>\n",
       "<table border=\"1\" class=\"dataframe\">\n",
       "  <thead>\n",
       "    <tr style=\"text-align: right;\">\n",
       "      <th></th>\n",
       "      <th>primary_use_label</th>\n",
       "    </tr>\n",
       "    <tr>\n",
       "      <th>primary_use</th>\n",
       "      <th></th>\n",
       "    </tr>\n",
       "  </thead>\n",
       "  <tbody>\n",
       "    <tr>\n",
       "      <th>Education</th>\n",
       "      <td>0</td>\n",
       "    </tr>\n",
       "    <tr>\n",
       "      <th>Entertainment/public assembly</th>\n",
       "      <td>1</td>\n",
       "    </tr>\n",
       "    <tr>\n",
       "      <th>Food sales and service</th>\n",
       "      <td>2</td>\n",
       "    </tr>\n",
       "    <tr>\n",
       "      <th>Healthcare</th>\n",
       "      <td>3</td>\n",
       "    </tr>\n",
       "    <tr>\n",
       "      <th>Lodging/residential</th>\n",
       "      <td>4</td>\n",
       "    </tr>\n",
       "    <tr>\n",
       "      <th>Manufacturing/industrial</th>\n",
       "      <td>5</td>\n",
       "    </tr>\n",
       "    <tr>\n",
       "      <th>Office</th>\n",
       "      <td>6</td>\n",
       "    </tr>\n",
       "    <tr>\n",
       "      <th>Other</th>\n",
       "      <td>7</td>\n",
       "    </tr>\n",
       "    <tr>\n",
       "      <th>Parking</th>\n",
       "      <td>8</td>\n",
       "    </tr>\n",
       "    <tr>\n",
       "      <th>Public services</th>\n",
       "      <td>9</td>\n",
       "    </tr>\n",
       "    <tr>\n",
       "      <th>Religious worship</th>\n",
       "      <td>10</td>\n",
       "    </tr>\n",
       "    <tr>\n",
       "      <th>Retail</th>\n",
       "      <td>11</td>\n",
       "    </tr>\n",
       "    <tr>\n",
       "      <th>Services</th>\n",
       "      <td>12</td>\n",
       "    </tr>\n",
       "    <tr>\n",
       "      <th>Technology/science</th>\n",
       "      <td>13</td>\n",
       "    </tr>\n",
       "    <tr>\n",
       "      <th>Utility</th>\n",
       "      <td>14</td>\n",
       "    </tr>\n",
       "    <tr>\n",
       "      <th>Warehouse/storage</th>\n",
       "      <td>15</td>\n",
       "    </tr>\n",
       "  </tbody>\n",
       "</table>\n",
       "</div>"
      ],
      "text/plain": [
       "                               primary_use_label\n",
       "primary_use                                     \n",
       "Education                                      0\n",
       "Entertainment/public assembly                  1\n",
       "Food sales and service                         2\n",
       "Healthcare                                     3\n",
       "Lodging/residential                            4\n",
       "Manufacturing/industrial                       5\n",
       "Office                                         6\n",
       "Other                                          7\n",
       "Parking                                        8\n",
       "Public services                                9\n",
       "Religious worship                             10\n",
       "Retail                                        11\n",
       "Services                                      12\n",
       "Technology/science                            13\n",
       "Utility                                       14\n",
       "Warehouse/storage                             15"
      ]
     },
     "execution_count": 12,
     "metadata": {},
     "output_type": "execute_result"
    }
   ],
   "source": [
    "from sklearn import preprocessing\n",
    "\n",
    "label_encoder = preprocessing.LabelEncoder()\n",
    "merge_train[\"primary_use_label\"] = label_encoder.fit_transform(merge_train['primary_use'])\n",
    "primary_use =  merge_train[[\"primary_use\",\"primary_use_label\"]]\n",
    "primary_use = primary_use.drop_duplicates().sort_values(by=['primary_use_label'], axis=0)\n",
    "primary_use = primary_use.set_index(\"primary_use\")\n",
    "primary_use"
   ]
  },
  {
   "cell_type": "code",
   "execution_count": 13,
   "metadata": {},
   "outputs": [
    {
     "data": {
      "text/plain": [
       "array([2016], dtype=int64)"
      ]
     },
     "execution_count": 13,
     "metadata": {},
     "output_type": "execute_result"
    }
   ],
   "source": [
    "merge_train[\"year\"].unique()"
   ]
  },
  {
   "cell_type": "code",
   "execution_count": 14,
   "metadata": {},
   "outputs": [
    {
     "data": {
      "text/plain": [
       "array([0], dtype=int64)"
      ]
     },
     "execution_count": 14,
     "metadata": {},
     "output_type": "execute_result"
    }
   ],
   "source": [
    "merge_train[\"minute\"].unique()"
   ]
  },
  {
   "cell_type": "code",
   "execution_count": 15,
   "metadata": {},
   "outputs": [
    {
     "data": {
      "text/plain": [
       "array([0], dtype=int64)"
      ]
     },
     "execution_count": 15,
     "metadata": {},
     "output_type": "execute_result"
    }
   ],
   "source": [
    "merge_train[\"second\"].unique()"
   ]
  },
  {
   "cell_type": "markdown",
   "metadata": {},
   "source": [
    "### 연도(2016), 분(0), 초(0) 모두 데이터가 동일하기 때문에 의미없는 데이터로 판단"
   ]
  },
  {
   "cell_type": "code",
   "execution_count": 16,
   "metadata": {},
   "outputs": [],
   "source": [
    "merge_train = merge_train.drop([\"year\",\"minute\",\"second\"],axis=1)"
   ]
  },
  {
   "cell_type": "code",
   "execution_count": 17,
   "metadata": {},
   "outputs": [],
   "source": [
    "import seaborn as sns"
   ]
  },
  {
   "cell_type": "code",
   "execution_count": 18,
   "metadata": {},
   "outputs": [
    {
     "data": {
      "text/plain": [
       "[Text(0, 0.5, 'meter_reading'), Text(0.5, 1.0, 'time')]"
      ]
     },
     "execution_count": 18,
     "metadata": {},
     "output_type": "execute_result"
    },
    {
     "data": {
      "image/png": "[encoded data removed]",
      "text/plain": [
       "<Figure size 1296x576 with 4 Axes>"
      ]
     },
     "metadata": {
      "needs_background": "light"
     },
     "output_type": "display_data"
    }
   ],
   "source": [
    "grp1 = merge_train[[\"month\",\"meter_reading\"]]\n",
    "grp1 = grp1.groupby([\"month\"]).sum()\n",
    "grp1[\"month\"] = grp1.index\n",
    "#sns.barplot(data=grp1, x=\"month\", y=\"meter_reading\")\n",
    "\n",
    "grp2 = merge_train[[\"day\",\"meter_reading\"]]\n",
    "grp2 = grp2.groupby(['day']).sum()\n",
    "grp2[\"day\"] = grp2.index\n",
    "#sns.barplot(data=grp2, x=\"day\", y=\"meter_reading\")\n",
    "\n",
    "grp3 = merge_train[[\"hour\",\"meter_reading\"]]\n",
    "grp3 = grp3.groupby(['hour']).sum()\n",
    "grp3[\"hour\"] = grp3.index\n",
    "#sns.barplot(data=grp3, x=\"hour\", y=\"meter_reading\")\n",
    "\n",
    "grp4 = merge_train[[\"primary_use_label\",\"meter_reading\"]]\n",
    "grp4 = grp4.groupby(['primary_use_label']).sum()\n",
    "grp4[\"primary_use_label\"] = grp4.index\n",
    "#sns.barplot(data=grp4, x=\"primary_use\", y=\"meter_reading\")\n",
    "\n",
    "\n",
    "figure, ((ax1,ax2),(ax3,ax4)) = plt.subplots(nrows=2, ncols=2) # row 2개 col 3개로 표현\n",
    "figure.set_size_inches(18,8)\n",
    "\n",
    "sns.barplot(data=grp4, x=\"primary_use_label\", y=\"meter_reading\", ax=ax1)\n",
    "sns.barplot(data=grp1, x=\"month\", y=\"meter_reading\", ax=ax2)\n",
    "sns.barplot(data=grp2, x=\"day\", y=\"meter_reading\", ax=ax3)\n",
    "sns.barplot(data=grp3, x=\"hour\", y=\"meter_reading\", ax=ax4)\n",
    "         \n",
    "ax1.set(ylabel='meter_reading', title= \"primary_use\")\n",
    "ax2.set(ylabel='meter_reading', title= \"month\")\n",
    "ax3.set(ylabel='meter_reading', title= \"day\")\n",
    "ax4.set(ylabel='meter_reading', title= \"time\")"
   ]
  },
  {
   "cell_type": "markdown",
   "metadata": {},
   "source": [
    "### - Education 건물이 가장 사용량이 높다.\n",
    "월별 사용량은 3~6월에 가장 많고 7월이 가장 적다.\n",
    "일별 사용랑과 시간별 사용량은 모두 비슷."
   ]
  },
  {
   "cell_type": "code",
   "execution_count": 19,
   "metadata": {},
   "outputs": [
    {
     "name": "stderr",
     "output_type": "stream",
     "text": [
      "C:\\Users\\User\\Anaconda3\\lib\\site-packages\\ipykernel_launcher.py:4: SettingWithCopyWarning: \n",
      "A value is trying to be set on a copy of a slice from a DataFrame\n",
      "\n",
      "See the caveats in the documentation: http://pandas.pydata.org/pandas-docs/stable/indexing.html#indexing-view-versus-copy\n",
      "  after removing the cwd from sys.path.\n",
      "C:\\Users\\User\\Anaconda3\\lib\\site-packages\\pandas\\core\\indexing.py:190: SettingWithCopyWarning: \n",
      "A value is trying to be set on a copy of a slice from a DataFrame\n",
      "\n",
      "See the caveats in the documentation: http://pandas.pydata.org/pandas-docs/stable/indexing.html#indexing-view-versus-copy\n",
      "  self._setitem_with_indexer(indexer, value)\n",
      "C:\\Users\\User\\Anaconda3\\lib\\site-packages\\ipykernel_launcher.py:5: SettingWithCopyWarning: \n",
      "A value is trying to be set on a copy of a slice from a DataFrame\n",
      "\n",
      "See the caveats in the documentation: http://pandas.pydata.org/pandas-docs/stable/indexing.html#indexing-view-versus-copy\n",
      "  \"\"\"\n",
      "C:\\Users\\User\\Anaconda3\\lib\\site-packages\\ipykernel_launcher.py:6: SettingWithCopyWarning: \n",
      "A value is trying to be set on a copy of a slice from a DataFrame\n",
      "\n",
      "See the caveats in the documentation: http://pandas.pydata.org/pandas-docs/stable/indexing.html#indexing-view-versus-copy\n",
      "  \n",
      "C:\\Users\\User\\Anaconda3\\lib\\site-packages\\ipykernel_launcher.py:7: SettingWithCopyWarning: \n",
      "A value is trying to be set on a copy of a slice from a DataFrame\n",
      "\n",
      "See the caveats in the documentation: http://pandas.pydata.org/pandas-docs/stable/indexing.html#indexing-view-versus-copy\n",
      "  import sys\n"
     ]
    },
    {
     "data": {
      "text/plain": [
       "<matplotlib.axes._subplots.AxesSubplot at 0x167007db6a0>"
      ]
     },
     "execution_count": 19,
     "metadata": {},
     "output_type": "execute_result"
    },
    {
     "data": {
      "image/png": "[encoded data removed]",
      "text/plain": [
       "<Figure size 432x288 with 1 Axes>"
      ]
     },
     "metadata": {
      "needs_background": "light"
     },
     "output_type": "display_data"
    }
   ],
   "source": [
    "grp5 = merge_train[[\"meter\",\"meter_reading\"]]\n",
    "grp5 = grp5.groupby([\"meter\"]).sum()\n",
    "grp5[\"meter\"] = grp5.index\n",
    "grp5[\"meter\"][0]= \"electricity\"\n",
    "grp5[\"meter\"][1]= \"chilledwater\"\n",
    "grp5[\"meter\"][2]= \"steam\"\n",
    "grp5[\"meter\"][3]= \"hotwater\"\n",
    "sns.barplot(data=grp5, x=\"meter\", y=\"meter_reading\")"
   ]
  },
  {
   "cell_type": "markdown",
   "metadata": {},
   "source": [
    "### 스팀 - 사용량이 가장 높다"
   ]
  },
  {
   "cell_type": "markdown",
   "metadata": {},
   "source": [
    "# 3. 데이터 Null 처리"
   ]
  },
  {
   "cell_type": "code",
   "execution_count": 20,
   "metadata": {},
   "outputs": [
    {
     "data": {
      "text/plain": [
       "<matplotlib.axes._subplots.AxesSubplot at 0x16700c3e0f0>"
      ]
     },
     "execution_count": 20,
     "metadata": {},
     "output_type": "execute_result"
    },
    {
     "data": {
      "image/png": "[encoded data removed]",
      "text/plain": [
       "<Figure size 1800x720 with 2 Axes>"
      ]
     },
     "metadata": {
      "needs_background": "light"
     },
     "output_type": "display_data"
    }
   ],
   "source": [
    "msno.matrix(merge_train.sample(1000))"
   ]
  },
  {
   "cell_type": "markdown",
   "metadata": {},
   "source": [
    "### 공기 섭씨 온도 데이터 null 처리"
   ]
  },
  {
   "cell_type": "code",
   "execution_count": 21,
   "metadata": {},
   "outputs": [
    {
     "data": {
      "text/plain": [
       "air_temperature    0\n",
       "dtype: int64"
      ]
     },
     "execution_count": 21,
     "metadata": {},
     "output_type": "execute_result"
    }
   ],
   "source": [
    "weather_air_avg = merge_train[[\"site_id\",\"month\",\"day\",\"air_temperature\"]]  # 지역별 일자별 평균 날씨정보 입력\n",
    "weather_air_avg = round(weather_air_avg.groupby([\"site_id\",\"month\",\"day\"]).mean(),2)\n",
    "weather_air_avg.isna().sum()"
   ]
  },
  {
   "cell_type": "code",
   "execution_count": 22,
   "metadata": {},
   "outputs": [
    {
     "data": {
      "text/plain": [
       "{(0, 1, 1): 23.34,\n",
       " (0, 1, 2): 19.54,\n",
       " (0, 1, 3): 14.83,\n",
       " (0, 1, 4): 12.67,\n",
       " (0, 1, 5): 14.06,\n",
       " (0, 1, 6): 15.53,\n",
       " (0, 1, 7): 16.49,\n",
       " (0, 1, 8): 17.48,\n",
       " (0, 1, 9): 17.34,\n",
       " (0, 1, 10): 19.25,\n",
       " (0, 1, 11): 11.49,\n",
       " (0, 1, 12): 10.7,\n",
       " (0, 1, 13): 11.74,\n",
       " (0, 1, 14): 13.1,\n",
       " (0, 1, 15): 18.73,\n",
       " (0, 1, 16): 18.42,\n",
       " (0, 1, 17): 17.13,\n",
       " (0, 1, 18): 11.15,\n",
       " (0, 1, 19): 9.46,\n",
       " (0, 1, 20): 9.44,\n",
       " (0, 1, 21): 13.24,\n",
       " (0, 1, 22): 16.93,\n",
       " (0, 1, 23): 10.69,\n",
       " (0, 1, 24): 6.34,\n",
       " (0, 1, 25): 10.17,\n",
       " (0, 1, 26): 16.04,\n",
       " (0, 1, 27): 18.33,\n",
       " (0, 1, 28): 18.0,\n",
       " (0, 1, 29): 15.23,\n",
       " (0, 1, 30): 13.9,\n",
       " (0, 1, 31): 15.89,\n",
       " (0, 2, 1): 20.5,\n",
       " (0, 2, 2): 21.39,\n",
       " (0, 2, 3): 23.24,\n",
       " (0, 2, 4): 22.93,\n",
       " (0, 2, 5): 13.34,\n",
       " (0, 2, 6): 12.82,\n",
       " (0, 2, 7): 10.65,\n",
       " (0, 2, 8): 10.51,\n",
       " (0, 2, 9): 13.26,\n",
       " (0, 2, 10): 10.84,\n",
       " (0, 2, 11): 9.88,\n",
       " (0, 2, 12): 13.72,\n",
       " (0, 2, 13): 16.49,\n",
       " (0, 2, 14): 13.4,\n",
       " (0, 2, 15): 17.37,\n",
       " (0, 2, 16): 19.73,\n",
       " (0, 2, 17): 16.04,\n",
       " (0, 2, 18): 16.72,\n",
       " (0, 2, 19): 16.37,\n",
       " (0, 2, 20): 17.15,\n",
       " (0, 2, 21): 17.93,\n",
       " (0, 2, 22): 19.55,\n",
       " (0, 2, 23): 20.98,\n",
       " (0, 2, 24): 21.63,\n",
       " (0, 2, 25): 15.3,\n",
       " (0, 2, 26): 12.75,\n",
       " (0, 2, 27): 12.15,\n",
       " (0, 2, 28): 13.95,\n",
       " (0, 2, 29): 17.7,\n",
       " (0, 3, 1): 19.2,\n",
       " (0, 3, 2): 20.25,\n",
       " (0, 3, 3): 19.53,\n",
       " (0, 3, 4): 20.45,\n",
       " (0, 3, 5): 16.46,\n",
       " (0, 3, 6): 17.46,\n",
       " (0, 3, 7): 17.58,\n",
       " (0, 3, 8): 20.09,\n",
       " (0, 3, 9): 20.96,\n",
       " (0, 3, 10): 22.58,\n",
       " (0, 3, 11): 22.15,\n",
       " (0, 3, 12): 22.29,\n",
       " (0, 3, 13): 23.57,\n",
       " (0, 3, 14): 24.92,\n",
       " (0, 3, 15): 25.22,\n",
       " (0, 3, 16): 24.45,\n",
       " (0, 3, 17): 24.01,\n",
       " (0, 3, 18): 22.54,\n",
       " (0, 3, 19): 21.97,\n",
       " (0, 3, 20): 22.01,\n",
       " (0, 3, 21): 15.95,\n",
       " (0, 3, 22): 14.72,\n",
       " (0, 3, 23): 18.47,\n",
       " (0, 3, 24): 20.59,\n",
       " (0, 3, 25): 20.34,\n",
       " (0, 3, 26): 23.1,\n",
       " (0, 3, 27): 24.98,\n",
       " (0, 3, 28): 24.26,\n",
       " (0, 3, 29): 23.28,\n",
       " (0, 3, 30): 21.59,\n",
       " (0, 3, 31): 24.31,\n",
       " (0, 4, 1): 25.65,\n",
       " (0, 4, 2): 24.42,\n",
       " (0, 4, 3): 20.5,\n",
       " (0, 4, 4): 19.99,\n",
       " (0, 4, 5): 21.71,\n",
       " (0, 4, 6): 20.82,\n",
       " (0, 4, 7): 21.11,\n",
       " (0, 4, 8): 21.91,\n",
       " (0, 4, 9): 20.15,\n",
       " (0, 4, 10): 19.58,\n",
       " (0, 4, 11): 21.02,\n",
       " (0, 4, 12): 21.3,\n",
       " (0, 4, 13): 23.3,\n",
       " (0, 4, 14): 22.94,\n",
       " (0, 4, 15): 22.42,\n",
       " (0, 4, 16): 22.29,\n",
       " (0, 4, 17): 21.09,\n",
       " (0, 4, 18): 20.67,\n",
       " (0, 4, 19): 20.79,\n",
       " (0, 4, 20): 21.19,\n",
       " (0, 4, 21): 22.72,\n",
       " (0, 4, 22): 23.37,\n",
       " (0, 4, 23): 23.9,\n",
       " (0, 4, 24): 23.88,\n",
       " (0, 4, 25): 23.52,\n",
       " (0, 4, 26): 23.09,\n",
       " (0, 4, 27): 23.85,\n",
       " (0, 4, 28): 24.75,\n",
       " (0, 4, 29): 24.99,\n",
       " (0, 4, 30): 26.04,\n",
       " (0, 5, 1): 25.27,\n",
       " (0, 5, 2): 25.94,\n",
       " (0, 5, 3): 25.48,\n",
       " (0, 5, 4): 22.55,\n",
       " (0, 5, 5): 21.43,\n",
       " (0, 5, 6): 20.12,\n",
       " (0, 5, 7): 20.11,\n",
       " (0, 5, 8): 21.7,\n",
       " (0, 5, 9): 22.85,\n",
       " (0, 5, 10): 24.4,\n",
       " (0, 5, 11): 25.1,\n",
       " (0, 5, 12): 24.57,\n",
       " (0, 5, 13): 25.65,\n",
       " (0, 5, 14): 26.46,\n",
       " (0, 5, 15): 24.71,\n",
       " (0, 5, 16): 25.17,\n",
       " (0, 5, 17): 25.46,\n",
       " (0, 5, 18): 24.92,\n",
       " (0, 5, 19): 25.6,\n",
       " (0, 5, 20): 24.95,\n",
       " (0, 5, 21): 26.38,\n",
       " (0, 5, 22): 26.56,\n",
       " (0, 5, 23): 25.53,\n",
       " (0, 5, 24): 25.27,\n",
       " (0, 5, 25): 25.36,\n",
       " (0, 5, 26): 24.74,\n",
       " (0, 5, 27): 25.51,\n",
       " (0, 5, 28): 26.28,\n",
       " (0, 5, 29): 26.54,\n",
       " (0, 5, 30): 25.73,\n",
       " (0, 5, 31): 26.47,\n",
       " (0, 6, 1): 26.1,\n",
       " (0, 6, 2): 27.3,\n",
       " (0, 6, 3): 28.06,\n",
       " (0, 6, 4): 28.44,\n",
       " (0, 6, 5): 27.61,\n",
       " (0, 6, 6): 25.59,\n",
       " (0, 6, 7): 26.6,\n",
       " (0, 6, 8): 27.44,\n",
       " (0, 6, 9): 25.7,\n",
       " (0, 6, 10): 26.8,\n",
       " (0, 6, 11): 27.2,\n",
       " (0, 6, 12): 26.87,\n",
       " (0, 6, 13): 28.38,\n",
       " (0, 6, 14): 29.47,\n",
       " (0, 6, 15): 27.58,\n",
       " (0, 6, 16): 28.11,\n",
       " (0, 6, 17): 27.38,\n",
       " (0, 6, 18): 28.13,\n",
       " (0, 6, 19): 25.83,\n",
       " (0, 6, 20): 26.15,\n",
       " (0, 6, 21): 25.3,\n",
       " (0, 6, 22): 26.99,\n",
       " (0, 6, 23): 28.46,\n",
       " (0, 6, 24): 28.97,\n",
       " (0, 6, 25): 29.65,\n",
       " (0, 6, 26): 28.04,\n",
       " (0, 6, 27): 26.91,\n",
       " (0, 6, 28): 28.1,\n",
       " (0, 6, 29): 26.69,\n",
       " (0, 6, 30): 27.13,\n",
       " (0, 7, 1): 26.52,\n",
       " (0, 7, 2): 26.08,\n",
       " (0, 7, 3): 27.52,\n",
       " (0, 7, 4): 29.35,\n",
       " (0, 7, 5): 29.84,\n",
       " (0, 7, 6): 30.2,\n",
       " (0, 7, 7): 30.23,\n",
       " (0, 7, 8): 30.49,\n",
       " (0, 7, 9): 30.23,\n",
       " (0, 7, 10): 28.65,\n",
       " (0, 7, 11): 28.93,\n",
       " (0, 7, 12): 29.17,\n",
       " (0, 7, 13): 27.94,\n",
       " (0, 7, 14): 27.79,\n",
       " (0, 7, 15): 28.54,\n",
       " (0, 7, 16): 28.69,\n",
       " (0, 7, 17): 28.23,\n",
       " (0, 7, 18): 28.68,\n",
       " (0, 7, 19): 27.38,\n",
       " (0, 7, 20): 28.25,\n",
       " (0, 7, 21): 28.02,\n",
       " (0, 7, 22): 28.34,\n",
       " (0, 7, 23): 27.23,\n",
       " (0, 7, 24): 27.99,\n",
       " (0, 7, 25): 27.73,\n",
       " (0, 7, 26): 28.91,\n",
       " (0, 7, 27): 29.79,\n",
       " (0, 7, 28): 30.03,\n",
       " (0, 7, 29): 28.66,\n",
       " (0, 7, 30): 27.7,\n",
       " (0, 7, 31): 28.03,\n",
       " (0, 8, 1): 28.4,\n",
       " (0, 8, 2): 28.5,\n",
       " (0, 8, 3): 27.75,\n",
       " (0, 8, 4): 26.13,\n",
       " (0, 8, 5): 27.08,\n",
       " (0, 8, 6): 27.33,\n",
       " (0, 8, 7): 26.31,\n",
       " (0, 8, 8): 25.35,\n",
       " (0, 8, 9): 26.12,\n",
       " (0, 8, 10): 25.91,\n",
       " (0, 8, 11): 27.49,\n",
       " (0, 8, 12): 27.76,\n",
       " (0, 8, 13): 27.17,\n",
       " (0, 8, 14): 26.78,\n",
       " (0, 8, 15): 28.43,\n",
       " (0, 8, 16): 27.14,\n",
       " (0, 8, 17): 27.93,\n",
       " (0, 8, 18): 27.68,\n",
       " (0, 8, 19): 28.31,\n",
       " (0, 8, 20): 28.85,\n",
       " (0, 8, 21): 29.7,\n",
       " (0, 8, 22): 30.11,\n",
       " (0, 8, 23): 29.85,\n",
       " (0, 8, 24): 28.34,\n",
       " (0, 8, 25): 28.64,\n",
       " (0, 8, 26): 28.1,\n",
       " (0, 8, 27): 27.95,\n",
       " (0, 8, 28): 28.13,\n",
       " (0, 8, 29): 26.98,\n",
       " (0, 8, 30): 26.0,\n",
       " (0, 8, 31): 25.8,\n",
       " (0, 9, 1): 25.51,\n",
       " (0, 9, 2): 26.68,\n",
       " (0, 9, 3): 26.53,\n",
       " (0, 9, 4): 27.76,\n",
       " (0, 9, 5): 25.41,\n",
       " (0, 9, 6): 26.58,\n",
       " (0, 9, 7): 27.18,\n",
       " (0, 9, 8): 26.53,\n",
       " (0, 9, 9): 27.63,\n",
       " (0, 9, 10): 28.3,\n",
       " (0, 9, 11): 28.08,\n",
       " (0, 9, 12): 27.79,\n",
       " (0, 9, 13): 25.65,\n",
       " (0, 9, 14): 26.65,\n",
       " (0, 9, 15): 27.15,\n",
       " (0, 9, 16): 26.98,\n",
       " (0, 9, 17): 27.79,\n",
       " (0, 9, 18): 28.35,\n",
       " (0, 9, 19): 27.63,\n",
       " (0, 9, 20): 26.1,\n",
       " (0, 9, 21): 27.29,\n",
       " (0, 9, 22): 27.54,\n",
       " (0, 9, 23): 27.57,\n",
       " (0, 9, 24): 27.98,\n",
       " (0, 9, 25): 27.56,\n",
       " (0, 9, 26): 25.46,\n",
       " (0, 9, 27): 25.16,\n",
       " (0, 9, 28): 25.83,\n",
       " (0, 9, 29): 25.65,\n",
       " (0, 9, 30): 25.84,\n",
       " (0, 10, 1): 25.85,\n",
       " (0, 10, 2): 26.14,\n",
       " (0, 10, 3): 26.53,\n",
       " (0, 10, 4): 26.05,\n",
       " (0, 10, 5): 26.63,\n",
       " (0, 10, 6): 25.8,\n",
       " (0, 10, 7): 24.65,\n",
       " (0, 10, 8): 26.79,\n",
       " (0, 10, 9): 25.95,\n",
       " (0, 10, 10): 22.54,\n",
       " (0, 10, 11): 22.86,\n",
       " (0, 10, 12): 23.86,\n",
       " (0, 10, 13): 24.38,\n",
       " (0, 10, 14): 24.97,\n",
       " (0, 10, 15): 25.49,\n",
       " (0, 10, 16): 25.33,\n",
       " (0, 10, 17): 24.97,\n",
       " (0, 10, 18): 24.72,\n",
       " (0, 10, 19): 24.4,\n",
       " (0, 10, 20): 23.57,\n",
       " (0, 10, 21): 24.0,\n",
       " (0, 10, 22): 20.6,\n",
       " (0, 10, 23): 18.51,\n",
       " (0, 10, 24): 19.79,\n",
       " (0, 10, 25): 20.7,\n",
       " (0, 10, 26): 22.75,\n",
       " (0, 10, 27): 23.5,\n",
       " (0, 10, 28): 23.72,\n",
       " (0, 10, 29): 23.85,\n",
       " (0, 10, 30): 24.07,\n",
       " (0, 10, 31): 22.64,\n",
       " (0, 11, 1): 22.87,\n",
       " (0, 11, 2): 23.57,\n",
       " (0, 11, 3): 22.73,\n",
       " (0, 11, 4): 22.54,\n",
       " (0, 11, 5): 22.56,\n",
       " (0, 11, 6): 20.5,\n",
       " (0, 11, 7): 21.85,\n",
       " (0, 11, 8): 21.39,\n",
       " (0, 11, 9): 20.85,\n",
       " (0, 11, 10): 20.76,\n",
       " (0, 11, 11): 18.66,\n",
       " (0, 11, 12): 19.2,\n",
       " (0, 11, 13): 19.55,\n",
       " (0, 11, 14): 19.95,\n",
       " (0, 11, 15): 18.5,\n",
       " (0, 11, 16): 18.06,\n",
       " (0, 11, 17): 18.01,\n",
       " (0, 11, 18): 19.7,\n",
       " (0, 11, 19): 19.77,\n",
       " (0, 11, 20): 16.51,\n",
       " (0, 11, 21): 13.33,\n",
       " (0, 11, 22): 14.46,\n",
       " (0, 11, 23): 19.01,\n",
       " (0, 11, 24): 20.67,\n",
       " (0, 11, 25): 21.84,\n",
       " (0, 11, 26): 20.5,\n",
       " (0, 11, 27): 18.7,\n",
       " (0, 11, 28): 19.92,\n",
       " (0, 11, 29): 22.68,\n",
       " (0, 11, 30): 23.03,\n",
       " (0, 12, 1): 22.58,\n",
       " (0, 12, 2): 19.08,\n",
       " (0, 12, 3): 17.94,\n",
       " (0, 12, 4): 20.51,\n",
       " (0, 12, 5): 22.77,\n",
       " (0, 12, 6): 24.64,\n",
       " (0, 12, 7): 20.85,\n",
       " (0, 12, 8): 17.92,\n",
       " (0, 12, 9): 14.68,\n",
       " (0, 12, 10): 14.89,\n",
       " (0, 12, 11): 17.4,\n",
       " (0, 12, 12): 22.09,\n",
       " (0, 12, 13): 22.17,\n",
       " (0, 12, 14): 21.47,\n",
       " (0, 12, 15): 21.46,\n",
       " (0, 12, 16): 17.55,\n",
       " (0, 12, 17): 20.9,\n",
       " (0, 12, 18): 23.89,\n",
       " (0, 12, 19): 24.6,\n",
       " (0, 12, 20): 20.53,\n",
       " (0, 12, 21): 16.57,\n",
       " (0, 12, 22): 16.74,\n",
       " (0, 12, 23): 19.28,\n",
       " (0, 12, 24): 21.08,\n",
       " (0, 12, 25): 21.96,\n",
       " (0, 12, 26): 22.34,\n",
       " (0, 12, 27): 22.1,\n",
       " (0, 12, 28): 22.39,\n",
       " (0, 12, 29): 21.53,\n",
       " (0, 12, 30): 14.33,\n",
       " (0, 12, 31): 12.45,\n",
       " (1, 1, 1): 5.39,\n",
       " (1, 1, 2): 9.78,\n",
       " (1, 1, 3): 7.95,\n",
       " (1, 1, 4): 7.84,\n",
       " (1, 1, 5): 7.9,\n",
       " (1, 1, 6): 6.34,\n",
       " (1, 1, 7): 7.1,\n",
       " (1, 1, 8): 5.83,\n",
       " (1, 1, 9): 8.74,\n",
       " (1, 1, 10): 6.23,\n",
       " (1, 1, 11): 5.92,\n",
       " (1, 1, 12): 5.39,\n",
       " (1, 1, 13): 4.75,\n",
       " (1, 1, 14): 3.71,\n",
       " (1, 1, 15): 2.97,\n",
       " (1, 1, 16): 2.3,\n",
       " (1, 1, 17): 2.37,\n",
       " (1, 1, 18): 3.22,\n",
       " (1, 1, 19): 0.55,\n",
       " (1, 1, 20): 0.18,\n",
       " (1, 1, 21): 3.34,\n",
       " (1, 1, 22): 7.54,\n",
       " (1, 1, 23): 7.39,\n",
       " (1, 1, 24): 12.01,\n",
       " (1, 1, 25): 11.22,\n",
       " (1, 1, 26): 9.24,\n",
       " (1, 1, 27): 11.52,\n",
       " (1, 1, 28): 6.4,\n",
       " (1, 1, 29): 11.1,\n",
       " (1, 1, 30): 7.63,\n",
       " (1, 1, 31): 8.95,\n",
       " (1, 2, 1): 12.12,\n",
       " (1, 2, 2): 8.04,\n",
       " (1, 2, 3): 5.18,\n",
       " (1, 2, 4): 9.51,\n",
       " (1, 2, 5): 10.18,\n",
       " (1, 2, 6): 10.34,\n",
       " (1, 2, 7): 7.26,\n",
       " (1, 2, 8): 7.87,\n",
       " (1, 2, 9): 5.25,\n",
       " (1, 2, 10): 5.7,\n",
       " (1, 2, 11): 3.57,\n",
       " (1, 2, 12): 3.9,\n",
       " (1, 2, 13): 3.87,\n",
       " (1, 2, 14): 3.75,\n",
       " (1, 2, 15): 2.48,\n",
       " (1, 2, 16): 2.57,\n",
       " (1, 2, 17): 4.33,\n",
       " (1, 2, 18): 4.09,\n",
       " (1, 2, 19): 5.03,\n",
       " (1, 2, 20): 10.49,\n",
       " (1, 2, 21): 12.65,\n",
       " (1, 2, 22): 8.75,\n",
       " (1, 2, 23): 5.72,\n",
       " (1, 2, 24): 2.8,\n",
       " (1, 2, 25): 2.14,\n",
       " (1, 2, 26): 3.87,\n",
       " (1, 2, 27): 4.55,\n",
       " (1, 2, 28): 4.8,\n",
       " (1, 2, 29): 5.08,\n",
       " (1, 3, 1): 8.69,\n",
       " (1, 3, 2): 5.45,\n",
       " (1, 3, 3): 6.48,\n",
       " (1, 3, 4): 4.97,\n",
       " (1, 3, 5): 2.5,\n",
       " (1, 3, 6): 3.54,\n",
       " (1, 3, 7): 4.05,\n",
       " (1, 3, 8): 3.94,\n",
       " (1, 3, 9): 7.81,\n",
       " (1, 3, 10): 6.61,\n",
       " (1, 3, 11): 4.7,\n",
       " (1, 3, 12): 6.45,\n",
       " (1, 3, 13): 5.99,\n",
       " (1, 3, 14): 6.88,\n",
       " (1, 3, 15): 6.13,\n",
       " (1, 3, 16): 7.5,\n",
       " (1, 3, 17): 6.68,\n",
       " (1, 3, 18): 5.12,\n",
       " (1, 3, 19): 6.88,\n",
       " (1, 3, 20): 7.35,\n",
       " (1, 3, 21): 8.47,\n",
       " (1, 3, 22): 7.64,\n",
       " (1, 3, 23): 8.45,\n",
       " (1, 3, 24): 8.02,\n",
       " (1, 3, 25): 10.41,\n",
       " (1, 3, 26): 9.52,\n",
       " (1, 3, 27): 8.05,\n",
       " (1, 3, 28): 8.12,\n",
       " (1, 3, 29): 7.68,\n",
       " (1, 3, 30): 8.51,\n",
       " (1, 3, 31): 8.15,\n",
       " (1, 4, 1): 7.85,\n",
       " (1, 4, 2): 10.22,\n",
       " (1, 4, 3): 11.1,\n",
       " (1, 4, 4): 10.53,\n",
       " (1, 4, 5): 10.83,\n",
       " (1, 4, 6): 8.61,\n",
       " (1, 4, 7): 7.09,\n",
       " (1, 4, 8): 8.85,\n",
       " (1, 4, 9): 7.78,\n",
       " (1, 4, 10): 7.86,\n",
       " (1, 4, 11): 11.32,\n",
       " (1, 4, 12): 11.63,\n",
       " (1, 4, 13): 11.38,\n",
       " (1, 4, 14): 11.96,\n",
       " (1, 4, 15): 9.83,\n",
       " (1, 4, 16): 6.14,\n",
       " (1, 4, 17): 6.7,\n",
       " (1, 4, 18): 8.49,\n",
       " (1, 4, 19): 11.34,\n",
       " (1, 4, 20): 9.64,\n",
       " (1, 4, 21): 11.03,\n",
       " (1, 4, 22): 8.77,\n",
       " (1, 4, 23): 7.36,\n",
       " (1, 4, 24): 7.29,\n",
       " (1, 4, 25): 7.67,\n",
       " (1, 4, 26): 5.77,\n",
       " (1, 4, 27): 6.19,\n",
       " (1, 4, 28): 6.93,\n",
       " (1, 4, 29): 7.73,\n",
       " (1, 4, 30): 7.75,\n",
       " (1, 5, 1): 9.85,\n",
       " (1, 5, 2): 12.1,\n",
       " (1, 5, 3): 10.55,\n",
       " (1, 5, 4): 11.93,\n",
       " (1, 5, 5): 13.95,\n",
       " (1, 5, 6): 16.14,\n",
       " (1, 5, 7): 17.93,\n",
       " (1, 5, 8): 20.5,\n",
       " (1, 5, 9): 18.84,\n",
       " (1, 5, 10): 16.05,\n",
       " (1, 5, 11): 16.2,\n",
       " (1, 5, 12): 17.4,\n",
       " (1, 5, 13): 12.65,\n",
       " (1, 5, 14): 10.45,\n",
       " (1, 5, 15): 11.89,\n",
       " (1, 5, 16): 13.63,\n",
       " (1, 5, 17): 13.21,\n",
       " (1, 5, 18): 12.19,\n",
       " (1, 5, 19): 13.6,\n",
       " (1, 5, 20): 15.38,\n",
       " (1, 5, 21): 14.82,\n",
       " (1, 5, 22): 14.34,\n",
       " (1, 5, 23): 14.17,\n",
       " (1, 5, 24): 12.6,\n",
       " (1, 5, 25): 10.7,\n",
       " (1, 5, 26): 14.56,\n",
       " (1, 5, 27): 15.87,\n",
       " (1, 5, 28): 15.47,\n",
       " (1, 5, 29): 13.81,\n",
       " (1, 5, 30): 14.34,\n",
       " (1, 5, 31): 12.22,\n",
       " (1, 6, 1): 12.75,\n",
       " (1, 6, 2): 11.25,\n",
       " (1, 6, 3): 11.32,\n",
       " (1, 6, 4): 15.62,\n",
       " (1, 6, 5): 17.29,\n",
       " (1, 6, 6): 18.22,\n",
       " (1, 6, 7): 18.82,\n",
       " (1, 6, 8): 18.97,\n",
       " (1, 6, 9): 17.23,\n",
       " (1, 6, 10): 18.19,\n",
       " (1, 6, 11): 18.99,\n",
       " (1, 6, 12): 16.76,\n",
       " (1, 6, 13): 16.39,\n",
       " (1, 6, 14): 15.61,\n",
       " (1, 6, 15): 15.27,\n",
       " (1, 6, 16): 14.83,\n",
       " (1, 6, 17): 15.47,\n",
       " (1, 6, 18): 14.65,\n",
       " (1, 6, 19): 15.99,\n",
       " (1, 6, 20): 17.53,\n",
       " (1, 6, 21): 17.49,\n",
       " (1, 6, 22): 18.31,\n",
       " (1, 6, 23): 19.07,\n",
       " (1, 6, 24): 16.85,\n",
       " (1, 6, 25): 15.61,\n",
       " (1, 6, 26): 15.64,\n",
       " (1, 6, 27): 17.69,\n",
       " (1, 6, 28): 15.37,\n",
       " (1, 6, 29): 14.29,\n",
       " (1, 6, 30): 16.67,\n",
       " (1, 7, 1): 15.73,\n",
       " (1, 7, 2): 15.11,\n",
       " (1, 7, 3): 15.95,\n",
       " (1, 7, 4): 16.4,\n",
       " (1, 7, 5): 17.56,\n",
       " (1, 7, 6): 16.88,\n",
       " (1, 7, 7): 18.55,\n",
       " (1, 7, 8): 18.63,\n",
       " (1, 7, 9): 19.1,\n",
       " (1, 7, 10): 18.83,\n",
       " (1, 7, 11): 17.59,\n",
       " (1, 7, 12): 15.14,\n",
       " (1, 7, 13): 15.06,\n",
       " (1, 7, 14): 16.69,\n",
       " (1, 7, 15): 16.35,\n",
       " (1, 7, 16): 20.96,\n",
       " (1, 7, 17): 21.97,\n",
       " (1, 7, 18): 22.56,\n",
       " (1, 7, 19): 25.93,\n",
       " (1, 7, 20): 24.64,\n",
       " (1, 7, 21): 19.61,\n",
       " (1, 7, 22): 20.42,\n",
       " (1, 7, 23): 21.89,\n",
       " (1, 7, 24): 19.81,\n",
       " (1, 7, 25): 19.24,\n",
       " (1, 7, 26): 18.52,\n",
       " (1, 7, 27): 19.96,\n",
       " (1, 7, 28): 18.44,\n",
       " (1, 7, 29): 19.07,\n",
       " (1, 7, 30): 18.55,\n",
       " (1, 7, 31): 18.26,\n",
       " (1, 8, 1): 15.35,\n",
       " (1, 8, 2): 18.57,\n",
       " (1, 8, 3): 20.05,\n",
       " (1, 8, 4): 18.58,\n",
       " (1, 8, 5): 18.45,\n",
       " (1, 8, 6): 19.39,\n",
       " (1, 8, 7): 20.89,\n",
       " (1, 8, 8): 17.7,\n",
       " (1, 8, 9): 15.56,\n",
       " (1, 8, 10): 15.57,\n",
       " (1, 8, 11): 18.52,\n",
       " (1, 8, 12): 19.75,\n",
       " (1, 8, 13): 19.68,\n",
       " (1, 8, 14): 18.93,\n",
       " (1, 8, 15): 18.17,\n",
       " (1, 8, 16): 18.2,\n",
       " (1, 8, 17): 19.76,\n",
       " (1, 8, 18): 19.95,\n",
       " (1, 8, 19): 17.54,\n",
       " (1, 8, 20): 17.2,\n",
       " (1, 8, 21): 17.84,\n",
       " (1, 8, 22): 19.93,\n",
       " (1, 8, 23): 22.46,\n",
       " (1, 8, 24): 24.58,\n",
       " (1, 8, 25): 22.83,\n",
       " (1, 8, 26): 21.7,\n",
       " (1, 8, 27): 21.1,\n",
       " (1, 8, 28): 18.76,\n",
       " (1, 8, 29): 19.09,\n",
       " (1, 8, 30): 19.71,\n",
       " (1, 8, 31): 18.31,\n",
       " (1, 9, 1): 18.08,\n",
       " (1, 9, 2): 17.0,\n",
       " (1, 9, 3): 16.8,\n",
       " (1, 9, 4): 18.01,\n",
       " (1, 9, 5): 18.26,\n",
       " (1, 9, 6): 21.37,\n",
       " (1, 9, 7): 22.06,\n",
       " (1, 9, 8): 19.15,\n",
       " (1, 9, 9): 19.47,\n",
       " (1, 9, 10): 18.0,\n",
       " (1, 9, 11): 15.28,\n",
       " (1, 9, 12): 18.64,\n",
       " (1, 9, 13): 24.25,\n",
       " (1, 9, 14): 22.9,\n",
       " (1, 9, 15): 21.31,\n",
       " (1, 9, 16): 16.32,\n",
       " (1, 9, 17): 14.34,\n",
       " (1, 9, 18): 16.8,\n",
       " (1, 9, 19): 15.73,\n",
       " (1, 9, 20): 16.05,\n",
       " (1, 9, 21): 17.71,\n",
       " (1, 9, 22): 16.49,\n",
       " (1, 9, 23): 14.7,\n",
       " (1, 9, 24): 17.8,\n",
       " (1, 9, 25): 16.77,\n",
       " (1, 9, 26): 13.93,\n",
       " (1, 9, 27): 15.82,\n",
       " (1, 9, 28): 16.93,\n",
       " (1, 9, 29): 16.63,\n",
       " (1, 9, 30): 14.13,\n",
       " (1, 10, 1): 11.63,\n",
       " (1, 10, 2): 12.12,\n",
       " (1, 10, 3): 11.57,\n",
       " (1, 10, 4): 14.1,\n",
       " (1, 10, 5): 13.64,\n",
       " (1, 10, 6): 12.17,\n",
       " (1, 10, 7): 13.02,\n",
       " (1, 10, 8): 13.35,\n",
       " (1, 10, 9): 11.58,\n",
       " (1, 10, 10): 9.72,\n",
       " (1, 10, 11): 10.3,\n",
       " (1, 10, 12): 11.97,\n",
       " (1, 10, 13): 10.75,\n",
       " (1, 10, 14): 11.77,\n",
       " (1, 10, 15): 12.13,\n",
       " (1, 10, 16): 12.79,\n",
       " (1, 10, 17): 12.72,\n",
       " (1, 10, 18): 10.95,\n",
       " (1, 10, 19): 11.31,\n",
       " (1, 10, 20): 10.9,\n",
       " (1, 10, 21): 10.37,\n",
       " (1, 10, 22): 9.33,\n",
       " (1, 10, 23): 9.67,\n",
       " (1, 10, 24): 11.25,\n",
       " (1, 10, 25): 11.23,\n",
       " (1, 10, 26): 12.58,\n",
       " (1, 10, 27): 11.9,\n",
       " (1, 10, 28): 14.0,\n",
       " (1, 10, 29): 13.34,\n",
       " (1, 10, 30): 10.55,\n",
       " (1, 10, 31): 12.83,\n",
       " (1, 11, 1): 9.4,\n",
       " (1, 11, 2): 6.62,\n",
       " (1, 11, 3): 6.68,\n",
       " (1, 11, 4): 8.27,\n",
       " (1, 11, 5): 5.47,\n",
       " (1, 11, 6): 4.48,\n",
       " (1, 11, 7): 5.9,\n",
       " (1, 11, 8): 3.17,\n",
       " (1, 11, 9): 6.56,\n",
       " (1, 11, 10): 6.87,\n",
       " (1, 11, 11): 6.04,\n",
       " (1, 11, 12): 8.6,\n",
       " (1, 11, 13): 7.9,\n",
       " (1, 11, 14): 9.7,\n",
       " (1, 11, 15): 13.74,\n",
       " (1, 11, 16): 12.26,\n",
       " (1, 11, 17): 9.02,\n",
       " (1, 11, 18): 5.4,\n",
       " (1, 11, 19): 4.71,\n",
       " (1, 11, 20): 6.87,\n",
       " (1, 11, 21): 8.9,\n",
       " (1, 11, 22): 9.79,\n",
       " (1, 11, 23): 7.72,\n",
       " (1, 11, 24): 9.62,\n",
       " (1, 11, 25): 7.61,\n",
       " (1, 11, 26): 5.69,\n",
       " (1, 11, 27): 6.91,\n",
       " (1, 11, 28): 6.33,\n",
       " (1, 11, 29): 2.04,\n",
       " (1, 11, 30): 0.69,\n",
       " (1, 12, 1): 2.2,\n",
       " (1, 12, 2): 5.95,\n",
       " (1, 12, 3): 5.65,\n",
       " (1, 12, 4): 3.41,\n",
       " (1, 12, 5): 3.15,\n",
       " (1, 12, 6): 6.89,\n",
       " (1, 12, 7): 10.87,\n",
       " (1, 12, 8): 11.62,\n",
       " (1, 12, 9): 12.23,\n",
       " (1, 12, 10): 11.76,\n",
       " (1, 12, 11): 6.62,\n",
       " (1, 12, 12): 7.21,\n",
       " (1, 12, 13): 10.84,\n",
       " (1, 12, 14): 9.45,\n",
       " (1, 12, 15): 8.58,\n",
       " (1, 12, 16): 9.57,\n",
       " (1, 12, 17): 6.44,\n",
       " (1, 12, 18): 6.75,\n",
       " (1, 12, 19): 5.81,\n",
       " (1, 12, 20): 5.5,\n",
       " (1, 12, 21): 9.29,\n",
       " (1, 12, 22): 6.57,\n",
       " (1, 12, 23): 8.39,\n",
       " (1, 12, 24): 8.15,\n",
       " (1, 12, 25): 11.65,\n",
       " (1, 12, 26): 7.24,\n",
       " (1, 12, 27): 2.26,\n",
       " (1, 12, 28): 1.98,\n",
       " (1, 12, 29): 2.61,\n",
       " (1, 12, 30): 1.44,\n",
       " (1, 12, 31): 6.14,\n",
       " (2, 1, 1): 9.77,\n",
       " (2, 1, 2): 13.8,\n",
       " (2, 1, 3): 15.4,\n",
       " (2, 1, 4): 15.69,\n",
       " (2, 1, 5): 12.34,\n",
       " (2, 1, 6): 12.73,\n",
       " (2, 1, 7): 11.25,\n",
       " (2, 1, 8): 9.44,\n",
       " (2, 1, 9): 9.7,\n",
       " (2, 1, 10): 9.68,\n",
       " (2, 1, 11): 9.88,\n",
       " (2, 1, 12): 10.54,\n",
       " (2, 1, 13): 11.46,\n",
       " (2, 1, 14): 11.52,\n",
       " (2, 1, 15): 10.69,\n",
       " (2, 1, 16): 10.58,\n",
       " (2, 1, 17): 12.48,\n",
       " (2, 1, 18): 12.8,\n",
       " (2, 1, 19): 13.12,\n",
       " (2, 1, 20): 14.82,\n",
       " (2, 1, 21): 14.84,\n",
       " (2, 1, 22): 15.3,\n",
       " (2, 1, 23): 16.31,\n",
       " (2, 1, 24): 14.18,\n",
       " (2, 1, 25): 13.32,\n",
       " (2, 1, 26): 13.57,\n",
       " (2, 1, 27): 14.55,\n",
       " (2, 1, 28): 14.3,\n",
       " (2, 1, 29): 14.4,\n",
       " (2, 1, 30): 14.95,\n",
       " (2, 1, 31): 16.73,\n",
       " (2, 2, 1): 13.14,\n",
       " (2, 2, 2): 8.29,\n",
       " (2, 2, 3): 7.7,\n",
       " (2, 2, 4): 10.08,\n",
       " (2, 2, 5): 12.32,\n",
       " (2, 2, 6): 14.71,\n",
       " (2, 2, 7): 16.36,\n",
       " (2, 2, 8): 19.28,\n",
       " (2, 2, 9): 21.9,\n",
       " (2, 2, 10): 21.72,\n",
       " (2, 2, 11): 21.2,\n",
       " (2, 2, 12): 20.8,\n",
       " (2, 2, 13): 20.81,\n",
       " (2, 2, 14): 20.25,\n",
       " (2, 2, 15): 20.47,\n",
       " (2, 2, 16): 21.52,\n",
       " (2, 2, 17): 22.23,\n",
       " (2, 2, 18): 21.93,\n",
       " (2, 2, 19): 21.14,\n",
       " (2, 2, 20): 20.16,\n",
       " (2, 2, 21): 21.35,\n",
       " (2, 2, 22): 20.57,\n",
       " (2, 2, 23): 20.47,\n",
       " (2, 2, 24): 18.45,\n",
       " (2, 2, 25): 19.25,\n",
       " (2, 2, 26): 21.77,\n",
       " (2, 2, 27): 22.2,\n",
       " (2, 2, 28): 21.88,\n",
       " (2, 2, 29): 22.46,\n",
       " (2, 3, 1): 23.21,\n",
       " (2, 3, 2): 23.24,\n",
       " (2, 3, 3): 23.37,\n",
       " (2, 3, 4): 23.42,\n",
       " (2, 3, 5): 22.26,\n",
       " (2, 3, 6): 21.7,\n",
       " (2, 3, 7): 18.25,\n",
       " (2, 3, 8): 15.18,\n",
       " (2, 3, 9): 17.89,\n",
       " (2, 3, 10): 20.33,\n",
       " (2, 3, 11): 21.87,\n",
       " (2, 3, 12): 19.12,\n",
       " (2, 3, 13): 17.27,\n",
       " (2, 3, 14): 19.47,\n",
       " (2, 3, 15): 20.66,\n",
       " (2, 3, 16): 22.18,\n",
       " (2, 3, 17): 22.63,\n",
       " (2, 3, 18): 22.39,\n",
       " (2, 3, 19): 24.1,\n",
       " (2, 3, 20): 24.26,\n",
       " (2, 3, 21): 25.37,\n",
       " (2, 3, 22): 25.76,\n",
       " (2, 3, 23): 19.72,\n",
       " (2, 3, 24): 18.71,\n",
       " (2, 3, 25): 20.31,\n",
       " (2, 3, 26): 22.36,\n",
       " (2, 3, 27): 22.41,\n",
       " (2, 3, 28): 23.19,\n",
       " (2, 3, 29): 18.95,\n",
       " (2, 3, 30): 15.68,\n",
       " (2, 3, 31): 15.9,\n",
       " (2, 4, 1): 18.07,\n",
       " (2, 4, 2): 21.12,\n",
       " (2, 4, 3): 22.97,\n",
       " (2, 4, 4): 24.35,\n",
       " (2, 4, 5): 25.36,\n",
       " (2, 4, 6): 27.36,\n",
       " (2, 4, 7): 28.01,\n",
       " (2, 4, 8): 22.66,\n",
       " (2, 4, 9): 21.97,\n",
       " (2, 4, 10): 20.3,\n",
       " (2, 4, 11): 16.68,\n",
       " (2, 4, 12): 20.64,\n",
       " (2, 4, 13): 23.08,\n",
       " (2, 4, 14): 24.73,\n",
       " (2, 4, 15): 24.83,\n",
       " (2, 4, 16): 20.4,\n",
       " (2, 4, 17): 22.57,\n",
       " (2, 4, 18): 23.16,\n",
       " (2, 4, 19): 24.88,\n",
       " (2, 4, 20): 26.03,\n",
       " (2, 4, 21): 27.26,\n",
       " (2, 4, 22): 28.66,\n",
       " (2, 4, 23): 27.89,\n",
       " (2, 4, 24): 23.91,\n",
       " (2, 4, 25): 25.19,\n",
       " (2, 4, 26): 19.86,\n",
       " (2, 4, 27): 21.52,\n",
       " (2, 4, 28): 22.33,\n",
       " (2, 4, 29): 21.19,\n",
       " (2, 4, 30): 23.05,\n",
       " (2, 5, 1): 18.87,\n",
       " (2, 5, 2): 23.16,\n",
       " (2, 5, 3): 25.95,\n",
       " (2, 5, 4): 29.59,\n",
       " (2, 5, 5): 30.17,\n",
       " (2, 5, 6): 24.6,\n",
       " (2, 5, 7): 19.48,\n",
       " (2, 5, 8): 21.45,\n",
       " (2, 5, 9): 22.74,\n",
       " (2, 5, 10): 25.74,\n",
       " (2, 5, 11): 27.77,\n",
       " (2, 5, 12): 29.5,\n",
       " (2, 5, 13): 31.45,\n",
       " (2, 5, 14): 32.43,\n",
       " (2, 5, 15): 30.31,\n",
       " (2, 5, 16): 27.59,\n",
       " (2, 5, 17): 27.48,\n",
       " (2, 5, 18): 25.46,\n",
       " (2, 5, 19): 26.62,\n",
       " (2, 5, 20): 29.97,\n",
       " (2, 5, 21): 28.84,\n",
       " (2, 5, 22): 26.18,\n",
       " (2, 5, 23): 25.77,\n",
       " (2, 5, 24): 26.24,\n",
       " (2, 5, 25): 25.85,\n",
       " (2, 5, 26): 24.69,\n",
       " (2, 5, 27): 25.83,\n",
       " (2, 5, 28): 28.56,\n",
       " (2, 5, 29): 29.78,\n",
       " (2, 5, 30): 28.99,\n",
       " (2, 5, 31): 28.91,\n",
       " (2, 6, 1): 31.82,\n",
       " (2, 6, 2): 33.34,\n",
       " (2, 6, 3): 35.26,\n",
       " (2, 6, 4): 37.38,\n",
       " (2, 6, 5): 37.58,\n",
       " (2, 6, 6): 36.81,\n",
       " (2, 6, 7): 34.81,\n",
       " (2, 6, 8): 34.62,\n",
       " (2, 6, 9): 34.45,\n",
       " (2, 6, 10): 33.42,\n",
       " (2, 6, 11): 31.78,\n",
       " (2, 6, 12): 32.39,\n",
       " (2, 6, 13): 32.42,\n",
       " (2, 6, 14): 31.24,\n",
       " (2, 6, 15): 31.68,\n",
       " (2, 6, 16): 32.15,\n",
       " (2, 6, 17): 33.09,\n",
       " (2, 6, 18): 34.75,\n",
       " (2, 6, 19): 38.12,\n",
       " (2, 6, 20): 40.18,\n",
       " (2, 6, 21): 38.82,\n",
       " (2, 6, 22): 38.2,\n",
       " (2, 6, 23): 38.23,\n",
       " (2, 6, 24): 37.19,\n",
       " (2, 6, 25): 36.87,\n",
       " (2, 6, 26): 36.31,\n",
       " (2, 6, 27): 36.87,\n",
       " (2, 6, 28): 37.65,\n",
       " (2, 6, 29): 37.31,\n",
       " (2, 6, 30): 32.18,\n",
       " (2, 7, 1): 31.03,\n",
       " (2, 7, 2): 32.45,\n",
       " (2, 7, 3): 35.72,\n",
       " (2, 7, 4): 36.96,\n",
       " (2, 7, 5): 37.13,\n",
       " (2, 7, 6): 36.34,\n",
       " (2, 7, 7): 35.42,\n",
       " (2, 7, 8): 36.37,\n",
       " (2, 7, 9): 37.55,\n",
       " (2, 7, 10): 37.82,\n",
       " (2, 7, 11): 36.91,\n",
       " (2, 7, 12): 35.69,\n",
       " (2, 7, 13): 36.46,\n",
       " (2, 7, 14): 37.71,\n",
       " (2, 7, 15): 38.05,\n",
       " (2, 7, 16): 37.72,\n",
       " (2, 7, 17): 37.06,\n",
       " (2, 7, 18): 35.26,\n",
       " (2, 7, 19): 33.74,\n",
       " (2, 7, 20): 35.18,\n",
       " (2, 7, 21): 37.19,\n",
       " (2, 7, 22): 38.8,\n",
       " (2, 7, 23): 38.12,\n",
       " (2, 7, 24): 37.61,\n",
       " (2, 7, 25): 36.53,\n",
       " (2, 7, 26): 37.45,\n",
       " (2, 7, 27): 38.15,\n",
       " (2, 7, 28): 37.88,\n",
       " (2, 7, 29): 38.95,\n",
       " (2, 7, 30): 32.74,\n",
       " (2, 7, 31): 33.8,\n",
       " (2, 8, 1): 31.49,\n",
       " (2, 8, 2): 33.02,\n",
       " (2, 8, 3): 29.64,\n",
       " (2, 8, 4): 31.83,\n",
       " (2, 8, 5): 32.39,\n",
       " (2, 8, 6): 33.89,\n",
       " (2, 8, 7): 36.28,\n",
       " (2, 8, 8): 37.8,\n",
       " (2, 8, 9): 34.92,\n",
       " (2, 8, 10): 32.13,\n",
       " (2, 8, 11): 30.9,\n",
       " (2, 8, 12): 33.99,\n",
       " (2, 8, 13): 35.18,\n",
       " (2, 8, 14): 35.3,\n",
       " (2, 8, 15): 36.39,\n",
       " (2, 8, 16): 37.36,\n",
       " (2, 8, 17): 36.62,\n",
       " (2, 8, 18): 35.13,\n",
       " (2, 8, 19): 33.97,\n",
       " (2, 8, 20): 33.38,\n",
       " (2, 8, 21): 31.15,\n",
       " (2, 8, 22): 31.57,\n",
       " (2, 8, 23): 30.11,\n",
       " (2, 8, 24): 31.85,\n",
       " (2, 8, 25): 31.4,\n",
       " (2, 8, 26): 32.87,\n",
       " (2, 8, 27): 32.2,\n",
       " (2, 8, 28): 31.53,\n",
       " (2, 8, 29): 33.51,\n",
       " (2, 8, 30): 35.4,\n",
       " (2, 8, 31): 34.53,\n",
       " (2, 9, 1): 35.04,\n",
       " (2, 9, 2): 33.84,\n",
       " (2, 9, 3): 34.95,\n",
       " (2, 9, 4): 32.83,\n",
       " (2, 9, 5): 31.55,\n",
       " (2, 9, 6): 32.7,\n",
       " (2, 9, 7): 30.29,\n",
       " (2, 9, 8): 28.12,\n",
       " (2, 9, 9): 32.11,\n",
       " (2, 9, 10): 33.82,\n",
       " (2, 9, 11): 34.3,\n",
       " (2, 9, 12): 33.48,\n",
       " (2, 9, 13): 30.92,\n",
       " (2, 9, 14): 30.89,\n",
       " (2, 9, 15): 29.81,\n",
       " (2, 9, 16): 29.11,\n",
       " (2, 9, 17): 29.75,\n",
       " (2, 9, 18): 31.26,\n",
       " (2, 9, 19): 31.55,\n",
       " (2, 9, 20): 30.41,\n",
       " (2, 9, 21): 29.83,\n",
       " (2, 9, 22): 28.66,\n",
       " (2, 9, 23): 25.38,\n",
       " (2, 9, 24): 24.54,\n",
       " ...}"
      ]
     },
     "execution_count": 22,
     "metadata": {},
     "output_type": "execute_result"
    }
   ],
   "source": [
    "air_mapping = weather_air_avg.to_dict()\n",
    "air_mapping = air_mapping[\"air_temperature\"]\n",
    "air_mapping"
   ]
  },
  {
   "cell_type": "markdown",
   "metadata": {},
   "source": [
    "## to_dict mulit key"
   ]
  },
  {
   "cell_type": "code",
   "execution_count": 23,
   "metadata": {},
   "outputs": [
    {
     "data": {
      "text/plain": [
       "0"
      ]
     },
     "execution_count": 23,
     "metadata": {},
     "output_type": "execute_result"
    }
   ],
   "source": [
    "merge_train[\"air_temperature2\"] = merge_train.set_index([\"site_id\",\"month\",\"day\"]).index.map(air_mapping)\n",
    "merge_train[\"air_temperature\"].fillna(merge_train[\"air_temperature2\"],inplace=True)\n",
    "merge_train = merge_train.drop([\"air_temperature2\"],axis=1)\n",
    "merge_train[\"air_temperature\"].isna().sum()"
   ]
  },
  {
   "cell_type": "markdown",
   "metadata": {},
   "source": [
    "## 구름의 양 데이터 null 처리"
   ]
  },
  {
   "cell_type": "code",
   "execution_count": 24,
   "metadata": {},
   "outputs": [
    {
     "data": {
      "text/plain": [
       "cloud_coverage    1075\n",
       "dtype: int64"
      ]
     },
     "execution_count": 24,
     "metadata": {},
     "output_type": "execute_result"
    }
   ],
   "source": [
    "weather_cloud_avg_day = merge_train[[\"site_id\",\"month\",\"day\",\"cloud_coverage\"]]  # 지역별 일자별 평균 날씨정보 입력\n",
    "weather_cloud_avg_day = round(weather_cloud_avg_day.groupby([\"site_id\",\"month\",\"day\"]).mean(),2)\n",
    "weather_cloud_avg_day.isna().sum()"
   ]
  },
  {
   "cell_type": "code",
   "execution_count": 25,
   "metadata": {},
   "outputs": [
    {
     "data": {
      "text/plain": [
       "cloud_coverage    24\n",
       "dtype: int64"
      ]
     },
     "execution_count": 25,
     "metadata": {},
     "output_type": "execute_result"
    }
   ],
   "source": [
    "weather_cloud_avg_month = merge_train[[\"site_id\",\"month\",\"cloud_coverage\"]]  # 지역별 일자별 평균 날씨정보 입력\n",
    "weather_cloud_avg_month = round(weather_cloud_avg_month.groupby([\"site_id\",\"month\"]).mean(),2)\n",
    "weather_cloud_avg_month.isna().sum()"
   ]
  },
  {
   "cell_type": "code",
   "execution_count": 26,
   "metadata": {},
   "outputs": [
    {
     "data": {
      "text/plain": [
       "cloud_coverage    2\n",
       "dtype: int64"
      ]
     },
     "execution_count": 26,
     "metadata": {},
     "output_type": "execute_result"
    }
   ],
   "source": [
    "weather_cloud_avg_site = merge_train[[\"site_id\",\"cloud_coverage\"]]\n",
    "weather_cloud_avg_site = round(weather_cloud_avg_month.groupby([\"site_id\"]).mean(),2)\n",
    "weather_cloud_avg_site.isna().sum()"
   ]
  },
  {
   "cell_type": "code",
   "execution_count": 27,
   "metadata": {},
   "outputs": [
    {
     "data": {
      "text/plain": [
       "cloud_coverage    1.9\n",
       "dtype: float64"
      ]
     },
     "execution_count": 27,
     "metadata": {},
     "output_type": "execute_result"
    }
   ],
   "source": [
    "weather_cloud_avg = round(merge_train[[\"cloud_coverage\"]].mean(),2)  # 지역별 일자별 평균 날씨정보 입력\n",
    "weather_cloud_avg"
   ]
  },
  {
   "cell_type": "code",
   "execution_count": 28,
   "metadata": {},
   "outputs": [],
   "source": [
    "# 구름 월 기준\n",
    "cloud_mapping1 = weather_cloud_avg_day.to_dict()\n",
    "cloud_mapping1 = cloud_mapping1[\"cloud_coverage\"]\n",
    "\n",
    "# 구름 일 기준\n",
    "cloud_mapping2 = weather_cloud_avg_month.to_dict()\n",
    "cloud_mapping2 = cloud_mapping2[\"cloud_coverage\"]\n",
    "\n",
    "# 구름 일 기준\n",
    "cloud_mapping3 = weather_cloud_avg_site.to_dict()\n",
    "cloud_mapping3 = cloud_mapping3[\"cloud_coverage\"]"
   ]
  },
  {
   "cell_type": "code",
   "execution_count": 29,
   "metadata": {},
   "outputs": [
    {
     "data": {
      "text/plain": [
       "0"
      ]
     },
     "execution_count": 29,
     "metadata": {},
     "output_type": "execute_result"
    }
   ],
   "source": [
    "merge_train[\"cloud_coverage2\"] = merge_train.set_index([\"site_id\",\"month\",\"day\"]).index.map(cloud_mapping1)\n",
    "merge_train[\"cloud_coverage3\"] = merge_train.set_index([\"site_id\",\"month\"]).index.map(cloud_mapping2)\n",
    "merge_train[\"cloud_coverage4\"] = merge_train.set_index([\"site_id\"]).index.map(cloud_mapping3)\n",
    "\n",
    "merge_train[\"cloud_coverage\"].fillna(merge_train[\"cloud_coverage2\"],inplace=True)\n",
    "merge_train[\"cloud_coverage\"].fillna(merge_train[\"cloud_coverage3\"],inplace=True)\n",
    "merge_train[\"cloud_coverage\"].fillna(merge_train[\"cloud_coverage4\"],inplace=True)\n",
    "\n",
    "merge_train[\"cloud_coverage\"].fillna(2.15,inplace=True)\n",
    "merge_train = merge_train.drop([\"cloud_coverage2\",\"cloud_coverage3\",\"cloud_coverage4\"],axis=1)\n",
    "merge_train[\"cloud_coverage\"].isna().sum()"
   ]
  },
  {
   "cell_type": "markdown",
   "metadata": {},
   "source": [
    "### 습기 섭씨 온도 데이터 null 처리"
   ]
  },
  {
   "cell_type": "code",
   "execution_count": 30,
   "metadata": {},
   "outputs": [
    {
     "data": {
      "text/plain": [
       "0"
      ]
     },
     "execution_count": 30,
     "metadata": {},
     "output_type": "execute_result"
    }
   ],
   "source": [
    "weather_dew_avg = merge_train[[\"site_id\",\"month\",\"day\",\"dew_temperature\"]]  # 지역별 일자별 평균 날씨정보 입력\n",
    "weather_dew_avg = round(weather_dew_avg.groupby([\"site_id\",\"month\",\"day\"]).mean(),2)\n",
    "dew_mapping = weather_dew_avg.to_dict()\n",
    "dew_mapping = dew_mapping[\"dew_temperature\"]\n",
    "\n",
    "merge_train[\"dew_temperature2\"] = merge_train.set_index([\"site_id\",\"month\",\"day\"]).index.map(dew_mapping)\n",
    "\n",
    "merge_train[\"dew_temperature\"].fillna(merge_train[\"dew_temperature2\"],inplace=True)\n",
    "merge_train = merge_train.drop([\"dew_temperature2\"],axis=1)\n",
    "merge_train[\"dew_temperature\"].isna().sum()"
   ]
  },
  {
   "cell_type": "markdown",
   "metadata": {},
   "source": [
    "### 시간당 강수량 데이터 null 처리"
   ]
  },
  {
   "cell_type": "code",
   "execution_count": 31,
   "metadata": {},
   "outputs": [
    {
     "data": {
      "text/plain": [
       "precip_depth_1_hr    0.8\n",
       "dtype: float64"
      ]
     },
     "execution_count": 31,
     "metadata": {},
     "output_type": "execute_result"
    }
   ],
   "source": [
    "weather_precip_avg_day = merge_train[[\"site_id\",\"month\",\"day\",\"precip_depth_1_hr\"]]  # 지역별 일자별 평균 날씨정보 입력\n",
    "weather_precip_avg_day = round(weather_precip_avg_day.groupby([\"site_id\",\"month\",\"day\"]).mean(),2)\n",
    "\n",
    "weather_precip_avg_month = merge_train[[\"site_id\",\"month\",\"precip_depth_1_hr\"]]  # 지역별 일자별 평균 날씨정보 입력\n",
    "weather_precip_avg_month = round(weather_precip_avg_month.groupby([\"site_id\",\"month\"]).mean(),2)\n",
    "\n",
    "weather_precip_avg_site = merge_train[[\"site_id\",\"precip_depth_1_hr\"]]  # 지역별 일자별 평균 날씨정보 입력\n",
    "weather_precip_avg_site = round(weather_precip_avg_site.groupby([\"site_id\"]).mean(),2)\n",
    "\n",
    "weather_precip_avg =  round(merge_train[[\"precip_depth_1_hr\"]].mean(),2)\n",
    "weather_precip_avg"
   ]
  },
  {
   "cell_type": "code",
   "execution_count": 32,
   "metadata": {
    "scrolled": true
   },
   "outputs": [
    {
     "data": {
      "text/plain": [
       "0"
      ]
     },
     "execution_count": 32,
     "metadata": {},
     "output_type": "execute_result"
    }
   ],
   "source": [
    "# 시간당 강수량 일 기준\n",
    "precip_mapping1 = weather_precip_avg_day.to_dict()\n",
    "precip_mapping1 = precip_mapping1[\"precip_depth_1_hr\"]\n",
    "# 시간당 강수량 월 기준\n",
    "precip_mapping2 = weather_precip_avg_month.to_dict()\n",
    "precip_mapping2 = precip_mapping2[\"precip_depth_1_hr\"]\n",
    "\n",
    "precip_mapping3 = weather_precip_avg_site.to_dict()\n",
    "precip_mapping3 = precip_mapping3[\"precip_depth_1_hr\"]\n",
    "\n",
    "merge_train[\"precip_depth_1_hr1\"] = merge_train.set_index([\"site_id\",\"month\",\"day\"]).index.map(precip_mapping1)\n",
    "merge_train[\"precip_depth_1_hr2\"] = merge_train.set_index([\"site_id\",\"month\"]).index.map(precip_mapping2)\n",
    "merge_train[\"precip_depth_1_hr3\"] = merge_train.set_index([\"site_id\"]).index.map(precip_mapping3)\n",
    "\n",
    "merge_train[\"precip_depth_1_hr\"].fillna(merge_train[\"precip_depth_1_hr1\"],inplace=True)\n",
    "merge_train[\"precip_depth_1_hr\"].fillna(merge_train[\"precip_depth_1_hr2\"],inplace=True)\n",
    "merge_train[\"precip_depth_1_hr\"].fillna(merge_train[\"precip_depth_1_hr3\"],inplace=True)\n",
    "\n",
    "merge_train[\"precip_depth_1_hr\"].fillna(0.98,inplace=True)\n",
    "merge_train = merge_train.drop([\"precip_depth_1_hr1\",\"precip_depth_1_hr2\",\"precip_depth_1_hr3\"],axis=1)\n",
    "merge_train[\"precip_depth_1_hr\"].isna().sum()"
   ]
  },
  {
   "cell_type": "markdown",
   "metadata": {},
   "source": [
    "### 해수면 압력 데이터 null 값 처리"
   ]
  },
  {
   "cell_type": "code",
   "execution_count": 33,
   "metadata": {},
   "outputs": [
    {
     "data": {
      "text/plain": [
       "sea_level_pressure    1016.09\n",
       "dtype: float64"
      ]
     },
     "execution_count": 33,
     "metadata": {},
     "output_type": "execute_result"
    }
   ],
   "source": [
    "weather_sea_avg_day = merge_train[[\"site_id\",\"month\",\"day\",\"sea_level_pressure\"]]  # 지역별 일자별 평균 날씨정보 입력\n",
    "weather_sea_avg_day = round(weather_sea_avg_day.groupby([\"site_id\",\"month\",\"day\"]).mean(),2)\n",
    "\n",
    "weather_sea_avg_month = merge_train[[\"site_id\",\"month\",\"sea_level_pressure\"]]  # 지역별 일자별 평균 날씨정보 입력\n",
    "weather_sea_avg_month = round(weather_sea_avg_month.groupby([\"site_id\",\"month\"]).mean(),2)\n",
    "\n",
    "weather_sea_avg_site = merge_train[[\"site_id\",\"sea_level_pressure\"]]  # 지역별 일자별 평균 날씨정보 입력\n",
    "weather_sea_avg_site = round(weather_sea_avg_site.groupby([\"site_id\"]).mean(),2)\n",
    "\n",
    "weather_sea_avg =  round(merge_train[[\"sea_level_pressure\"]].mean(),2)\n",
    "weather_sea_avg"
   ]
  },
  {
   "cell_type": "code",
   "execution_count": 34,
   "metadata": {},
   "outputs": [
    {
     "data": {
      "text/plain": [
       "0"
      ]
     },
     "execution_count": 34,
     "metadata": {},
     "output_type": "execute_result"
    }
   ],
   "source": [
    "# 해수면 압력 일 기준\n",
    "sea_level_mapping1 = weather_sea_avg_day.to_dict()\n",
    "sea_level_mapping1 = sea_level_mapping1[\"sea_level_pressure\"]\n",
    "# 해수면 압력 월 기준\n",
    "sea_level_mapping2 = weather_sea_avg_month.to_dict()\n",
    "sea_level_mapping2 = sea_level_mapping2[\"sea_level_pressure\"]\n",
    "# 해수면 압력 site 기준\n",
    "sea_level_mapping3 = weather_sea_avg_site.to_dict()\n",
    "sea_level_mapping3 = sea_level_mapping3[\"sea_level_pressure\"]\n",
    "\n",
    "merge_train[\"sea_level_pressure2\"] = merge_train.set_index([\"site_id\",\"month\",\"day\"]).index.map(sea_level_mapping1)\n",
    "merge_train[\"sea_level_pressure3\"] = merge_train.set_index([\"site_id\",\"month\"]).index.map(sea_level_mapping2)\n",
    "merge_train[\"sea_level_pressure4\"] = merge_train.set_index([\"site_id\"]).index.map(sea_level_mapping3)\n",
    "\n",
    "merge_train[\"sea_level_pressure\"].fillna(merge_train[\"sea_level_pressure2\"],inplace=True)\n",
    "merge_train[\"sea_level_pressure\"].fillna(merge_train[\"sea_level_pressure3\"],inplace=True)\n",
    "merge_train[\"sea_level_pressure\"].fillna(merge_train[\"sea_level_pressure4\"],inplace=True)\n",
    "\n",
    "merge_train[\"sea_level_pressure\"].fillna(1016.16,inplace=True)\n",
    "merge_train = merge_train.drop([\"sea_level_pressure2\",\"sea_level_pressure3\",\"sea_level_pressure4\"],axis=1)\n",
    "merge_train[\"sea_level_pressure\"].isna().sum()"
   ]
  },
  {
   "cell_type": "markdown",
   "metadata": {},
   "source": [
    "### 바람 방향 데이터 null 처리"
   ]
  },
  {
   "cell_type": "code",
   "execution_count": 35,
   "metadata": {},
   "outputs": [
    {
     "name": "stdout",
     "output_type": "stream",
     "text": [
      "wind_direction    0\n",
      "dtype: int64\n"
     ]
    },
    {
     "data": {
      "text/plain": [
       "0"
      ]
     },
     "execution_count": 35,
     "metadata": {},
     "output_type": "execute_result"
    }
   ],
   "source": [
    "# 바람 방향\n",
    "weather_wind_direction_avg = merge_train[[\"site_id\",\"month\",\"day\",\"wind_direction\"]]  # 지역별 일자별 평균 날씨정보 입력\n",
    "weather_wind_direction_avg = round(weather_wind_direction_avg.groupby([\"site_id\",\"month\",\"day\"]).mean(),2)\n",
    "print(weather_wind_direction_avg.isna().sum())\n",
    "\n",
    "# 해수면 압력 일 기준\n",
    "wind_direction_mapping = weather_wind_direction_avg.to_dict()\n",
    "wind_direction_mapping = wind_direction_mapping[\"wind_direction\"]\n",
    "\n",
    "merge_train[\"wind_direction2\"] = merge_train.set_index([\"site_id\",\"month\",\"day\"]).index.map(wind_direction_mapping)\n",
    "\n",
    "merge_train[\"wind_direction\"].fillna(merge_train[\"wind_direction2\"],inplace=True)\n",
    "merge_train = merge_train.drop([\"wind_direction2\"],axis=1)\n",
    "merge_train[\"wind_direction\"].isna().sum()"
   ]
  },
  {
   "cell_type": "markdown",
   "metadata": {},
   "source": [
    "### 바람 속도 데이터 null 처리"
   ]
  },
  {
   "cell_type": "code",
   "execution_count": 36,
   "metadata": {},
   "outputs": [
    {
     "data": {
      "text/plain": [
       "0"
      ]
     },
     "execution_count": 36,
     "metadata": {},
     "output_type": "execute_result"
    }
   ],
   "source": [
    "weather_wind_speed_avg = merge_train[[\"site_id\",\"month\",\"day\",\"wind_speed\"]]  # 지역별 일자별 평균 날씨정보 입력\n",
    "weather_wind_speed_avg = round(weather_wind_speed_avg.groupby([\"site_id\",\"month\",\"day\"]).mean(),2)\n",
    "\n",
    "# 해수면 압력 일 기준\n",
    "wind_speed_mapping = weather_wind_speed_avg.to_dict()\n",
    "wind_speed_mapping = wind_speed_mapping[\"wind_speed\"]\n",
    "\n",
    "merge_train[\"wind_speed2\"] = merge_train.set_index([\"site_id\",\"month\",\"day\"]).index.map(wind_speed_mapping)\n",
    "\n",
    "merge_train[\"wind_speed\"].fillna(merge_train[\"wind_speed2\"],inplace=True)\n",
    "merge_train = merge_train.drop([\"wind_speed2\"],axis=1)\n",
    "merge_train[\"wind_speed\"].isna().sum()"
   ]
  },
  {
   "cell_type": "code",
   "execution_count": 37,
   "metadata": {},
   "outputs": [
    {
     "data": {
      "text/plain": [
       "building_id                  0\n",
       "meter                        0\n",
       "timestamp                    0\n",
       "meter_reading                0\n",
       "month                        0\n",
       "day                          0\n",
       "hour                         0\n",
       "site_id                      0\n",
       "primary_use                  0\n",
       "square_feet                  0\n",
       "year_built            12127645\n",
       "floor_count           16709167\n",
       "air_temperature              0\n",
       "cloud_coverage               0\n",
       "dew_temperature              0\n",
       "precip_depth_1_hr            0\n",
       "sea_level_pressure           0\n",
       "wind_direction               0\n",
       "wind_speed                   0\n",
       "primary_use_label            0\n",
       "dtype: int64"
      ]
     },
     "execution_count": 37,
     "metadata": {},
     "output_type": "execute_result"
    }
   ],
   "source": [
    "merge_train.isna().sum()"
   ]
  },
  {
   "cell_type": "markdown",
   "metadata": {},
   "source": [
    "### building 데이터 null 처리"
   ]
  },
  {
   "cell_type": "code",
   "execution_count": 38,
   "metadata": {},
   "outputs": [
    {
     "data": {
      "text/plain": [
       "<matplotlib.axes._subplots.AxesSubplot at 0x16961f51c88>"
      ]
     },
     "execution_count": 38,
     "metadata": {},
     "output_type": "execute_result"
    },
    {
     "data": {
      "image/png": "[encoded data removed]",
      "text/plain": [
       "<Figure size 1800x720 with 2 Axes>"
      ]
     },
     "metadata": {
      "needs_background": "light"
     },
     "output_type": "display_data"
    }
   ],
   "source": [
    "msno.matrix(merge_train.sample(1000))"
   ]
  },
  {
   "cell_type": "markdown",
   "metadata": {},
   "source": [
    "### floor_count의 경우 null 값이 더 많아 불필요하다고 판단"
   ]
  },
  {
   "cell_type": "code",
   "execution_count": 39,
   "metadata": {},
   "outputs": [],
   "source": [
    "merge_train = merge_train.drop([\"floor_count\"],axis=1)"
   ]
  },
  {
   "cell_type": "markdown",
   "metadata": {},
   "source": [
    "### 건물 연식 데이터 null 처리"
   ]
  },
  {
   "cell_type": "code",
   "execution_count": 40,
   "metadata": {},
   "outputs": [
    {
     "data": {
      "text/html": [
       "<div>\n",
       "<style scoped>\n",
       "    .dataframe tbody tr th:only-of-type {\n",
       "        vertical-align: middle;\n",
       "    }\n",
       "\n",
       "    .dataframe tbody tr th {\n",
       "        vertical-align: top;\n",
       "    }\n",
       "\n",
       "    .dataframe thead th {\n",
       "        text-align: right;\n",
       "    }\n",
       "</style>\n",
       "<table border=\"1\" class=\"dataframe\">\n",
       "  <thead>\n",
       "    <tr style=\"text-align: right;\">\n",
       "      <th></th>\n",
       "      <th>year_built</th>\n",
       "    </tr>\n",
       "    <tr>\n",
       "      <th>site_id</th>\n",
       "      <th></th>\n",
       "    </tr>\n",
       "  </thead>\n",
       "  <tbody>\n",
       "    <tr>\n",
       "      <th>0</th>\n",
       "      <td>1076662</td>\n",
       "    </tr>\n",
       "    <tr>\n",
       "      <th>1</th>\n",
       "      <td>412827</td>\n",
       "    </tr>\n",
       "    <tr>\n",
       "      <th>2</th>\n",
       "      <td>1948380</td>\n",
       "    </tr>\n",
       "    <tr>\n",
       "      <th>3</th>\n",
       "      <td>1133262</td>\n",
       "    </tr>\n",
       "    <tr>\n",
       "      <th>4</th>\n",
       "      <td>736951</td>\n",
       "    </tr>\n",
       "    <tr>\n",
       "      <th>5</th>\n",
       "      <td>772992</td>\n",
       "    </tr>\n",
       "    <tr>\n",
       "      <th>6</th>\n",
       "      <td>0</td>\n",
       "    </tr>\n",
       "    <tr>\n",
       "      <th>7</th>\n",
       "      <td>340707</td>\n",
       "    </tr>\n",
       "    <tr>\n",
       "      <th>8</th>\n",
       "      <td>0</td>\n",
       "    </tr>\n",
       "    <tr>\n",
       "      <th>9</th>\n",
       "      <td>0</td>\n",
       "    </tr>\n",
       "    <tr>\n",
       "      <th>10</th>\n",
       "      <td>0</td>\n",
       "    </tr>\n",
       "    <tr>\n",
       "      <th>11</th>\n",
       "      <td>0</td>\n",
       "    </tr>\n",
       "    <tr>\n",
       "      <th>12</th>\n",
       "      <td>0</td>\n",
       "    </tr>\n",
       "    <tr>\n",
       "      <th>13</th>\n",
       "      <td>0</td>\n",
       "    </tr>\n",
       "    <tr>\n",
       "      <th>14</th>\n",
       "      <td>0</td>\n",
       "    </tr>\n",
       "    <tr>\n",
       "      <th>15</th>\n",
       "      <td>1666674</td>\n",
       "    </tr>\n",
       "  </tbody>\n",
       "</table>\n",
       "</div>"
      ],
      "text/plain": [
       "         year_built\n",
       "site_id            \n",
       "0           1076662\n",
       "1            412827\n",
       "2           1948380\n",
       "3           1133262\n",
       "4            736951\n",
       "5            772992\n",
       "6                 0\n",
       "7            340707\n",
       "8                 0\n",
       "9                 0\n",
       "10                0\n",
       "11                0\n",
       "12                0\n",
       "13                0\n",
       "14                0\n",
       "15          1666674"
      ]
     },
     "execution_count": 40,
     "metadata": {},
     "output_type": "execute_result"
    }
   ],
   "source": [
    "grp6 = merge_train[[\"site_id\",\"year_built\"]]\n",
    "grp6 = grp6.groupby([\"site_id\"]).count()\n",
    "grp6\n",
    "#grp6[\"site_id\"] = grp6.index\n",
    "#sns.barplot(data=grp6, x=\"site_id\", y=\"year_built\")"
   ]
  },
  {
   "cell_type": "markdown",
   "metadata": {},
   "source": [
    "### 연식 정보가 없는 site가 반(1/2)"
   ]
  },
  {
   "cell_type": "code",
   "execution_count": 41,
   "metadata": {},
   "outputs": [],
   "source": [
    "# 지역, 용도 기준\n",
    "building_year_site_avg = merge_train[[\"site_id\",\"primary_use\",\"year_built\"]] \n",
    "building_year_site_avg = building_year_site_avg.groupby([\"site_id\",\"primary_use\"]).mean()\n",
    "# 지역 기준\n",
    "building_year_site_avg = merge_train[[\"site_id\",\"year_built\"]] \n",
    "building_year_site_avg = building_year_site_avg.groupby([\"site_id\"]).mean()\n",
    "# 용도 기준\n",
    "building_year_primary_avg = merge_train[[\"primary_use\",\"year_built\"]] \n",
    "building_year_primary_avg = building_year_primary_avg.groupby([\"primary_use\"]).mean()\n",
    "# 전체 평균\n",
    "building_year_avg = round(merge_train[[\"year_built\"]].mean(),0)"
   ]
  },
  {
   "cell_type": "code",
   "execution_count": 42,
   "metadata": {
    "scrolled": true
   },
   "outputs": [
    {
     "data": {
      "text/plain": [
       "<matplotlib.axes._subplots.AxesSubplot at 0x16874400cf8>"
      ]
     },
     "execution_count": 42,
     "metadata": {},
     "output_type": "execute_result"
    },
    {
     "data": {
      "image/png": "[encoded data removed]",
      "text/plain": [
       "<Figure size 1800x720 with 2 Axes>"
      ]
     },
     "metadata": {
      "needs_background": "light"
     },
     "output_type": "display_data"
    }
   ],
   "source": [
    "# site, 용도 별 평균\n",
    "building_year_mapping1 = building_year_site_avg.to_dict()\n",
    "building_year_mapping1 = building_year_mapping1[\"year_built\"]\n",
    "# site 평균\n",
    "building_year_mapping2 = building_year_site_avg.to_dict()\n",
    "building_year_mapping2 = building_year_mapping2[\"year_built\"]\n",
    "# 용도 평균\n",
    "building_year_mapping3 = building_year_primary_avg.to_dict()\n",
    "building_year_mapping3 = building_year_mapping3[\"year_built\"]\n",
    "\n",
    "merge_train[\"year_built2\"] = merge_train.set_index([\"site_id\",\"primary_use\"]).index.map(building_year_mapping1)\n",
    "merge_train[\"year_built3\"] = merge_train.set_index([\"site_id\"]).index.map(building_year_mapping2)\n",
    "merge_train[\"year_built4\"] = merge_train.set_index([\"primary_use\"]).index.map(building_year_mapping3)\n",
    "\n",
    "merge_train[\"year_built\"].fillna(round(merge_train[\"year_built2\"],0),inplace=True)\n",
    "merge_train[\"year_built\"].fillna(round(merge_train[\"year_built3\"],0),inplace=True)\n",
    "merge_train[\"year_built\"].fillna(round(merge_train[\"year_built4\"],0),inplace=True)\n",
    "merge_train[\"year_built\"].fillna(1968.0,inplace=True)\n",
    "\n",
    "# 생성햇던 데이터 삭제\n",
    "merge_train = merge_train.drop([\"year_built2\",\"year_built3\",\"year_built4\"],axis=1)\n",
    "\n",
    "msno.matrix(merge_train.sample(1000))"
   ]
  },
  {
   "cell_type": "code",
   "execution_count": 43,
   "metadata": {},
   "outputs": [
    {
     "data": {
      "text/plain": [
       "building_id           0\n",
       "meter                 0\n",
       "timestamp             0\n",
       "meter_reading         0\n",
       "month                 0\n",
       "day                   0\n",
       "hour                  0\n",
       "site_id               0\n",
       "primary_use           0\n",
       "square_feet           0\n",
       "year_built            0\n",
       "air_temperature       0\n",
       "cloud_coverage        0\n",
       "dew_temperature       0\n",
       "precip_depth_1_hr     0\n",
       "sea_level_pressure    0\n",
       "wind_direction        0\n",
       "wind_speed            0\n",
       "primary_use_label     0\n",
       "dtype: int64"
      ]
     },
     "execution_count": 43,
     "metadata": {},
     "output_type": "execute_result"
    }
   ],
   "source": [
    "merge_train.isna().sum()"
   ]
  },
  {
   "cell_type": "markdown",
   "metadata": {},
   "source": [
    "### 불필요한 object column 제거 "
   ]
  },
  {
   "cell_type": "code",
   "execution_count": 47,
   "metadata": {},
   "outputs": [
    {
     "name": "stdout",
     "output_type": "stream",
     "text": [
      "<class 'pandas.core.frame.DataFrame'>\n",
      "Int64Index: 20216100 entries, 0 to 20216099\n",
      "Data columns (total 16 columns):\n",
      "meter                 int64\n",
      "month                 int32\n",
      "day                   int32\n",
      "hour                  int32\n",
      "site_id               int64\n",
      "square_feet           int64\n",
      "year_built            float64\n",
      "air_temperature       float64\n",
      "cloud_coverage        float64\n",
      "dew_temperature       float64\n",
      "precip_depth_1_hr     float64\n",
      "sea_level_pressure    float64\n",
      "wind_direction        float64\n",
      "wind_speed            float64\n",
      "primary_use_label     int32\n",
      "target                float64\n",
      "dtypes: float64(9), int32(4), int64(3)\n",
      "memory usage: 2.3 GB\n"
     ]
    }
   ],
   "source": [
    "merge_train[\"target\"] = merge_train[\"meter_reading\"]\n",
    "merge_train = merge_train.drop([\"building_id\",\"timestamp\",\"primary_use\",\"meter_reading\"],axis=1)\n",
    "merge_train.info()"
   ]
  },
  {
   "cell_type": "markdown",
   "metadata": {},
   "source": [
    "# 4. 데이터 분석"
   ]
  },
  {
   "cell_type": "code",
   "execution_count": 49,
   "metadata": {},
   "outputs": [
    {
     "data": {
      "text/plain": [
       "<matplotlib.axes._subplots.AxesSubplot at 0x16700e94e80>"
      ]
     },
     "execution_count": 49,
     "metadata": {},
     "output_type": "execute_result"
    },
    {
     "data": {
      "image/png": "[encoded data removed]",
      "text/plain": [
       "<Figure size 2160x1080 with 2 Axes>"
      ]
     },
     "metadata": {
      "needs_background": "light"
     },
     "output_type": "display_data"
    }
   ],
   "source": [
    "corrMatt = merge_train[merge_train.columns]\n",
    "corrMatt = corrMatt.corr()\n",
    "#print(corrMatt)\n",
    "mask = np.array(corrMatt)\n",
    "mask[np.tril_indices_from(mask)] = False\n",
    "\n",
    "# corrMatt의 데이터가 어떤 relation이 있는지 확인\n",
    "fig, ax = plt.subplots()\n",
    "fig.set_size_inches(30,15)\n",
    "sns.heatmap(corrMatt, mask=mask, vmax=8, square=True, annot=True)"
   ]
  },
  {
   "cell_type": "code",
   "execution_count": 48,
   "metadata": {},
   "outputs": [],
   "source": [
    "merge_train.to_csv('merge_train_data.csv')"
   ]
  },
  {
   "cell_type": "markdown",
   "metadata": {},
   "source": [
    "# 5. 데이터 모델링"
   ]
  },
  {
   "cell_type": "markdown",
   "metadata": {},
   "source": [
    "### train / test data set"
   ]
  },
  {
   "cell_type": "code",
   "execution_count": 51,
   "metadata": {},
   "outputs": [],
   "source": [
    "features = merge_train.columns\n",
    "data_x = merge_train[features[0:len(features)-1]]"
   ]
  },
  {
   "cell_type": "code",
   "execution_count": 52,
   "metadata": {},
   "outputs": [
    {
     "data": {
      "text/html": [
       "<div>\n",
       "<style scoped>\n",
       "    .dataframe tbody tr th:only-of-type {\n",
       "        vertical-align: middle;\n",
       "    }\n",
       "\n",
       "    .dataframe tbody tr th {\n",
       "        vertical-align: top;\n",
       "    }\n",
       "\n",
       "    .dataframe thead th {\n",
       "        text-align: right;\n",
       "    }\n",
       "</style>\n",
       "<table border=\"1\" class=\"dataframe\">\n",
       "  <thead>\n",
       "    <tr style=\"text-align: right;\">\n",
       "      <th></th>\n",
       "      <th>meter</th>\n",
       "      <th>month</th>\n",
       "      <th>day</th>\n",
       "      <th>hour</th>\n",
       "      <th>site_id</th>\n",
       "      <th>square_feet</th>\n",
       "      <th>year_built</th>\n",
       "      <th>air_temperature</th>\n",
       "      <th>cloud_coverage</th>\n",
       "      <th>dew_temperature</th>\n",
       "      <th>precip_depth_1_hr</th>\n",
       "      <th>sea_level_pressure</th>\n",
       "      <th>wind_direction</th>\n",
       "      <th>wind_speed</th>\n",
       "      <th>primary_use_label</th>\n",
       "    </tr>\n",
       "  </thead>\n",
       "  <tbody>\n",
       "    <tr>\n",
       "      <th>0</th>\n",
       "      <td>0</td>\n",
       "      <td>1</td>\n",
       "      <td>1</td>\n",
       "      <td>0</td>\n",
       "      <td>0</td>\n",
       "      <td>7432</td>\n",
       "      <td>2008.0</td>\n",
       "      <td>25.0</td>\n",
       "      <td>6.0</td>\n",
       "      <td>20.0</td>\n",
       "      <td>-0.17</td>\n",
       "      <td>1019.7</td>\n",
       "      <td>0.0</td>\n",
       "      <td>0.0</td>\n",
       "      <td>0</td>\n",
       "    </tr>\n",
       "    <tr>\n",
       "      <th>1</th>\n",
       "      <td>0</td>\n",
       "      <td>1</td>\n",
       "      <td>1</td>\n",
       "      <td>0</td>\n",
       "      <td>0</td>\n",
       "      <td>2720</td>\n",
       "      <td>2004.0</td>\n",
       "      <td>25.0</td>\n",
       "      <td>6.0</td>\n",
       "      <td>20.0</td>\n",
       "      <td>-0.17</td>\n",
       "      <td>1019.7</td>\n",
       "      <td>0.0</td>\n",
       "      <td>0.0</td>\n",
       "      <td>0</td>\n",
       "    </tr>\n",
       "    <tr>\n",
       "      <th>2</th>\n",
       "      <td>0</td>\n",
       "      <td>1</td>\n",
       "      <td>1</td>\n",
       "      <td>0</td>\n",
       "      <td>0</td>\n",
       "      <td>5376</td>\n",
       "      <td>1991.0</td>\n",
       "      <td>25.0</td>\n",
       "      <td>6.0</td>\n",
       "      <td>20.0</td>\n",
       "      <td>-0.17</td>\n",
       "      <td>1019.7</td>\n",
       "      <td>0.0</td>\n",
       "      <td>0.0</td>\n",
       "      <td>0</td>\n",
       "    </tr>\n",
       "    <tr>\n",
       "      <th>3</th>\n",
       "      <td>0</td>\n",
       "      <td>1</td>\n",
       "      <td>1</td>\n",
       "      <td>0</td>\n",
       "      <td>0</td>\n",
       "      <td>23685</td>\n",
       "      <td>2002.0</td>\n",
       "      <td>25.0</td>\n",
       "      <td>6.0</td>\n",
       "      <td>20.0</td>\n",
       "      <td>-0.17</td>\n",
       "      <td>1019.7</td>\n",
       "      <td>0.0</td>\n",
       "      <td>0.0</td>\n",
       "      <td>0</td>\n",
       "    </tr>\n",
       "    <tr>\n",
       "      <th>4</th>\n",
       "      <td>0</td>\n",
       "      <td>1</td>\n",
       "      <td>1</td>\n",
       "      <td>0</td>\n",
       "      <td>0</td>\n",
       "      <td>116607</td>\n",
       "      <td>1975.0</td>\n",
       "      <td>25.0</td>\n",
       "      <td>6.0</td>\n",
       "      <td>20.0</td>\n",
       "      <td>-0.17</td>\n",
       "      <td>1019.7</td>\n",
       "      <td>0.0</td>\n",
       "      <td>0.0</td>\n",
       "      <td>0</td>\n",
       "    </tr>\n",
       "  </tbody>\n",
       "</table>\n",
       "</div>"
      ],
      "text/plain": [
       "   meter  month  day  hour  site_id  square_feet  year_built  air_temperature  \\\n",
       "0      0      1    1     0        0         7432      2008.0             25.0   \n",
       "1      0      1    1     0        0         2720      2004.0             25.0   \n",
       "2      0      1    1     0        0         5376      1991.0             25.0   \n",
       "3      0      1    1     0        0        23685      2002.0             25.0   \n",
       "4      0      1    1     0        0       116607      1975.0             25.0   \n",
       "\n",
       "   cloud_coverage  dew_temperature  precip_depth_1_hr  sea_level_pressure  \\\n",
       "0             6.0             20.0              -0.17              1019.7   \n",
       "1             6.0             20.0              -0.17              1019.7   \n",
       "2             6.0             20.0              -0.17              1019.7   \n",
       "3             6.0             20.0              -0.17              1019.7   \n",
       "4             6.0             20.0              -0.17              1019.7   \n",
       "\n",
       "   wind_direction  wind_speed  primary_use_label  \n",
       "0             0.0         0.0                  0  \n",
       "1             0.0         0.0                  0  \n",
       "2             0.0         0.0                  0  \n",
       "3             0.0         0.0                  0  \n",
       "4             0.0         0.0                  0  "
      ]
     },
     "execution_count": 52,
     "metadata": {},
     "output_type": "execute_result"
    }
   ],
   "source": [
    "data_x.head(5)"
   ]
  },
  {
   "cell_type": "code",
   "execution_count": 53,
   "metadata": {},
   "outputs": [
    {
     "data": {
      "text/plain": [
       "0    0.0\n",
       "1    0.0\n",
       "2    0.0\n",
       "3    0.0\n",
       "4    0.0\n",
       "Name: target, dtype: float64"
      ]
     },
     "execution_count": 53,
     "metadata": {},
     "output_type": "execute_result"
    }
   ],
   "source": [
    "data_y = merge_train[\"target\"]\n",
    "data_y.head(5)"
   ]
  },
  {
   "cell_type": "code",
   "execution_count": 54,
   "metadata": {},
   "outputs": [],
   "source": [
    "from sklearn.model_selection import train_test_split"
   ]
  },
  {
   "cell_type": "code",
   "execution_count": 55,
   "metadata": {},
   "outputs": [],
   "source": [
    "trainingData_features, testData_features, trainingData_labels,testData_lables = \\\n",
    "train_test_split(data_x, data_y, test_size = 0.2, random_state = 2)"
   ]
  },
  {
   "cell_type": "code",
   "execution_count": 56,
   "metadata": {},
   "outputs": [
    {
     "name": "stdout",
     "output_type": "stream",
     "text": [
      "(16172880, 15)\n",
      "(4043220, 15)\n",
      "(16172880,)\n",
      "(4043220,)\n"
     ]
    }
   ],
   "source": [
    "print(trainingData_features.shape)\n",
    "print(testData_features.shape)\n",
    "print(trainingData_labels.shape)\n",
    "print(testData_lables.shape)"
   ]
  },
  {
   "cell_type": "code",
   "execution_count": 57,
   "metadata": {},
   "outputs": [],
   "source": [
    "from tensorflow.keras import Sequential\n",
    "from tensorflow.keras.layers import Dense, Conv2D, MaxPooling2D, Flatten, Dropout"
   ]
  },
  {
   "cell_type": "code",
   "execution_count": 62,
   "metadata": {},
   "outputs": [],
   "source": [
    "def base_model():\n",
    "    model = Sequential()\n",
    "    model.add(Dense(16,kernel_initializer='random_uniform',bias_initializer='zeros',activation='relu', input_shape=(len(features)-1,)))\n",
    "    model.add(Dropout(0.2))\n",
    "\n",
    "    model.add(Dense(32,kernel_initializer='random_uniform',bias_initializer='zeros',activation='relu'))\n",
    "    model.add(Dropout(0.2))\n",
    "\n",
    "    model.add(Dense(64,kernel_initializer='random_uniform',bias_initializer='zeros', activation='relu'))\n",
    "    model.add(Dropout(0.2))\n",
    "\n",
    "    model.add(Dense(32,kernel_initializer='random_uniform',bias_initializer='zeros',activation='relu'))\n",
    "    model.add(Dropout(0.2))\n",
    "\n",
    "    model.add(Dense(8,kernel_initializer='random_uniform',bias_initializer='zeros',activation='relu'))\n",
    "    model.add(Dense(1))\n",
    "    optimizer = keras.optimizers.Adam()\n",
    "    model.compile(loss='mean_squared_error', optimizer=optimizer,metrics=['mean_absolute_error', 'mean_squared_error'])\n",
    "    return model\n"
   ]
  },
  {
   "cell_type": "code",
   "execution_count": 63,
   "metadata": {},
   "outputs": [],
   "source": [
    "from keras.wrappers.scikit_learn import KerasClassifier, KerasRegressor"
   ]
  },
  {
   "cell_type": "code",
   "execution_count": 69,
   "metadata": {},
   "outputs": [],
   "source": [
    "from tensorflow.keras.callbacks import ModelCheckpoint"
   ]
  },
  {
   "cell_type": "code",
   "execution_count": 70,
   "metadata": {},
   "outputs": [],
   "source": [
    "callbacklist = [\n",
    "    ModelCheckpoint(filepath=\"./ashrae_model.h5\", monitor=\"loss\",save_best_only=True )\n",
    "]\n"
   ]
  },
  {
   "cell_type": "code",
   "execution_count": 71,
   "metadata": {},
   "outputs": [],
   "source": [
    "my_model = KerasRegressor(build_fn=base_model, epochs=5, batch_size=100,verbose=0,callbacks=callbacklist)    "
   ]
  },
  {
   "cell_type": "code",
   "execution_count": null,
   "metadata": {},
   "outputs": [
    {
     "name": "stdout",
     "output_type": "stream",
     "text": [
      "WARNING:tensorflow:Falling back from v2 loop because of error: Failed to find data adapter that can handle input: <class 'pandas.core.frame.DataFrame'>, <class 'NoneType'>\n"
     ]
    }
   ],
   "source": [
    "history = my_model.fit(trainingData_features, trainingData_labels) "
   ]
  },
  {
   "cell_type": "markdown",
   "metadata": {},
   "source": [
    "# 6. 모델 추론"
   ]
  },
  {
   "cell_type": "code",
   "execution_count": null,
   "metadata": {},
   "outputs": [],
   "source": [
    "import math\n",
    "# loss,mae , rmse 결과 확인\n",
    "loss, mae, mse = model.evaluate(testData_features , testData_label , verbose=0)\n",
    "print(mae) \n",
    "print(math.sqrt(mse))"
   ]
  },
  {
   "cell_type": "code",
   "execution_count": null,
   "metadata": {},
   "outputs": [],
   "source": []
  },
  {
   "cell_type": "code",
   "execution_count": null,
   "metadata": {},
   "outputs": [],
   "source": []
  },
  {
   "cell_type": "code",
   "execution_count": null,
   "metadata": {},
   "outputs": [],
   "source": []
  },
  {
   "cell_type": "markdown",
   "metadata": {},
   "source": [
    "# Test 데이터 전처리"
   ]
  },
  {
   "cell_type": "code",
   "execution_count": null,
   "metadata": {
    "scrolled": false
   },
   "outputs": [],
   "source": [
    "primary_use_label = primary_use.to_dict()\n",
    "primary_use_label = primary_use_label[\"primary_use_label\"]\n",
    "primary_use_label"
   ]
  },
  {
   "cell_type": "code",
   "execution_count": null,
   "metadata": {},
   "outputs": [],
   "source": []
  },
  {
   "cell_type": "markdown",
   "metadata": {},
   "source": [
    "## TEST 데이터 Merge"
   ]
  },
  {
   "cell_type": "code",
   "execution_count": null,
   "metadata": {},
   "outputs": [],
   "source": [
    "merge_test = pd.merge(merge_test, weather_test,how=\"left\",on=[\"site_id\",\"timestamp\"])\n",
    "merge_test.head(5)"
   ]
  },
  {
   "cell_type": "code",
   "execution_count": null,
   "metadata": {},
   "outputs": [],
   "source": [
    "merge_test[\"year\"] = (merge_test[\"timestamp\"].str[:4]).astype(int)\n",
    "merge_test[\"month\"] = (merge_test[\"timestamp\"].str[5:7]).astype(int)\n",
    "merge_test.head(10)"
   ]
  },
  {
   "cell_type": "code",
   "execution_count": null,
   "metadata": {},
   "outputs": [],
   "source": [
    "msno.matrix(merge_test.sample(1000))"
   ]
  },
  {
   "cell_type": "code",
   "execution_count": null,
   "metadata": {},
   "outputs": [],
   "source": [
    "merge_test.isna().sum()"
   ]
  },
  {
   "cell_type": "code",
   "execution_count": null,
   "metadata": {},
   "outputs": [],
   "source": []
  }
 ],
 "metadata": {
  "kernelspec": {
   "display_name": "Python 3",
   "language": "python",
   "name": "python3"
  },
  "language_info": {
   "codemirror_mode": {
    "name": "ipython",
    "version": 3
   },
   "file_extension": ".py",
   "mimetype": "text/x-python",
   "name": "python",
   "nbconvert_exporter": "python",
   "pygments_lexer": "ipython3",
   "version": "3.7.3"
  }
 },
 "nbformat": 4,
 "nbformat_minor": 2
}
