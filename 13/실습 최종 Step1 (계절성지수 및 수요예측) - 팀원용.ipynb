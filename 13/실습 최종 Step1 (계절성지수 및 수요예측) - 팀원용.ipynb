{
 "cells": [
  {
   "cell_type": "markdown",
   "metadata": {},
   "source": [
    "### 데이터 불러오기"
   ]
  },
  {
   "cell_type": "code",
   "execution_count": 1,
   "metadata": {},
   "outputs": [],
   "source": [
    "import pandas as pd\n",
    "import numpy as np\n",
    "from isoweek import Week\n",
    "import time\n",
    "from pandas import Series, DataFrame\n",
    "from collections import OrderedDict\n",
    "import matplotlib.pyplot as plt"
   ]
  },
  {
   "cell_type": "code",
   "execution_count": 2,
   "metadata": {},
   "outputs": [],
   "source": [
    "actualData = pd.read_csv(\"../dataset/pro_actual_sales.csv\")"
   ]
  },
  {
   "cell_type": "code",
   "execution_count": 3,
   "metadata": {
    "scrolled": true
   },
   "outputs": [
    {
     "data": {
      "text/html": [
       "<div>\n",
       "<style scoped>\n",
       "    .dataframe tbody tr th:only-of-type {\n",
       "        vertical-align: middle;\n",
       "    }\n",
       "\n",
       "    .dataframe tbody tr th {\n",
       "        vertical-align: top;\n",
       "    }\n",
       "\n",
       "    .dataframe thead th {\n",
       "        text-align: right;\n",
       "    }\n",
       "</style>\n",
       "<table border=\"1\" class=\"dataframe\">\n",
       "  <thead>\n",
       "    <tr style=\"text-align: right;\">\n",
       "      <th></th>\n",
       "      <th>regionSeg1</th>\n",
       "      <th>productSeg1</th>\n",
       "      <th>productSeg2</th>\n",
       "      <th>regionSeg2</th>\n",
       "      <th>regionSeg3</th>\n",
       "      <th>productSeg3</th>\n",
       "      <th>yearweek</th>\n",
       "      <th>year</th>\n",
       "      <th>week</th>\n",
       "      <th>qty</th>\n",
       "    </tr>\n",
       "  </thead>\n",
       "  <tbody>\n",
       "    <tr>\n",
       "      <td>0</td>\n",
       "      <td>A01</td>\n",
       "      <td>NaN</td>\n",
       "      <td>PG05</td>\n",
       "      <td>SALESID0001</td>\n",
       "      <td>SITEID0004</td>\n",
       "      <td>ITEM0445</td>\n",
       "      <td>201306</td>\n",
       "      <td>2013</td>\n",
       "      <td>6</td>\n",
       "      <td>5</td>\n",
       "    </tr>\n",
       "    <tr>\n",
       "      <td>1</td>\n",
       "      <td>A01</td>\n",
       "      <td>NaN</td>\n",
       "      <td>PG05</td>\n",
       "      <td>SALESID0001</td>\n",
       "      <td>SITEID0004</td>\n",
       "      <td>ITEM0445</td>\n",
       "      <td>201307</td>\n",
       "      <td>2013</td>\n",
       "      <td>7</td>\n",
       "      <td>8</td>\n",
       "    </tr>\n",
       "    <tr>\n",
       "      <td>2</td>\n",
       "      <td>A01</td>\n",
       "      <td>NaN</td>\n",
       "      <td>PG05</td>\n",
       "      <td>SALESID0001</td>\n",
       "      <td>SITEID0004</td>\n",
       "      <td>ITEM0445</td>\n",
       "      <td>201308</td>\n",
       "      <td>2013</td>\n",
       "      <td>8</td>\n",
       "      <td>7</td>\n",
       "    </tr>\n",
       "    <tr>\n",
       "      <td>3</td>\n",
       "      <td>A01</td>\n",
       "      <td>NaN</td>\n",
       "      <td>PG05</td>\n",
       "      <td>SALESID0001</td>\n",
       "      <td>SITEID0004</td>\n",
       "      <td>ITEM0445</td>\n",
       "      <td>201309</td>\n",
       "      <td>2013</td>\n",
       "      <td>9</td>\n",
       "      <td>1</td>\n",
       "    </tr>\n",
       "    <tr>\n",
       "      <td>4</td>\n",
       "      <td>A01</td>\n",
       "      <td>NaN</td>\n",
       "      <td>PG05</td>\n",
       "      <td>SALESID0001</td>\n",
       "      <td>SITEID0004</td>\n",
       "      <td>ITEM0445</td>\n",
       "      <td>201310</td>\n",
       "      <td>2013</td>\n",
       "      <td>10</td>\n",
       "      <td>1</td>\n",
       "    </tr>\n",
       "  </tbody>\n",
       "</table>\n",
       "</div>"
      ],
      "text/plain": [
       "  regionSeg1  productSeg1 productSeg2   regionSeg2  regionSeg3 productSeg3  \\\n",
       "0        A01          NaN        PG05  SALESID0001  SITEID0004    ITEM0445   \n",
       "1        A01          NaN        PG05  SALESID0001  SITEID0004    ITEM0445   \n",
       "2        A01          NaN        PG05  SALESID0001  SITEID0004    ITEM0445   \n",
       "3        A01          NaN        PG05  SALESID0001  SITEID0004    ITEM0445   \n",
       "4        A01          NaN        PG05  SALESID0001  SITEID0004    ITEM0445   \n",
       "\n",
       "   yearweek  year  week  qty  \n",
       "0    201306  2013     6    5  \n",
       "1    201307  2013     7    8  \n",
       "2    201308  2013     8    7  \n",
       "3    201309  2013     9    1  \n",
       "4    201310  2013    10    1  "
      ]
     },
     "execution_count": 3,
     "metadata": {},
     "output_type": "execute_result"
    }
   ],
   "source": [
    "actualData.head()"
   ]
  },
  {
   "cell_type": "code",
   "execution_count": 4,
   "metadata": {},
   "outputs": [
    {
     "data": {
      "text/plain": [
       "regionSeg1      object\n",
       "productSeg1    float64\n",
       "productSeg2     object\n",
       "regionSeg2      object\n",
       "regionSeg3      object\n",
       "productSeg3     object\n",
       "yearweek         int64\n",
       "year             int64\n",
       "week             int64\n",
       "qty              int64\n",
       "dtype: object"
      ]
     },
     "execution_count": 4,
     "metadata": {},
     "output_type": "execute_result"
    }
   ],
   "source": [
    "actualData.dtypes"
   ]
  },
  {
   "cell_type": "code",
   "execution_count": 5,
   "metadata": {},
   "outputs": [
    {
     "data": {
      "text/plain": [
       "140867"
      ]
     },
     "execution_count": 5,
     "metadata": {},
     "output_type": "execute_result"
    }
   ],
   "source": [
    "len(actualData.index)"
   ]
  },
  {
   "cell_type": "markdown",
   "metadata": {},
   "source": [
    "### 활용가능 함수 (preWeek은 postWeek 활용 제작)"
   ]
  },
  {
   "cell_type": "code",
   "execution_count": 6,
   "metadata": {},
   "outputs": [],
   "source": [
    "## postWeek 함수 생성 \n",
    "\n",
    "def postWeek(inputYW, gapWeek) :\n",
    "    inputYW = str(inputYW)\n",
    "    inputY = inputYW[0:4]\n",
    "    inputW = inputYW[4:]\n",
    "    \n",
    "    gapWeek = int(gapWeek)\n",
    "    \n",
    "    sumWeek = int(inputW) + gapWeek\n",
    "    \n",
    "    currYear = int(inputY)\n",
    "    lastWeek = Week.last_week_of_year(currYear).week\n",
    "    \n",
    "    while(sumWeek > lastWeek) :\n",
    "        sumWeek -= lastWeek\n",
    "        currYear += 1\n",
    "        lastWeek = Week.last_week_of_year(currYear).week\n",
    "        \n",
    "    if(sumWeek < 10) :\n",
    "        lastAnswer = str(currYear) + \"0\" + str(sumWeek)\n",
    "    else :\n",
    "        lastAnswer = str(currYear) + str(sumWeek)\n",
    "    \n",
    "    return lastAnswer"
   ]
  }
 ],
 "metadata": {
  "kernelspec": {
   "display_name": "Python 3",
   "language": "python",
   "name": "python3"
  },
  "language_info": {
   "codemirror_mode": {
    "name": "ipython",
    "version": 3
   },
   "file_extension": ".py",
   "mimetype": "text/x-python",
   "name": "python",
   "nbconvert_exporter": "python",
   "pygments_lexer": "ipython3",
   "version": "3.6.8"
  }
 },
 "nbformat": 4,
 "nbformat_minor": 2
}
