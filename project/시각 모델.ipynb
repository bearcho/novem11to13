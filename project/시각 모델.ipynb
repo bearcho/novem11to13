{
 "cells": [
  {
   "cell_type": "code",
   "execution_count": 1,
   "metadata": {},
   "outputs": [],
   "source": [
    "import pandas as pd\n",
    "import numpy as np\n",
    "import cv2\n",
    "import os\n",
    "import matplotlib.pyplot as plt\n",
    "from tensorflow import keras\n",
    "%matplotlib inline"
   ]
  },
  {
   "cell_type": "code",
   "execution_count": 2,
   "metadata": {},
   "outputs": [],
   "source": [
    "from tensorflow.keras.models import model_from_json"
   ]
  },
  {
   "cell_type": "code",
   "execution_count": 3,
   "metadata": {},
   "outputs": [],
   "source": [
    "EMOTIONS_LIST = [\"Angry\", \"Disgust\", \"Fear\", \"Happy\",\"Neutral\", \"Sad\", \"Surprise\"]\n",
    "EMOTIONS_LIST2 = [\"Angry\", \"Angry\", \"Fear\", \"Happy\",\"Neutral\", \"Sad\", \"Neutral\"]\n",
    "\n",
    "GENDER_LIST = [\"MAN\", \"WOMAN\"]\n",
    "## wiki crop 데이터는 남여가 숫자가 반대\n",
    "GENDER_WIKILIST = [\"WOMAN\", \"MAN\"]"
   ]
  },
  {
   "cell_type": "code",
   "execution_count": 4,
   "metadata": {},
   "outputs": [],
   "source": [
    "json_file = open(\"./model_emotion.json\",\"r\")\n",
    "loaded_model_json = json_file.read()\n",
    "json_file.close()"
   ]
  },
  {
   "cell_type": "code",
   "execution_count": 5,
   "metadata": {},
   "outputs": [],
   "source": [
    "loaded_model = model_from_json(loaded_model_json)"
   ]
  },
  {
   "cell_type": "code",
   "execution_count": 6,
   "metadata": {},
   "outputs": [],
   "source": [
    "loaded_model.load_weights(\"./model_emotion_kopo_weight.h5\")\n",
    "# testImg = cv2.imread(\"d:\\sample_image.PNG\",cv2.IMREAD_COLOR)"
   ]
  },
  {
   "cell_type": "code",
   "execution_count": 7,
   "metadata": {},
   "outputs": [],
   "source": [
    "gen_json_file = open(\"./model_gender.json\",\"r\")\n",
    "gen_loaded_model_json = gen_json_file.read()\n",
    "gen_json_file.close()"
   ]
  },
  {
   "cell_type": "code",
   "execution_count": 8,
   "metadata": {},
   "outputs": [],
   "source": [
    "gen_loaded_model = model_from_json(gen_loaded_model_json)"
   ]
  },
  {
   "cell_type": "code",
   "execution_count": 9,
   "metadata": {},
   "outputs": [],
   "source": [
    "gen_loaded_model.load_weights(\"./model_gender_kopo_weight.h5\")"
   ]
  },
  {
   "cell_type": "code",
   "execution_count": 10,
   "metadata": {},
   "outputs": [],
   "source": [
    "age_json_file = open(\"./model_age.json\",\"r\")\n",
    "age_loaded_model_json = age_json_file.read()\n",
    "age_json_file.close()"
   ]
  },
  {
   "cell_type": "code",
   "execution_count": 11,
   "metadata": {},
   "outputs": [],
   "source": [
    "age_loaded_model = model_from_json(age_loaded_model_json)"
   ]
  },
  {
   "cell_type": "code",
   "execution_count": 12,
   "metadata": {},
   "outputs": [],
   "source": [
    "age_loaded_model.load_weights(\"./model_age_kopo_weight.h5\")"
   ]
  },
  {
   "cell_type": "code",
   "execution_count": 13,
   "metadata": {},
   "outputs": [],
   "source": [
    "import cv2\n",
    "import sys\n",
    "\n",
    "\n",
    "font = cv2.FONT_HERSHEY_SIMPLEX\n",
    "faceCascade = cv2.CascadeClassifier('haarcascade_frontalface_default.xml')"
   ]
  },
  {
   "cell_type": "code",
   "execution_count": 15,
   "metadata": {},
   "outputs": [],
   "source": [
    "cap = cv2.VideoCapture(0)\n",
    "\n",
    "\n",
    "while(True):\n",
    "    \n",
    "    ret,frame = cap.read()\n",
    "    gray = cv2.cvtColor(frame, cv2.COLOR_BGR2GRAY)\n",
    "    \n",
    "    if ret == False:\n",
    "        break;\n",
    "    \n",
    "    \n",
    "    key = cv2.waitKey(33)\n",
    "    ##얼굴 찾기\n",
    "    faces = faceCascade.detectMultiScale(\n",
    "        gray, scaleFactor=1.5, minNeighbors=5,\n",
    "                 minSize=(30, 30),\n",
    "        flags=cv2.CASCADE_SCALE_IMAGE\n",
    "    )\n",
    "    \n",
    "    # 획득 이미지 회색컬러로 변경\n",
    "    gray_fr = cv2.cvtColor(frame, cv2.COLOR_BGR2GRAY)\n",
    "    \n",
    "    # 인식된 얼굴 주위에 사각형 영역 표시\n",
    "    # haar cascading 통해 face 이미지 추출 후 좌표활용)\n",
    "    for (x, y, w, h) in faces:\n",
    "        fc = gray_fr[y:y+h, x:x+w]\n",
    "\n",
    "        # 획득 이미지 크기조절 및 딥러닝 입력 형태로 변환\n",
    "        roi = cv2.resize(fc, (48, 48))\n",
    "        roip = roi.reshape(1,48,48,1)\n",
    "        roip = roip/255.0\n",
    "             \n",
    "        # 예측 감정\n",
    "        predict = loaded_model.predict(roip)\n",
    "        # 예측 성별\n",
    "        genpredict = gen_loaded_model.predict(roip)\n",
    "        # 나이 예측\n",
    "        agepredict = age_loaded_model.predict(roip)\n",
    "        \n",
    "        # 예측결과 리턴\n",
    "        pred = EMOTIONS_LIST2[np.argmax(predict)]\n",
    "        ##성별\n",
    "        genpred = GENDER_LIST[np.argmax(genpredict)]\n",
    "        #wiki 크롭은 반대로 남여 순서 반대\n",
    "        #genpred = GENDER_WIKILIST[np.argmax(genpredict)]\n",
    "        \n",
    "        #나이\n",
    "        agepred = np.argmax(agepredict)\n",
    "        \n",
    "        # 예측결과 화면 시연 및 사각형 영역 표시\n",
    "        cv2.putText(frame, pred+' ' + genpred + ' ' + str(agepred), (x, y), font, 1, (255, 255, 0), 2)\n",
    "        cv2.rectangle(frame, (x, y), (x+w, y+h), (0, 255, 0), 2)\n",
    "    \n",
    "    \n",
    "    cv2.imshow('color_frame', frame)\n",
    "    \n",
    "    if key==27:\n",
    "        # esc key\n",
    "        break\n",
    "        cap.release()\n",
    "        cv2.destroyAllWindows()\n",
    "    \n",
    "    elif key==32:\n",
    "        cv2.imwrite(\"d:/capture_rec_images.jpg\", frame )\n",
    "        \n",
    "cap.release()\n",
    "cv2.destroyAllWindows()"
   ]
  },
  {
   "cell_type": "code",
   "execution_count": null,
   "metadata": {},
   "outputs": [],
   "source": []
  }
 ],
 "metadata": {
  "kernelspec": {
   "display_name": "Python 3",
   "language": "python",
   "name": "python3"
  },
  "language_info": {
   "codemirror_mode": {
    "name": "ipython",
    "version": 3
   },
   "file_extension": ".py",
   "mimetype": "text/x-python",
   "name": "python",
   "nbconvert_exporter": "python",
   "pygments_lexer": "ipython3",
   "version": "3.7.4"
  }
 },
 "nbformat": 4,
 "nbformat_minor": 2
}
