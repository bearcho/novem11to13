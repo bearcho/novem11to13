{
 "cells": [
  {
   "cell_type": "markdown",
   "metadata": {},
   "source": [
    "### 1. 라이브러리 선언 및 데이터 불러오기"
   ]
  },
  {
   "cell_type": "code",
   "execution_count": 1,
   "metadata": {},
   "outputs": [],
   "source": [
    "import pandas as pd\n",
    "import numpy as np\n",
    "import matplotlib.pyplot as plt\n",
    "%matplotlib inline"
   ]
  },
  {
   "cell_type": "code",
   "execution_count": 4,
   "metadata": {},
   "outputs": [
    {
     "data": {
      "text/html": [
       "<div>\n",
       "<style scoped>\n",
       "    .dataframe tbody tr th:only-of-type {\n",
       "        vertical-align: middle;\n",
       "    }\n",
       "\n",
       "    .dataframe tbody tr th {\n",
       "        vertical-align: top;\n",
       "    }\n",
       "\n",
       "    .dataframe thead th {\n",
       "        text-align: right;\n",
       "    }\n",
       "</style>\n",
       "<table border=\"1\" class=\"dataframe\">\n",
       "  <thead>\n",
       "    <tr style=\"text-align: right;\">\n",
       "      <th></th>\n",
       "      <th>REGIONSEG1</th>\n",
       "      <th>PRODUCTSEG1</th>\n",
       "      <th>PRODUCTSEG2</th>\n",
       "      <th>REGIONSEG2</th>\n",
       "      <th>REGIONSEG3</th>\n",
       "      <th>PRODUCTSEG3</th>\n",
       "      <th>YEARWEEK</th>\n",
       "      <th>YEAR</th>\n",
       "      <th>WEEK</th>\n",
       "      <th>QTY</th>\n",
       "    </tr>\n",
       "  </thead>\n",
       "  <tbody>\n",
       "    <tr>\n",
       "      <td>0</td>\n",
       "      <td>A01</td>\n",
       "      <td>NaN</td>\n",
       "      <td>PG05</td>\n",
       "      <td>SALESID0001</td>\n",
       "      <td>SITEID0004</td>\n",
       "      <td>ITEM0445</td>\n",
       "      <td>201306</td>\n",
       "      <td>2013</td>\n",
       "      <td>6</td>\n",
       "      <td>5</td>\n",
       "    </tr>\n",
       "    <tr>\n",
       "      <td>1</td>\n",
       "      <td>A01</td>\n",
       "      <td>NaN</td>\n",
       "      <td>PG05</td>\n",
       "      <td>SALESID0001</td>\n",
       "      <td>SITEID0004</td>\n",
       "      <td>ITEM0445</td>\n",
       "      <td>201307</td>\n",
       "      <td>2013</td>\n",
       "      <td>7</td>\n",
       "      <td>8</td>\n",
       "    </tr>\n",
       "    <tr>\n",
       "      <td>2</td>\n",
       "      <td>A01</td>\n",
       "      <td>NaN</td>\n",
       "      <td>PG05</td>\n",
       "      <td>SALESID0001</td>\n",
       "      <td>SITEID0004</td>\n",
       "      <td>ITEM0445</td>\n",
       "      <td>201308</td>\n",
       "      <td>2013</td>\n",
       "      <td>8</td>\n",
       "      <td>7</td>\n",
       "    </tr>\n",
       "    <tr>\n",
       "      <td>3</td>\n",
       "      <td>A01</td>\n",
       "      <td>NaN</td>\n",
       "      <td>PG05</td>\n",
       "      <td>SALESID0001</td>\n",
       "      <td>SITEID0004</td>\n",
       "      <td>ITEM0445</td>\n",
       "      <td>201309</td>\n",
       "      <td>2013</td>\n",
       "      <td>9</td>\n",
       "      <td>1</td>\n",
       "    </tr>\n",
       "    <tr>\n",
       "      <td>4</td>\n",
       "      <td>A01</td>\n",
       "      <td>NaN</td>\n",
       "      <td>PG05</td>\n",
       "      <td>SALESID0001</td>\n",
       "      <td>SITEID0004</td>\n",
       "      <td>ITEM0445</td>\n",
       "      <td>201310</td>\n",
       "      <td>2013</td>\n",
       "      <td>10</td>\n",
       "      <td>1</td>\n",
       "    </tr>\n",
       "  </tbody>\n",
       "</table>\n",
       "</div>"
      ],
      "text/plain": [
       "  REGIONSEG1  PRODUCTSEG1 PRODUCTSEG2   REGIONSEG2  REGIONSEG3 PRODUCTSEG3  \\\n",
       "0        A01          NaN        PG05  SALESID0001  SITEID0004    ITEM0445   \n",
       "1        A01          NaN        PG05  SALESID0001  SITEID0004    ITEM0445   \n",
       "2        A01          NaN        PG05  SALESID0001  SITEID0004    ITEM0445   \n",
       "3        A01          NaN        PG05  SALESID0001  SITEID0004    ITEM0445   \n",
       "4        A01          NaN        PG05  SALESID0001  SITEID0004    ITEM0445   \n",
       "\n",
       "   YEARWEEK  YEAR  WEEK  QTY  \n",
       "0    201306  2013     6    5  \n",
       "1    201307  2013     7    8  \n",
       "2    201308  2013     8    7  \n",
       "3    201309  2013     9    1  \n",
       "4    201310  2013    10    1  "
      ]
     },
     "execution_count": 4,
     "metadata": {},
     "output_type": "execute_result"
    }
   ],
   "source": [
    "# ## 1. 데이터 불러오기\n",
    "\n",
    "salesData = pd.read_csv(\"./dataset/pro_actual_sales.csv\")\n",
    "salesData.columns = salesData.columns.str.upper() \n",
    "salesData.head()"
   ]
  },
  {
   "cell_type": "markdown",
   "metadata": {},
   "source": [
    "### 2. 데이터 정제 (2년 이상 실적 자료 정제 및 53주차 제거된 풀데이터 셋)"
   ]
  },
  {
   "cell_type": "code",
   "execution_count": 5,
   "metadata": {},
   "outputs": [
    {
     "data": {
      "text/plain": [
       "<pandas.core.groupby.generic.DataFrameGroupBy object at 0x0000023E382038C8>"
      ]
     },
     "execution_count": 5,
     "metadata": {},
     "output_type": "execute_result"
    }
   ],
   "source": [
    "# ##### 제품 별로 데이터 나누기\n",
    "\n",
    "groupkey = [\"REGIONSEG1\",\"REGIONSEG2\",\"REGIONSEG3\",\"PRODUCTSEG2\",\"PRODUCTSEG3\"]\n",
    "groupData = salesData.groupby(groupkey)['YEARWEEK','YEAR','WEEK','QTY']\n",
    "groupData"
   ]
  },
  {
   "cell_type": "code",
   "execution_count": 6,
   "metadata": {},
   "outputs": [],
   "source": [
    "groupsData = salesData.groupby(groupkey)[\"YEARWEEK\"].agg([\"count\"]).reset_index()"
   ]
  },
  {
   "cell_type": "code",
   "execution_count": 7,
   "metadata": {},
   "outputs": [],
   "source": [
    "groupsData = groupsData.rename(columns={\"count\":\"KNOB\"})"
   ]
  },
  {
   "cell_type": "code",
   "execution_count": 8,
   "metadata": {},
   "outputs": [],
   "source": [
    "# 모든 데이터를 key(groupKey)와 data로 나누고 매칭시켜 딕셔너리로 변환할건데,  \n",
    "# seq_length를 고려해서 52주차 이상의 실적이 있는 데이터만 선별하여 담는다."
   ]
  },
  {
   "cell_type": "code",
   "execution_count": 9,
   "metadata": {},
   "outputs": [
    {
     "data": {
      "text/plain": [
       "96"
      ]
     },
     "execution_count": 9,
     "metadata": {},
     "output_type": "execute_result"
    }
   ],
   "source": [
    "joinData = pd.merge(left=salesData, right=groupsData,on=groupkey)\n",
    "\n",
    "maxKnob = 104\n",
    "\n",
    "cleansedData = joinData[joinData.KNOB >= maxKnob]\n",
    "\n",
    "len(cleansedData.PRODUCTSEG3.drop_duplicates())"
   ]
  },
  {
   "cell_type": "code",
   "execution_count": 10,
   "metadata": {},
   "outputs": [],
   "source": [
    "# # normalizing\n",
    "\n",
    "# newqty=[]\n",
    "\n",
    "# for i in range(0,len(each_data)):\n",
    "#     maxval = each_data[i][\"QTY\"].max()\n",
    "#     each_data[i][\"QTY\"].values.astype('float')\n",
    "#     tmpqty= each_data[i][\"QTY\"].values #/maxval\n",
    "#     newqty.append(tmpqty)\n",
    "    \n",
    "#     each_data[i][\"NEW_QTY\"]=\"\"\n",
    "#     each_data[i][\"NEW_QTY\"]=tmpqty"
   ]
  },
  {
   "cell_type": "code",
   "execution_count": 11,
   "metadata": {},
   "outputs": [],
   "source": [
    "eachItem = cleansedData[(cleansedData.PRODUCTSEG3 ==\"ITEM0110\") &\n",
    "                        (cleansedData.REGIONSEG3 == \"SITEID0004\")]"
   ]
  },
  {
   "cell_type": "code",
   "execution_count": 12,
   "metadata": {},
   "outputs": [],
   "source": [
    "eachItem2 = eachItem.reset_index(drop=True)"
   ]
  },
  {
   "cell_type": "code",
   "execution_count": 13,
   "metadata": {},
   "outputs": [
    {
     "data": {
      "text/plain": [
       "154"
      ]
     },
     "execution_count": 13,
     "metadata": {},
     "output_type": "execute_result"
    }
   ],
   "source": [
    "len(eachItem)"
   ]
  },
  {
   "cell_type": "code",
   "execution_count": 14,
   "metadata": {},
   "outputs": [
    {
     "data": {
      "text/html": [
       "<div>\n",
       "<style scoped>\n",
       "    .dataframe tbody tr th:only-of-type {\n",
       "        vertical-align: middle;\n",
       "    }\n",
       "\n",
       "    .dataframe tbody tr th {\n",
       "        vertical-align: top;\n",
       "    }\n",
       "\n",
       "    .dataframe thead th {\n",
       "        text-align: right;\n",
       "    }\n",
       "</style>\n",
       "<table border=\"1\" class=\"dataframe\">\n",
       "  <thead>\n",
       "    <tr style=\"text-align: right;\">\n",
       "      <th></th>\n",
       "      <th>PRODUCTSEG1</th>\n",
       "      <th>YEARWEEK</th>\n",
       "      <th>YEAR</th>\n",
       "      <th>WEEK</th>\n",
       "      <th>QTY</th>\n",
       "      <th>KNOB</th>\n",
       "    </tr>\n",
       "  </thead>\n",
       "  <tbody>\n",
       "    <tr>\n",
       "      <td>count</td>\n",
       "      <td>0.0</td>\n",
       "      <td>154.000000</td>\n",
       "      <td>154.000000</td>\n",
       "      <td>154.000000</td>\n",
       "      <td>154.000000</td>\n",
       "      <td>154.0</td>\n",
       "    </tr>\n",
       "    <tr>\n",
       "      <td>mean</td>\n",
       "      <td>NaN</td>\n",
       "      <td>201481.818182</td>\n",
       "      <td>2014.551948</td>\n",
       "      <td>26.623377</td>\n",
       "      <td>148.123377</td>\n",
       "      <td>154.0</td>\n",
       "    </tr>\n",
       "    <tr>\n",
       "      <td>std</td>\n",
       "      <td>NaN</td>\n",
       "      <td>88.519593</td>\n",
       "      <td>0.943102</td>\n",
       "      <td>15.300510</td>\n",
       "      <td>179.190202</td>\n",
       "      <td>0.0</td>\n",
       "    </tr>\n",
       "    <tr>\n",
       "      <td>min</td>\n",
       "      <td>NaN</td>\n",
       "      <td>201331.000000</td>\n",
       "      <td>2013.000000</td>\n",
       "      <td>1.000000</td>\n",
       "      <td>8.000000</td>\n",
       "      <td>154.0</td>\n",
       "    </tr>\n",
       "    <tr>\n",
       "      <td>25%</td>\n",
       "      <td>NaN</td>\n",
       "      <td>201417.250000</td>\n",
       "      <td>2014.000000</td>\n",
       "      <td>13.250000</td>\n",
       "      <td>56.000000</td>\n",
       "      <td>154.0</td>\n",
       "    </tr>\n",
       "    <tr>\n",
       "      <td>50%</td>\n",
       "      <td>NaN</td>\n",
       "      <td>201503.500000</td>\n",
       "      <td>2015.000000</td>\n",
       "      <td>26.000000</td>\n",
       "      <td>76.500000</td>\n",
       "      <td>154.0</td>\n",
       "    </tr>\n",
       "    <tr>\n",
       "      <td>75%</td>\n",
       "      <td>NaN</td>\n",
       "      <td>201541.750000</td>\n",
       "      <td>2015.000000</td>\n",
       "      <td>40.000000</td>\n",
       "      <td>139.250000</td>\n",
       "      <td>154.0</td>\n",
       "    </tr>\n",
       "    <tr>\n",
       "      <td>max</td>\n",
       "      <td>NaN</td>\n",
       "      <td>201627.000000</td>\n",
       "      <td>2016.000000</td>\n",
       "      <td>53.000000</td>\n",
       "      <td>1147.000000</td>\n",
       "      <td>154.0</td>\n",
       "    </tr>\n",
       "  </tbody>\n",
       "</table>\n",
       "</div>"
      ],
      "text/plain": [
       "       PRODUCTSEG1       YEARWEEK         YEAR        WEEK          QTY   KNOB\n",
       "count          0.0     154.000000   154.000000  154.000000   154.000000  154.0\n",
       "mean           NaN  201481.818182  2014.551948   26.623377   148.123377  154.0\n",
       "std            NaN      88.519593     0.943102   15.300510   179.190202    0.0\n",
       "min            NaN  201331.000000  2013.000000    1.000000     8.000000  154.0\n",
       "25%            NaN  201417.250000  2014.000000   13.250000    56.000000  154.0\n",
       "50%            NaN  201503.500000  2015.000000   26.000000    76.500000  154.0\n",
       "75%            NaN  201541.750000  2015.000000   40.000000   139.250000  154.0\n",
       "max            NaN  201627.000000  2016.000000   53.000000  1147.000000  154.0"
      ]
     },
     "execution_count": 14,
     "metadata": {},
     "output_type": "execute_result"
    }
   ],
   "source": [
    "eachItem2.describe()"
   ]
  },
  {
   "cell_type": "markdown",
   "metadata": {},
   "source": [
    "### 데이터 분리"
   ]
  },
  {
   "cell_type": "code",
   "execution_count": 15,
   "metadata": {},
   "outputs": [],
   "source": [
    "trainData = eachItem2[ (eachItem2.YEARWEEK >= 201401) &\n",
    "                       (eachItem2.YEARWEEK < 201553) ].reset_index(drop=True)"
   ]
  },
  {
   "cell_type": "code",
   "execution_count": 16,
   "metadata": {},
   "outputs": [],
   "source": [
    "testData = eachItem2[ (eachItem2.YEARWEEK > 201600)].reset_index(drop=True)"
   ]
  },
  {
   "cell_type": "markdown",
   "metadata": {},
   "source": [
    "### 모델 생성"
   ]
  },
  {
   "cell_type": "code",
   "execution_count": 17,
   "metadata": {},
   "outputs": [],
   "source": [
    "import warnings\n",
    "\n",
    "warnings.filterwarnings(action=\"ignore\")\n",
    "import statsmodels.api as sm\n",
    "from statsmodels.tsa.api import ExponentialSmoothing , SimpleExpSmoothing \n",
    "\n",
    "import matplotlib.pyplot as plt\n",
    "%matplotlib inline"
   ]
  },
  {
   "cell_type": "code",
   "execution_count": 18,
   "metadata": {},
   "outputs": [
    {
     "data": {
      "text/html": [
       "<div>\n",
       "<style scoped>\n",
       "    .dataframe tbody tr th:only-of-type {\n",
       "        vertical-align: middle;\n",
       "    }\n",
       "\n",
       "    .dataframe tbody tr th {\n",
       "        vertical-align: top;\n",
       "    }\n",
       "\n",
       "    .dataframe thead th {\n",
       "        text-align: right;\n",
       "    }\n",
       "</style>\n",
       "<table border=\"1\" class=\"dataframe\">\n",
       "  <thead>\n",
       "    <tr style=\"text-align: right;\">\n",
       "      <th></th>\n",
       "      <th>REGIONSEG1</th>\n",
       "      <th>PRODUCTSEG1</th>\n",
       "      <th>PRODUCTSEG2</th>\n",
       "      <th>REGIONSEG2</th>\n",
       "      <th>REGIONSEG3</th>\n",
       "      <th>PRODUCTSEG3</th>\n",
       "      <th>YEARWEEK</th>\n",
       "      <th>YEAR</th>\n",
       "      <th>WEEK</th>\n",
       "      <th>QTY</th>\n",
       "      <th>KNOB</th>\n",
       "    </tr>\n",
       "  </thead>\n",
       "  <tbody>\n",
       "    <tr>\n",
       "      <td>0</td>\n",
       "      <td>A01</td>\n",
       "      <td>NaN</td>\n",
       "      <td>PG01</td>\n",
       "      <td>SALESID0001</td>\n",
       "      <td>SITEID0004</td>\n",
       "      <td>ITEM0110</td>\n",
       "      <td>201401</td>\n",
       "      <td>2014</td>\n",
       "      <td>1</td>\n",
       "      <td>35</td>\n",
       "      <td>154</td>\n",
       "    </tr>\n",
       "    <tr>\n",
       "      <td>1</td>\n",
       "      <td>A01</td>\n",
       "      <td>NaN</td>\n",
       "      <td>PG01</td>\n",
       "      <td>SALESID0001</td>\n",
       "      <td>SITEID0004</td>\n",
       "      <td>ITEM0110</td>\n",
       "      <td>201402</td>\n",
       "      <td>2014</td>\n",
       "      <td>2</td>\n",
       "      <td>46</td>\n",
       "      <td>154</td>\n",
       "    </tr>\n",
       "    <tr>\n",
       "      <td>2</td>\n",
       "      <td>A01</td>\n",
       "      <td>NaN</td>\n",
       "      <td>PG01</td>\n",
       "      <td>SALESID0001</td>\n",
       "      <td>SITEID0004</td>\n",
       "      <td>ITEM0110</td>\n",
       "      <td>201403</td>\n",
       "      <td>2014</td>\n",
       "      <td>3</td>\n",
       "      <td>65</td>\n",
       "      <td>154</td>\n",
       "    </tr>\n",
       "    <tr>\n",
       "      <td>3</td>\n",
       "      <td>A01</td>\n",
       "      <td>NaN</td>\n",
       "      <td>PG01</td>\n",
       "      <td>SALESID0001</td>\n",
       "      <td>SITEID0004</td>\n",
       "      <td>ITEM0110</td>\n",
       "      <td>201404</td>\n",
       "      <td>2014</td>\n",
       "      <td>4</td>\n",
       "      <td>59</td>\n",
       "      <td>154</td>\n",
       "    </tr>\n",
       "    <tr>\n",
       "      <td>4</td>\n",
       "      <td>A01</td>\n",
       "      <td>NaN</td>\n",
       "      <td>PG01</td>\n",
       "      <td>SALESID0001</td>\n",
       "      <td>SITEID0004</td>\n",
       "      <td>ITEM0110</td>\n",
       "      <td>201405</td>\n",
       "      <td>2014</td>\n",
       "      <td>5</td>\n",
       "      <td>40</td>\n",
       "      <td>154</td>\n",
       "    </tr>\n",
       "  </tbody>\n",
       "</table>\n",
       "</div>"
      ],
      "text/plain": [
       "  REGIONSEG1  PRODUCTSEG1 PRODUCTSEG2   REGIONSEG2  REGIONSEG3 PRODUCTSEG3  \\\n",
       "0        A01          NaN        PG01  SALESID0001  SITEID0004    ITEM0110   \n",
       "1        A01          NaN        PG01  SALESID0001  SITEID0004    ITEM0110   \n",
       "2        A01          NaN        PG01  SALESID0001  SITEID0004    ITEM0110   \n",
       "3        A01          NaN        PG01  SALESID0001  SITEID0004    ITEM0110   \n",
       "4        A01          NaN        PG01  SALESID0001  SITEID0004    ITEM0110   \n",
       "\n",
       "   YEARWEEK  YEAR  WEEK  QTY  KNOB  \n",
       "0    201401  2014     1   35   154  \n",
       "1    201402  2014     2   46   154  \n",
       "2    201403  2014     3   65   154  \n",
       "3    201404  2014     4   59   154  \n",
       "4    201405  2014     5   40   154  "
      ]
     },
     "execution_count": 18,
     "metadata": {},
     "output_type": "execute_result"
    }
   ],
   "source": [
    "trainData.head()"
   ]
  },
  {
   "cell_type": "code",
   "execution_count": 19,
   "metadata": {},
   "outputs": [
    {
     "data": {
      "image/png": "[encoded data removed]",
      "text/plain": [
       "<Figure size 432x288 with 4 Axes>"
      ]
     },
     "execution_count": 19,
     "metadata": {},
     "output_type": "execute_result"
    },
    {
     "data": {
      "image/png": "[encoded data removed]",
      "text/plain": [
       "<Figure size 432x288 with 4 Axes>"
      ]
     },
     "metadata": {
      "needs_background": "light"
     },
     "output_type": "display_data"
    }
   ],
   "source": [
    "trainData_a = trainData.set_index(\"YEARWEEK\")\n",
    "\n",
    "a = sm.tsa.seasonal_decompose(trainData.QTY,model= \"add\", freq=52)\n",
    "a.plot()"
   ]
  },
  {
   "cell_type": "code",
   "execution_count": 24,
   "metadata": {},
   "outputs": [],
   "source": [
    "M = 'multiplicative'\n",
    "A = 'additive'\n",
    "model_ETS = ExponentialSmoothing(trainData.QTY,  trend=M, seasonal=M,  seasonal_periods=52 )"
   ]
  },
  {
   "cell_type": "code",
   "execution_count": 25,
   "metadata": {},
   "outputs": [],
   "source": [
    "# p,q value define (1,2)\n",
    "model_ARMA = sm.tsa.ARMA(trainData.QTY, (1,2))"
   ]
  },
  {
   "cell_type": "code",
   "execution_count": 26,
   "metadata": {},
   "outputs": [
    {
     "data": {
      "text/html": [
       "<table class=\"simpletable\">\n",
       "<caption>Statespace Model Results</caption>\n",
       "<tr>\n",
       "  <th>Dep. Variable:</th>           <td>y</td>        <th>  No. Observations:  </th>    <td>104</td>  \n",
       "</tr>\n",
       "<tr>\n",
       "  <th>Model:</th>           <td>SARIMAX(1, 0, 1)</td> <th>  Log Likelihood     </th> <td>-645.188</td>\n",
       "</tr>\n",
       "<tr>\n",
       "  <th>Date:</th>            <td>Sun, 10 Nov 2019</td> <th>  AIC                </th> <td>1298.375</td>\n",
       "</tr>\n",
       "<tr>\n",
       "  <th>Time:</th>                <td>21:19:12</td>     <th>  BIC                </th> <td>1308.953</td>\n",
       "</tr>\n",
       "<tr>\n",
       "  <th>Sample:</th>                  <td>0</td>        <th>  HQIC               </th> <td>1302.660</td>\n",
       "</tr>\n",
       "<tr>\n",
       "  <th></th>                      <td> - 104</td>      <th>                     </th>     <td> </td>   \n",
       "</tr>\n",
       "<tr>\n",
       "  <th>Covariance Type:</th>        <td>opg</td>       <th>                     </th>     <td> </td>   \n",
       "</tr>\n",
       "</table>\n",
       "<table class=\"simpletable\">\n",
       "<tr>\n",
       "      <td></td>         <th>coef</th>     <th>std err</th>      <th>z</th>      <th>P>|z|</th>  <th>[0.025</th>    <th>0.975]</th>  \n",
       "</tr>\n",
       "<tr>\n",
       "  <th>intercept</th> <td>   89.0420</td> <td>   39.110</td> <td>    2.277</td> <td> 0.023</td> <td>   12.387</td> <td>  165.697</td>\n",
       "</tr>\n",
       "<tr>\n",
       "  <th>ar.L1</th>     <td>    0.4361</td> <td>    0.102</td> <td>    4.291</td> <td> 0.000</td> <td>    0.237</td> <td>    0.635</td>\n",
       "</tr>\n",
       "<tr>\n",
       "  <th>ma.L1</th>     <td>    0.6063</td> <td>    0.124</td> <td>    4.887</td> <td> 0.000</td> <td>    0.363</td> <td>    0.850</td>\n",
       "</tr>\n",
       "<tr>\n",
       "  <th>sigma2</th>    <td> 1.417e+04</td> <td> 1244.307</td> <td>   11.385</td> <td> 0.000</td> <td> 1.17e+04</td> <td> 1.66e+04</td>\n",
       "</tr>\n",
       "</table>\n",
       "<table class=\"simpletable\">\n",
       "<tr>\n",
       "  <th>Ljung-Box (Q):</th>          <td>27.20</td> <th>  Jarque-Bera (JB):  </th> <td>505.74</td>\n",
       "</tr>\n",
       "<tr>\n",
       "  <th>Prob(Q):</th>                <td>0.94</td>  <th>  Prob(JB):          </th>  <td>0.00</td> \n",
       "</tr>\n",
       "<tr>\n",
       "  <th>Heteroskedasticity (H):</th> <td>1.76</td>  <th>  Skew:              </th>  <td>2.25</td> \n",
       "</tr>\n",
       "<tr>\n",
       "  <th>Prob(H) (two-sided):</th>    <td>0.10</td>  <th>  Kurtosis:          </th>  <td>12.82</td>\n",
       "</tr>\n",
       "</table><br/><br/>Warnings:<br/>[1] Covariance matrix calculated using the outer product of gradients (complex-step)."
      ],
      "text/plain": [
       "<class 'statsmodels.iolib.summary.Summary'>\n",
       "\"\"\"\n",
       "                           Statespace Model Results                           \n",
       "==============================================================================\n",
       "Dep. Variable:                      y   No. Observations:                  104\n",
       "Model:               SARIMAX(1, 0, 1)   Log Likelihood                -645.188\n",
       "Date:                Sun, 10 Nov 2019   AIC                           1298.375\n",
       "Time:                        21:19:12   BIC                           1308.953\n",
       "Sample:                             0   HQIC                          1302.660\n",
       "                                - 104                                         \n",
       "Covariance Type:                  opg                                         \n",
       "==============================================================================\n",
       "                 coef    std err          z      P>|z|      [0.025      0.975]\n",
       "------------------------------------------------------------------------------\n",
       "intercept     89.0420     39.110      2.277      0.023      12.387     165.697\n",
       "ar.L1          0.4361      0.102      4.291      0.000       0.237       0.635\n",
       "ma.L1          0.6063      0.124      4.887      0.000       0.363       0.850\n",
       "sigma2      1.417e+04   1244.307     11.385      0.000    1.17e+04    1.66e+04\n",
       "===================================================================================\n",
       "Ljung-Box (Q):                       27.20   Jarque-Bera (JB):               505.74\n",
       "Prob(Q):                              0.94   Prob(JB):                         0.00\n",
       "Heteroskedasticity (H):               1.76   Skew:                             2.25\n",
       "Prob(H) (two-sided):                  0.10   Kurtosis:                        12.82\n",
       "===================================================================================\n",
       "\n",
       "Warnings:\n",
       "[1] Covariance matrix calculated using the outer product of gradients (complex-step).\n",
       "\"\"\""
      ]
     },
     "execution_count": 26,
     "metadata": {},
     "output_type": "execute_result"
    }
   ],
   "source": [
    "from pmdarima import auto_arima   \n",
    "\n",
    "auto_arima(trainData.QTY).summary()"
   ]
  },
  {
   "cell_type": "code",
   "execution_count": 27,
   "metadata": {},
   "outputs": [
    {
     "data": {
      "text/html": [
       "<table class=\"simpletable\">\n",
       "<caption>Statespace Model Results</caption>\n",
       "<tr>\n",
       "  <th>Dep. Variable:</th>           <td>y</td>        <th>  No. Observations:  </th>    <td>104</td>  \n",
       "</tr>\n",
       "<tr>\n",
       "  <th>Model:</th>           <td>SARIMAX(1, 0, 1)</td> <th>  Log Likelihood     </th> <td>-645.188</td>\n",
       "</tr>\n",
       "<tr>\n",
       "  <th>Date:</th>            <td>Sun, 10 Nov 2019</td> <th>  AIC                </th> <td>1298.375</td>\n",
       "</tr>\n",
       "<tr>\n",
       "  <th>Time:</th>                <td>21:19:31</td>     <th>  BIC                </th> <td>1308.953</td>\n",
       "</tr>\n",
       "<tr>\n",
       "  <th>Sample:</th>                  <td>0</td>        <th>  HQIC               </th> <td>1302.660</td>\n",
       "</tr>\n",
       "<tr>\n",
       "  <th></th>                      <td> - 104</td>      <th>                     </th>     <td> </td>   \n",
       "</tr>\n",
       "<tr>\n",
       "  <th>Covariance Type:</th>        <td>opg</td>       <th>                     </th>     <td> </td>   \n",
       "</tr>\n",
       "</table>\n",
       "<table class=\"simpletable\">\n",
       "<tr>\n",
       "      <td></td>         <th>coef</th>     <th>std err</th>      <th>z</th>      <th>P>|z|</th>  <th>[0.025</th>    <th>0.975]</th>  \n",
       "</tr>\n",
       "<tr>\n",
       "  <th>intercept</th> <td>   89.0420</td> <td>   39.110</td> <td>    2.277</td> <td> 0.023</td> <td>   12.387</td> <td>  165.697</td>\n",
       "</tr>\n",
       "<tr>\n",
       "  <th>ar.L1</th>     <td>    0.4361</td> <td>    0.102</td> <td>    4.291</td> <td> 0.000</td> <td>    0.237</td> <td>    0.635</td>\n",
       "</tr>\n",
       "<tr>\n",
       "  <th>ma.L1</th>     <td>    0.6063</td> <td>    0.124</td> <td>    4.887</td> <td> 0.000</td> <td>    0.363</td> <td>    0.850</td>\n",
       "</tr>\n",
       "<tr>\n",
       "  <th>sigma2</th>    <td> 1.417e+04</td> <td> 1244.307</td> <td>   11.385</td> <td> 0.000</td> <td> 1.17e+04</td> <td> 1.66e+04</td>\n",
       "</tr>\n",
       "</table>\n",
       "<table class=\"simpletable\">\n",
       "<tr>\n",
       "  <th>Ljung-Box (Q):</th>          <td>27.20</td> <th>  Jarque-Bera (JB):  </th> <td>505.74</td>\n",
       "</tr>\n",
       "<tr>\n",
       "  <th>Prob(Q):</th>                <td>0.94</td>  <th>  Prob(JB):          </th>  <td>0.00</td> \n",
       "</tr>\n",
       "<tr>\n",
       "  <th>Heteroskedasticity (H):</th> <td>1.76</td>  <th>  Skew:              </th>  <td>2.25</td> \n",
       "</tr>\n",
       "<tr>\n",
       "  <th>Prob(H) (two-sided):</th>    <td>0.10</td>  <th>  Kurtosis:          </th>  <td>12.82</td>\n",
       "</tr>\n",
       "</table><br/><br/>Warnings:<br/>[1] Covariance matrix calculated using the outer product of gradients (complex-step)."
      ],
      "text/plain": [
       "<class 'statsmodels.iolib.summary.Summary'>\n",
       "\"\"\"\n",
       "                           Statespace Model Results                           \n",
       "==============================================================================\n",
       "Dep. Variable:                      y   No. Observations:                  104\n",
       "Model:               SARIMAX(1, 0, 1)   Log Likelihood                -645.188\n",
       "Date:                Sun, 10 Nov 2019   AIC                           1298.375\n",
       "Time:                        21:19:31   BIC                           1308.953\n",
       "Sample:                             0   HQIC                          1302.660\n",
       "                                - 104                                         \n",
       "Covariance Type:                  opg                                         \n",
       "==============================================================================\n",
       "                 coef    std err          z      P>|z|      [0.025      0.975]\n",
       "------------------------------------------------------------------------------\n",
       "intercept     89.0420     39.110      2.277      0.023      12.387     165.697\n",
       "ar.L1          0.4361      0.102      4.291      0.000       0.237       0.635\n",
       "ma.L1          0.6063      0.124      4.887      0.000       0.363       0.850\n",
       "sigma2      1.417e+04   1244.307     11.385      0.000    1.17e+04    1.66e+04\n",
       "===================================================================================\n",
       "Ljung-Box (Q):                       27.20   Jarque-Bera (JB):               505.74\n",
       "Prob(Q):                              0.94   Prob(JB):                         0.00\n",
       "Heteroskedasticity (H):               1.76   Skew:                             2.25\n",
       "Prob(H) (two-sided):                  0.10   Kurtosis:                        12.82\n",
       "===================================================================================\n",
       "\n",
       "Warnings:\n",
       "[1] Covariance matrix calculated using the outer product of gradients (complex-step).\n",
       "\"\"\""
      ]
     },
     "execution_count": 27,
     "metadata": {},
     "output_type": "execute_result"
    }
   ],
   "source": [
    "from pmdarima import auto_arima   \n",
    "\n",
    "auto_arima(trainData.QTY).summary()"
   ]
  },
  {
   "cell_type": "code",
   "execution_count": 28,
   "metadata": {},
   "outputs": [],
   "source": [
    "from statsmodels.tsa.statespace.sarimax import SARIMAX\n",
    "\n",
    "model_ARIMA = SARIMAX(trainData['QTY'], order = (1,0,1))"
   ]
  },
  {
   "cell_type": "markdown",
   "metadata": {},
   "source": [
    "### 모델 훈련"
   ]
  },
  {
   "cell_type": "markdown",
   "metadata": {},
   "source": [
    "### 1. ets 모델"
   ]
  },
  {
   "cell_type": "code",
   "execution_count": 29,
   "metadata": {
    "scrolled": true
   },
   "outputs": [
    {
     "name": "stdout",
     "output_type": "stream",
     "text": [
      "                       ExponentialSmoothing Model Results                       \n",
      "================================================================================\n",
      "Dep. Variable:                    endog   No. Observations:                  104\n",
      "Model:             ExponentialSmoothing   SSE                         293067.412\n",
      "Optimized:                         True   AIC                            938.152\n",
      "Trend:                   Multiplicative   BIC                           1086.238\n",
      "Seasonal:                Multiplicative   AICC                          1090.241\n",
      "Seasonal Periods:                    52   Date:                 Sun, 10 Nov 2019\n",
      "Box-Cox:                          False   Time:                         21:19:34\n",
      "Box-Cox Coeff.:                    None                                         \n",
      "=================================================================================\n",
      "                          coeff                 code              optimized      \n",
      "---------------------------------------------------------------------------------\n",
      "smoothing_level               0.5789474                alpha                 True\n",
      "smoothing_slope               0.0526312                 beta                 True\n",
      "smoothing_seasonal            0.4210526                gamma                 True\n",
      "initial_level                 84.499471                  l.0                 True\n",
      "initial_slope                 0.9969886                  b.0                 True\n",
      "initial_seasons.0             0.9812172                  s.0                 True\n",
      "initial_seasons.1             0.6650550                  s.1                 True\n",
      "initial_seasons.2             0.6558620                  s.2                 True\n",
      "initial_seasons.3             0.7939264                  s.3                 True\n",
      "initial_seasons.4             0.4465383                  s.4                 True\n",
      "initial_seasons.5             0.7751675                  s.5                 True\n",
      "initial_seasons.6             0.8551678                  s.6                 True\n",
      "initial_seasons.7             1.2832395                  s.7                 True\n",
      "initial_seasons.8             0.7188754                  s.8                 True\n",
      "initial_seasons.9             0.5217628                  s.9                 True\n",
      "initial_seasons.10            0.7082601                 s.10                 True\n",
      "initial_seasons.11            0.6972660                 s.11                 True\n",
      "initial_seasons.12            0.5388348                 s.12                 True\n",
      "initial_seasons.13            0.5933468                 s.13                 True\n",
      "initial_seasons.14            1.1541371                 s.14                 True\n",
      "initial_seasons.15            0.9839748                 s.15                 True\n",
      "initial_seasons.16            1.0856860                 s.16                 True\n",
      "initial_seasons.17            1.1417696                 s.17                 True\n",
      "initial_seasons.18            1.1174024                 s.18                 True\n",
      "initial_seasons.19            1.2443528                 s.19                 True\n",
      "initial_seasons.20            2.2094852                 s.20                 True\n",
      "initial_seasons.21            2.7241074                 s.21                 True\n",
      "initial_seasons.22            1.1759746                 s.22                 True\n",
      "initial_seasons.23            2.7657622                 s.23                 True\n",
      "initial_seasons.24            3.4933469                 s.24                 True\n",
      "initial_seasons.25            4.6273124                 s.25                 True\n",
      "initial_seasons.26            7.1490126                 s.26                 True\n",
      "initial_seasons.27            6.5709303                 s.27                 True\n",
      "initial_seasons.28            2.8552847                 s.28                 True\n",
      "initial_seasons.29            0.8231287                 s.29                 True\n",
      "initial_seasons.30            0.6902610                 s.30                 True\n",
      "initial_seasons.31            0.7040731                 s.31                 True\n",
      "initial_seasons.32            0.8633518                 s.32                 True\n",
      "initial_seasons.33            0.5777271                 s.33                 True\n",
      "initial_seasons.34            1.3149570                 s.34                 True\n",
      "initial_seasons.35            2.1689675                 s.35                 True\n",
      "initial_seasons.36            1.4969694                 s.36                 True\n",
      "initial_seasons.37            0.5683117                 s.37                 True\n",
      "initial_seasons.38            0.6042662                 s.38                 True\n",
      "initial_seasons.39            0.8829427                 s.39                 True\n",
      "initial_seasons.40            1.0910145                 s.40                 True\n",
      "initial_seasons.41            1.3922608                 s.41                 True\n",
      "initial_seasons.42            1.6192865                 s.42                 True\n",
      "initial_seasons.43            1.3109406                 s.43                 True\n",
      "initial_seasons.44            4.6345794                 s.44                 True\n",
      "initial_seasons.45            5.8711395                 s.45                 True\n",
      "initial_seasons.46            6.7811895                 s.46                 True\n",
      "initial_seasons.47            13.521202                 s.47                 True\n",
      "initial_seasons.48            8.8767467                 s.48                 True\n",
      "initial_seasons.49            2.4098181                 s.49                 True\n",
      "initial_seasons.50            1.1903605                 s.50                 True\n",
      "initial_seasons.51            0.8958693                 s.51                 True\n",
      "---------------------------------------------------------------------------------\n"
     ]
    }
   ],
   "source": [
    "result_ETS = model_ETS.fit()\n",
    "print(result_ETS.summary())"
   ]
  },
  {
   "cell_type": "markdown",
   "metadata": {},
   "source": [
    "### 2. auto arima 모델"
   ]
  },
  {
   "cell_type": "code",
   "execution_count": 30,
   "metadata": {},
   "outputs": [
    {
     "data": {
      "text/html": [
       "<table class=\"simpletable\">\n",
       "<caption>Statespace Model Results</caption>\n",
       "<tr>\n",
       "  <th>Dep. Variable:</th>          <td>QTY</td>       <th>  No. Observations:  </th>    <td>104</td>  \n",
       "</tr>\n",
       "<tr>\n",
       "  <th>Model:</th>           <td>SARIMAX(1, 0, 1)</td> <th>  Log Likelihood     </th> <td>-651.728</td>\n",
       "</tr>\n",
       "<tr>\n",
       "  <th>Date:</th>            <td>Sun, 10 Nov 2019</td> <th>  AIC                </th> <td>1309.456</td>\n",
       "</tr>\n",
       "<tr>\n",
       "  <th>Time:</th>                <td>21:19:35</td>     <th>  BIC                </th> <td>1317.389</td>\n",
       "</tr>\n",
       "<tr>\n",
       "  <th>Sample:</th>                  <td>0</td>        <th>  HQIC               </th> <td>1312.670</td>\n",
       "</tr>\n",
       "<tr>\n",
       "  <th></th>                      <td> - 104</td>      <th>                     </th>     <td> </td>   \n",
       "</tr>\n",
       "<tr>\n",
       "  <th>Covariance Type:</th>        <td>opg</td>       <th>                     </th>     <td> </td>   \n",
       "</tr>\n",
       "</table>\n",
       "<table class=\"simpletable\">\n",
       "<tr>\n",
       "     <td></td>       <th>coef</th>     <th>std err</th>      <th>z</th>      <th>P>|z|</th>  <th>[0.025</th>    <th>0.975]</th>  \n",
       "</tr>\n",
       "<tr>\n",
       "  <th>ar.L1</th>  <td>    0.6831</td> <td>    0.057</td> <td>   12.020</td> <td> 0.000</td> <td>    0.572</td> <td>    0.794</td>\n",
       "</tr>\n",
       "<tr>\n",
       "  <th>ma.L1</th>  <td>    0.4972</td> <td>    0.093</td> <td>    5.348</td> <td> 0.000</td> <td>    0.315</td> <td>    0.679</td>\n",
       "</tr>\n",
       "<tr>\n",
       "  <th>sigma2</th> <td> 1.601e+04</td> <td> 1081.071</td> <td>   14.809</td> <td> 0.000</td> <td> 1.39e+04</td> <td> 1.81e+04</td>\n",
       "</tr>\n",
       "</table>\n",
       "<table class=\"simpletable\">\n",
       "<tr>\n",
       "  <th>Ljung-Box (Q):</th>          <td>30.47</td> <th>  Jarque-Bera (JB):  </th> <td>280.00</td>\n",
       "</tr>\n",
       "<tr>\n",
       "  <th>Prob(Q):</th>                <td>0.86</td>  <th>  Prob(JB):          </th>  <td>0.00</td> \n",
       "</tr>\n",
       "<tr>\n",
       "  <th>Heteroskedasticity (H):</th> <td>1.84</td>  <th>  Skew:              </th>  <td>1.24</td> \n",
       "</tr>\n",
       "<tr>\n",
       "  <th>Prob(H) (two-sided):</th>    <td>0.08</td>  <th>  Kurtosis:          </th>  <td>10.65</td>\n",
       "</tr>\n",
       "</table><br/><br/>Warnings:<br/>[1] Covariance matrix calculated using the outer product of gradients (complex-step)."
      ],
      "text/plain": [
       "<class 'statsmodels.iolib.summary.Summary'>\n",
       "\"\"\"\n",
       "                           Statespace Model Results                           \n",
       "==============================================================================\n",
       "Dep. Variable:                    QTY   No. Observations:                  104\n",
       "Model:               SARIMAX(1, 0, 1)   Log Likelihood                -651.728\n",
       "Date:                Sun, 10 Nov 2019   AIC                           1309.456\n",
       "Time:                        21:19:35   BIC                           1317.389\n",
       "Sample:                             0   HQIC                          1312.670\n",
       "                                - 104                                         \n",
       "Covariance Type:                  opg                                         \n",
       "==============================================================================\n",
       "                 coef    std err          z      P>|z|      [0.025      0.975]\n",
       "------------------------------------------------------------------------------\n",
       "ar.L1          0.6831      0.057     12.020      0.000       0.572       0.794\n",
       "ma.L1          0.4972      0.093      5.348      0.000       0.315       0.679\n",
       "sigma2      1.601e+04   1081.071     14.809      0.000    1.39e+04    1.81e+04\n",
       "===================================================================================\n",
       "Ljung-Box (Q):                       30.47   Jarque-Bera (JB):               280.00\n",
       "Prob(Q):                              0.86   Prob(JB):                         0.00\n",
       "Heteroskedasticity (H):               1.84   Skew:                             1.24\n",
       "Prob(H) (two-sided):                  0.08   Kurtosis:                        10.65\n",
       "===================================================================================\n",
       "\n",
       "Warnings:\n",
       "[1] Covariance matrix calculated using the outer product of gradients (complex-step).\n",
       "\"\"\""
      ]
     },
     "execution_count": 30,
     "metadata": {},
     "output_type": "execute_result"
    }
   ],
   "source": [
    "result_ARIMA = model_ARIMA.fit()\n",
    "result_ARIMA.summary()"
   ]
  },
  {
   "cell_type": "markdown",
   "metadata": {},
   "source": [
    "### 3. auto arma 모델"
   ]
  },
  {
   "cell_type": "code",
   "execution_count": 31,
   "metadata": {},
   "outputs": [],
   "source": [
    "### AR (Autoregression), MA(Moving Average)"
   ]
  },
  {
   "cell_type": "code",
   "execution_count": 32,
   "metadata": {},
   "outputs": [],
   "source": [
    "# p,q value define (1,2)\n",
    "model_ARMA = sm.tsa.ARMA(trainData.QTY, (1,2))"
   ]
  },
  {
   "cell_type": "code",
   "execution_count": 33,
   "metadata": {},
   "outputs": [
    {
     "name": "stdout",
     "output_type": "stream",
     "text": [
      "                              ARMA Model Results                              \n",
      "==============================================================================\n",
      "Dep. Variable:                    QTY   No. Observations:                  104\n",
      "Model:                     ARMA(1, 2)   Log Likelihood                -644.690\n",
      "Method:                       css-mle   S.D. of innovations            118.448\n",
      "Date:                Sun, 10 Nov 2019   AIC                           1299.381\n",
      "Time:                        21:19:37   BIC                           1312.603\n",
      "Sample:                             0   HQIC                          1304.737\n",
      "                                                                              \n",
      "==============================================================================\n",
      "                 coef    std err          z      P>|z|      [0.025      0.975]\n",
      "------------------------------------------------------------------------------\n",
      "const        157.0933     35.966      4.368      0.000      86.601     227.585\n",
      "ar.L1.QTY      0.5920      0.158      3.747      0.000       0.282       0.902\n",
      "ma.L1.QTY      0.4335      0.178      2.431      0.017       0.084       0.783\n",
      "ma.L2.QTY     -0.1523      0.146     -1.042      0.300      -0.439       0.134\n",
      "                                    Roots                                    \n",
      "=============================================================================\n",
      "                  Real          Imaginary           Modulus         Frequency\n",
      "-----------------------------------------------------------------------------\n",
      "AR.1            1.6893           +0.0000j            1.6893            0.0000\n",
      "MA.1           -1.5078           +0.0000j            1.5078            0.5000\n",
      "MA.2            4.3537           +0.0000j            4.3537            0.0000\n",
      "-----------------------------------------------------------------------------\n"
     ]
    }
   ],
   "source": [
    "result_ARMA = model_ARMA.fit()\n",
    "print(result_ARMA.summary())"
   ]
  },
  {
   "cell_type": "markdown",
   "metadata": {},
   "source": [
    "### 예측"
   ]
  },
  {
   "cell_type": "code",
   "execution_count": 20,
   "metadata": {},
   "outputs": [
    {
     "data": {
      "text/html": [
       "<div>\n",
       "<style scoped>\n",
       "    .dataframe tbody tr th:only-of-type {\n",
       "        vertical-align: middle;\n",
       "    }\n",
       "\n",
       "    .dataframe tbody tr th {\n",
       "        vertical-align: top;\n",
       "    }\n",
       "\n",
       "    .dataframe thead th {\n",
       "        text-align: right;\n",
       "    }\n",
       "</style>\n",
       "<table border=\"1\" class=\"dataframe\">\n",
       "  <thead>\n",
       "    <tr style=\"text-align: right;\">\n",
       "      <th></th>\n",
       "      <th>PRODUCTSEG1</th>\n",
       "      <th>YEARWEEK</th>\n",
       "      <th>YEAR</th>\n",
       "      <th>WEEK</th>\n",
       "      <th>QTY</th>\n",
       "      <th>KNOB</th>\n",
       "    </tr>\n",
       "  </thead>\n",
       "  <tbody>\n",
       "    <tr>\n",
       "      <td>count</td>\n",
       "      <td>0.0</td>\n",
       "      <td>104.000000</td>\n",
       "      <td>104.000000</td>\n",
       "      <td>104.000000</td>\n",
       "      <td>104.000000</td>\n",
       "      <td>104.0</td>\n",
       "    </tr>\n",
       "    <tr>\n",
       "      <td>mean</td>\n",
       "      <td>NaN</td>\n",
       "      <td>201476.500000</td>\n",
       "      <td>2014.500000</td>\n",
       "      <td>26.500000</td>\n",
       "      <td>160.807692</td>\n",
       "      <td>154.0</td>\n",
       "    </tr>\n",
       "    <tr>\n",
       "      <td>std</td>\n",
       "      <td>NaN</td>\n",
       "      <td>52.456732</td>\n",
       "      <td>0.502421</td>\n",
       "      <td>15.081011</td>\n",
       "      <td>183.768167</td>\n",
       "      <td>0.0</td>\n",
       "    </tr>\n",
       "    <tr>\n",
       "      <td>min</td>\n",
       "      <td>NaN</td>\n",
       "      <td>201401.000000</td>\n",
       "      <td>2014.000000</td>\n",
       "      <td>1.000000</td>\n",
       "      <td>26.000000</td>\n",
       "      <td>154.0</td>\n",
       "    </tr>\n",
       "    <tr>\n",
       "      <td>25%</td>\n",
       "      <td>NaN</td>\n",
       "      <td>201426.750000</td>\n",
       "      <td>2014.000000</td>\n",
       "      <td>13.750000</td>\n",
       "      <td>62.000000</td>\n",
       "      <td>154.0</td>\n",
       "    </tr>\n",
       "    <tr>\n",
       "      <td>50%</td>\n",
       "      <td>NaN</td>\n",
       "      <td>201476.500000</td>\n",
       "      <td>2014.500000</td>\n",
       "      <td>26.500000</td>\n",
       "      <td>86.500000</td>\n",
       "      <td>154.0</td>\n",
       "    </tr>\n",
       "    <tr>\n",
       "      <td>75%</td>\n",
       "      <td>NaN</td>\n",
       "      <td>201526.250000</td>\n",
       "      <td>2015.000000</td>\n",
       "      <td>39.250000</td>\n",
       "      <td>140.500000</td>\n",
       "      <td>154.0</td>\n",
       "    </tr>\n",
       "    <tr>\n",
       "      <td>max</td>\n",
       "      <td>NaN</td>\n",
       "      <td>201552.000000</td>\n",
       "      <td>2015.000000</td>\n",
       "      <td>52.000000</td>\n",
       "      <td>1147.000000</td>\n",
       "      <td>154.0</td>\n",
       "    </tr>\n",
       "  </tbody>\n",
       "</table>\n",
       "</div>"
      ],
      "text/plain": [
       "       PRODUCTSEG1       YEARWEEK         YEAR        WEEK          QTY   KNOB\n",
       "count          0.0     104.000000   104.000000  104.000000   104.000000  104.0\n",
       "mean           NaN  201476.500000  2014.500000   26.500000   160.807692  154.0\n",
       "std            NaN      52.456732     0.502421   15.081011   183.768167    0.0\n",
       "min            NaN  201401.000000  2014.000000    1.000000    26.000000  154.0\n",
       "25%            NaN  201426.750000  2014.000000   13.750000    62.000000  154.0\n",
       "50%            NaN  201476.500000  2014.500000   26.500000    86.500000  154.0\n",
       "75%            NaN  201526.250000  2015.000000   39.250000   140.500000  154.0\n",
       "max            NaN  201552.000000  2015.000000   52.000000  1147.000000  154.0"
      ]
     },
     "execution_count": 20,
     "metadata": {},
     "output_type": "execute_result"
    }
   ],
   "source": [
    "trainData.describe()"
   ]
  },
  {
   "cell_type": "code",
   "execution_count": 34,
   "metadata": {
    "scrolled": true
   },
   "outputs": [
    {
     "data": {
      "text/plain": [
       "<matplotlib.legend.Legend at 0x2007c5c0d30>"
      ]
     },
     "execution_count": 34,
     "metadata": {},
     "output_type": "execute_result"
    },
    {
     "data": {
      "image/png": "[encoded data removed]",
      "text/plain": [
       "<Figure size 432x288 with 1 Axes>"
      ]
     },
     "metadata": {
      "needs_background": "light"
     },
     "output_type": "display_data"
    }
   ],
   "source": [
    "predictValue_arma = result_ARMA.predict(0,26).reset_index(drop=True)\n",
    "predictValue_arima = result_ARIMA.predict(0,26).reset_index(drop=True)\n",
    "predictValue_ets = result_ETS.predict(0,26).reset_index(drop=True)\n",
    "\n",
    "testData[\"PREDICT_ARMA\"] = predictValue_arma\n",
    "testData[\"PREDICT_ETS\"] = predictValue_ets\n",
    "testData[\"PREDICT_ARIMA\"] = predictValue_arima\n",
    "\n",
    "plt.plot(testData.index, testData.QTY)\n",
    "plt.plot(testData.index, testData.PREDICT_ARMA, \"r--\", label=\"ar\")\n",
    "plt.plot(testData.index, testData.PREDICT_ETS, \"b--\", label=\"ets\")\n",
    "plt.plot(testData.index, testData.PREDICT_ARIMA, \"g--\", label=\"arima\")\n",
    "plt.legend()"
   ]
  }
 ],
 "metadata": {
  "kernelspec": {
   "display_name": "Python 3",
   "language": "python",
   "name": "python3"
  },
  "language_info": {
   "codemirror_mode": {
    "name": "ipython",
    "version": 3
   },
   "file_extension": ".py",
   "mimetype": "text/x-python",
   "name": "python",
   "nbconvert_exporter": "python",
   "pygments_lexer": "ipython3",
   "version": "3.7.4"
  }
 },
 "nbformat": 4,
 "nbformat_minor": 2
}
